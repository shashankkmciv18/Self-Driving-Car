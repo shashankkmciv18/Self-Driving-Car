{
 "cells": [
  {
   "cell_type": "code",
   "execution_count": 2,
   "metadata": {},
   "outputs": [],
   "source": [
    "import numpy as np\n",
    "import matplotlib.pyplot as plt\n",
    "import seaborn as sns\n",
    "# Load pickled data\n",
    "import pickle\n",
    "import matplotlib.pyplot as plt\n",
    "\n",
    "# TODO: Fill this in based on where you saved the training and testing data\n",
    "\n",
    "training_file = \"test.p\"\n",
    "validation_file=\"valid.p\"\n",
    "testing_file = \"train.p\"\n",
    "\n",
    "with open(training_file, mode='rb') as f:\n",
    "    train = pickle.load(f)\n",
    "with open(validation_file, mode='rb') as f:\n",
    "    valid = pickle.load(f)\n",
    "with open(testing_file, mode='rb') as f:\n",
    "    test = pickle.load(f)\n",
    "    \n",
    "X_train, y_train = train['features'], train['labels']\n",
    "X_valid, y_valid = valid['features'], valid['labels']\n",
    "\n",
    "X_test, y_test = test['features'], test['labels']"
   ]
  },
  {
   "cell_type": "code",
   "execution_count": 3,
   "metadata": {},
   "outputs": [
    {
     "name": "stdout",
     "output_type": "stream",
     "text": [
      "train=(12630, 32, 32, 3)\n",
      "test=(34799, 32, 32, 3)\n",
      "validate=(4410, 32, 32, 3)\n"
     ]
    },
    {
     "data": {
      "text/plain": [
       "43"
      ]
     },
     "execution_count": 3,
     "metadata": {},
     "output_type": "execute_result"
    }
   ],
   "source": [
    "import numpy as np\n",
    "print('train='+str(X_train.shape))\n",
    "print('test='+str(X_test.shape))\n",
    "print('validate='+str(X_valid.shape))\n",
    "# print(X_train.shape)\n",
    "train_shape=X_train.shape\n",
    "test_shape=X_test.shape\n",
    "valid_shape=X_valid.shape\n",
    "labels_number=len(np.unique(y_train))\n",
    "labels_number"
   ]
  },
  {
   "cell_type": "code",
   "execution_count": 4,
   "metadata": {},
   "outputs": [],
   "source": [
    "##Normalisation\n",
    "X_train=X_train/255.0\n",
    "X_test=X_test/255.0\n",
    "X_valid=X_valid/255.0\n"
   ]
  },
  {
   "cell_type": "code",
   "execution_count": 5,
   "metadata": {},
   "outputs": [],
   "source": [
    "import tensorflow as tf\n",
    "from tensorflow import estimator,metrics,sigmoid,acos\n",
    "from tensorflow import keras\n",
    "from tensorflow.keras.models import Sequential\n",
    "from tensorflow.keras.layers import Dense,MaxPool2D,Dropout,Flatten,Conv2D\n",
    "from tensorflow.keras.activations import relu\n",
    "\n",
    "from tensorflow.keras.optimizers import Adam\n",
    "from tensorflow.keras.models import Sequential\n",
    "from tensorflow.keras.layers import Conv2D, MaxPool2D, Dense, Flatten, Dropout"
   ]
  },
  {
   "cell_type": "code",
   "execution_count": null,
   "metadata": {},
   "outputs": [],
   "source": []
  },
  {
   "cell_type": "code",
   "execution_count": null,
   "metadata": {},
   "outputs": [],
   "source": []
  },
  {
   "cell_type": "code",
   "execution_count": null,
   "metadata": {},
   "outputs": [],
   "source": []
  },
  {
   "cell_type": "code",
   "execution_count": null,
   "metadata": {},
   "outputs": [],
   "source": []
  },
  {
   "cell_type": "code",
   "execution_count": 6,
   "metadata": {},
   "outputs": [],
   "source": [
    "def build_models(hp):\n",
    "    model=Sequential([\n",
    "        Conv2D(\n",
    "            filters=hp.Int('conv_1_filter',min_value=32,max_value=128,step=16),\n",
    "            kernel_size=hp.Choice('conv_1_kernel',values=[3,5]),\n",
    "            activation='relu',\n",
    "            input_shape=(32,32,3)\n",
    "        ),\n",
    "        Dropout(hp.Choice('d1',values=[1e-2,1e-3])),\n",
    "        \n",
    "        Conv2D(filters=hp.Int('conv_2_filter',min_value=32,max_value=64,step=16),\n",
    "               kernel_size=hp.Choice('conv_2_kernel',values=[3,5]),\n",
    "               activation='relu'\n",
    "        ),\n",
    "        Dropout(hp.Float('d2',min_value=1e-3,max_value=1e-1)),\n",
    "\n",
    "        Conv2D(filters=hp.Int('conv_2_filter',min_value=32,max_value=64,step=16),\n",
    "               kernel_size=hp.Choice('conv_2_kernel',values=[3,5]),\n",
    "               activation='relu'\n",
    "        ),\n",
    "        Conv2D(filters=hp.Int('conv_3_filter',min_value=32,max_value=128,step=16),kernel_size=(3,3),padding=\"same\", activation=\"relu\"),\n",
    "        MaxPool2D(pool_size=(2,2),strides=(2,2)),\n",
    "        Conv2D(filters=hp.Int('conv_4_filter',min_value=32,max_value=256,step=16),kernel_size=(3,3),padding=\"same\", activation=\"relu\"),\n",
    "        MaxPool2D(pool_size=(3,3),strides=(3,3)),\n",
    "        \n",
    "        Dense(units=hp.Int('dense_1_units',\n",
    "              min_value=32,max_value=128,step=8),\n",
    "              activation='relu'\n",
    "        ),\n",
    "        Dropout(hp.Float('d3',min_value=1e-3,max_value=1e-1)),\n",
    "\n",
    "        Dense(units=hp.Int('dense_4_units',\n",
    "              min_value=32,max_value=256,step=8),\n",
    "              activation='relu'\n",
    "        ),\n",
    "        \n",
    "#         Flatten(),\n",
    "        Dropout(hp.Float('d4',min_value=1e-3,max_value=1e-1)),\n",
    "        MaxPool2D(pool_size=(3,3),strides=(3,3)),\n",
    "        Dense(units=hp.Int('dense_5_units',\n",
    "              min_value=128,max_value=512,step=32),\n",
    "              activation='relu'\n",
    "        ),\n",
    "        \n",
    "        Dense(43,activation='softmax')\n",
    "    ])\n",
    "    model.compile(optimizer=keras.optimizers.Adam(hp.Choice('learning_rate',values=[1e-1,1e-3])),\n",
    "                 loss='sparse_categorical_crossentropy',\n",
    "                 metrics=['accuracy'])\n",
    "    return model"
   ]
  },
  {
   "cell_type": "code",
   "execution_count": 7,
   "metadata": {},
   "outputs": [],
   "source": [
    "from kerastuner import RandomSearch,HyperParameters #importing HyperParamter and RandomSearch"
   ]
  },
  {
   "cell_type": "code",
   "execution_count": 15,
   "metadata": {},
   "outputs": [],
   "source": [
    "#now using random serch for this model\n",
    "tuner_search=RandomSearch(build_models,objective='val_accuracy',max_trials=5,directory='output',project_name='Mnist')"
   ]
  },
  {
   "cell_type": "code",
   "execution_count": 16,
   "metadata": {
    "scrolled": true
   },
   "outputs": [
    {
     "name": "stdout",
     "output_type": "stream",
     "text": [
      "Train on 12630 samples, validate on 4410 samples\n",
      "Epoch 1/4\n",
      "11744/12630 [==========================>...] - ETA: 9:31 - loss: 3.7597 - accuracy: 0.03 - ETA: 3:17 - loss: 11.4950 - accuracy: 0.041 - ETA: 2:02 - loss: 12.9413 - accuracy: 0.049 - ETA: 1:30 - loss: 13.6331 - accuracy: 0.049 - ETA: 1:12 - loss: 14.0174 - accuracy: 0.048 - ETA: 1:01 - loss: 14.1704 - accuracy: 0.053 - ETA: 53s - loss: 14.2376 - accuracy: 0.060 - ETA: 47s - loss: 14.3876 - accuracy: 0.05 - ETA: 42s - loss: 14.4726 - accuracy: 0.05 - ETA: 39s - loss: 14.5928 - accuracy: 0.05 - ETA: 36s - loss: 14.5942 - accuracy: 0.05 - ETA: 33s - loss: 14.6172 - accuracy: 0.06 - ETA: 31s - loss: 14.6567 - accuracy: 0.06 - ETA: 30s - loss: 14.6157 - accuracy: 0.06 - ETA: 28s - loss: 14.6498 - accuracy: 0.06 - ETA: 27s - loss: 14.6796 - accuracy: 0.06 - ETA: 26s - loss: 14.6446 - accuracy: 0.06 - ETA: 25s - loss: 14.7145 - accuracy: 0.06 - ETA: 24s - loss: 14.7495 - accuracy: 0.06 - ETA: 23s - loss: 14.7680 - accuracy: 0.06 - ETA: 22s - loss: 14.7847 - accuracy: 0.06 - ETA: 21s - loss: 14.8233 - accuracy: 0.06 - ETA: 21s - loss: 14.8473 - accuracy: 0.06 - ETA: 20s - loss: 14.8692 - accuracy: 0.06 - ETA: 20s - loss: 14.8277 - accuracy: 0.06 - ETA: 19s - loss: 14.8190 - accuracy: 0.06 - ETA: 19s - loss: 14.8205 - accuracy: 0.06 - ETA: 18s - loss: 14.8311 - accuracy: 0.06 - ETA: 18s - loss: 14.8497 - accuracy: 0.06 - ETA: 17s - loss: 14.8756 - accuracy: 0.06 - ETA: 17s - loss: 14.8916 - accuracy: 0.06 - ETA: 17s - loss: 14.8986 - accuracy: 0.06 - ETA: 16s - loss: 14.9206 - accuracy: 0.06 - ETA: 16s - loss: 14.9187 - accuracy: 0.06 - ETA: 16s - loss: 14.9316 - accuracy: 0.06 - ETA: 15s - loss: 14.9154 - accuracy: 0.06 - ETA: 15s - loss: 14.9345 - accuracy: 0.06 - ETA: 15s - loss: 14.9661 - accuracy: 0.06 - ETA: 15s - loss: 14.9829 - accuracy: 0.06 - ETA: 14s - loss: 14.9798 - accuracy: 0.06 - ETA: 14s - loss: 14.9955 - accuracy: 0.06 - ETA: 14s - loss: 14.9618 - accuracy: 0.06 - ETA: 14s - loss: 14.9653 - accuracy: 0.06 - ETA: 14s - loss: 14.9745 - accuracy: 0.06 - ETA: 13s - loss: 14.9662 - accuracy: 0.06 - ETA: 13s - loss: 14.9694 - accuracy: 0.06 - ETA: 13s - loss: 14.9778 - accuracy: 0.06 - ETA: 13s - loss: 14.9647 - accuracy: 0.06 - ETA: 13s - loss: 14.9729 - accuracy: 0.06 - ETA: 12s - loss: 14.9808 - accuracy: 0.06 - ETA: 12s - loss: 14.9734 - accuracy: 0.06 - ETA: 12s - loss: 14.9712 - accuracy: 0.06 - ETA: 12s - loss: 14.9690 - accuracy: 0.06 - ETA: 12s - loss: 14.9811 - accuracy: 0.06 - ETA: 12s - loss: 14.9881 - accuracy: 0.06 - ETA: 11s - loss: 14.9948 - accuracy: 0.06 - ETA: 11s - loss: 14.9969 - accuracy: 0.06 - ETA: 11s - loss: 15.0033 - accuracy: 0.06 - ETA: 11s - loss: 14.9965 - accuracy: 0.06 - ETA: 11s - loss: 15.0111 - accuracy: 0.06 - ETA: 11s - loss: 15.0086 - accuracy: 0.06 - ETA: 11s - loss: 15.0143 - accuracy: 0.06 - ETA: 10s - loss: 15.0199 - accuracy: 0.06 - ETA: 10s - loss: 15.0332 - accuracy: 0.06 - ETA: 10s - loss: 15.0227 - accuracy: 0.06 - ETA: 10s - loss: 15.0279 - accuracy: 0.06 - ETA: 10s - loss: 15.0216 - accuracy: 0.06 - ETA: 10s - loss: 15.0266 - accuracy: 0.06 - ETA: 10s - loss: 15.0242 - accuracy: 0.06 - ETA: 10s - loss: 15.0146 - accuracy: 0.06 - ETA: 9s - loss: 15.0195 - accuracy: 0.0629 - ETA: 9s - loss: 15.0313 - accuracy: 0.062 - ETA: 9s - loss: 15.0324 - accuracy: 0.062 - ETA: 9s - loss: 15.0301 - accuracy: 0.062 - ETA: 9s - loss: 15.0244 - accuracy: 0.062 - ETA: 9s - loss: 15.0255 - accuracy: 0.062 - ETA: 9s - loss: 15.0299 - accuracy: 0.062 - ETA: 9s - loss: 15.0342 - accuracy: 0.062 - ETA: 9s - loss: 15.0352 - accuracy: 0.062 - ETA: 8s - loss: 15.0298 - accuracy: 0.062 - ETA: 8s - loss: 15.0371 - accuracy: 0.062 - ETA: 8s - loss: 15.0473 - accuracy: 0.061 - ETA: 8s - loss: 15.0480 - accuracy: 0.061 - ETA: 8s - loss: 15.0427 - accuracy: 0.062 - ETA: 8s - loss: 15.0436 - accuracy: 0.062 - ETA: 8s - loss: 15.0443 - accuracy: 0.062 - ETA: 8s - loss: 15.0538 - accuracy: 0.061 - ETA: 8s - loss: 15.0545 - accuracy: 0.061 - ETA: 8s - loss: 15.0637 - accuracy: 0.061 - ETA: 8s - loss: 15.0698 - accuracy: 0.060 - ETA: 7s - loss: 15.0675 - accuracy: 0.061 - ETA: 7s - loss: 15.0625 - accuracy: 0.061 - ETA: 7s - loss: 15.0630 - accuracy: 0.061 - ETA: 7s - loss: 15.0581 - accuracy: 0.061 - ETA: 7s - loss: 15.0613 - accuracy: 0.061 - ETA: 7s - loss: 15.0618 - accuracy: 0.061 - ETA: 7s - loss: 15.0597 - accuracy: 0.061 - ETA: 7s - loss: 15.0603 - accuracy: 0.061 - ETA: 7s - loss: 15.0608 - accuracy: 0.061 - ETA: 7s - loss: 15.0638 - accuracy: 0.061 - ETA: 7s - loss: 15.0643 - accuracy: 0.061 - ETA: 6s - loss: 15.0697 - accuracy: 0.061 - ETA: 6s - loss: 15.0676 - accuracy: 0.061 - ETA: 6s - loss: 15.0656 - accuracy: 0.061 - ETA: 6s - loss: 15.0660 - accuracy: 0.061 - ETA: 6s - loss: 15.0665 - accuracy: 0.061 - ETA: 6s - loss: 15.0740 - accuracy: 0.061 - ETA: 6s - loss: 15.0767 - accuracy: 0.061 - ETA: 6s - loss: 15.0700 - accuracy: 0.061 - ETA: 6s - loss: 15.0750 - accuracy: 0.061 - ETA: 6s - loss: 15.0662 - accuracy: 0.061 - ETA: 6s - loss: 15.0643 - accuracy: 0.062 - ETA: 6s - loss: 15.0603 - accuracy: 0.062 - ETA: 5s - loss: 15.0674 - accuracy: 0.061 - ETA: 5s - loss: 15.0612 - accuracy: 0.062 - ETA: 5s - loss: 15.0638 - accuracy: 0.062 - ETA: 5s - loss: 15.0555 - accuracy: 0.062 - ETA: 5s - loss: 15.0624 - accuracy: 0.062 - ETA: 5s - loss: 15.0628 - accuracy: 0.062 - ETA: 5s - loss: 15.0695 - accuracy: 0.062 - ETA: 5s - loss: 15.0783 - accuracy: 0.061 - ETA: 5s - loss: 15.0806 - accuracy: 0.061 - ETA: 5s - loss: 15.0849 - accuracy: 0.061 - ETA: 5s - loss: 15.0852 - accuracy: 0.061 - ETA: 5s - loss: 15.0874 - accuracy: 0.061 - ETA: 5s - loss: 15.0956 - accuracy: 0.060 - ETA: 4s - loss: 15.0977 - accuracy: 0.060 - ETA: 4s - loss: 15.0978 - accuracy: 0.060 - ETA: 4s - loss: 15.0960 - accuracy: 0.060 - ETA: 4s - loss: 15.1000 - accuracy: 0.060 - ETA: 4s - loss: 15.1058 - accuracy: 0.060 - ETA: 4s - loss: 15.1001 - accuracy: 0.060 - ETA: 4s - loss: 15.0983 - accuracy: 0.060 - ETA: 4s - loss: 15.1022 - accuracy: 0.060 - ETA: 4s - loss: 15.0985 - accuracy: 0.060 - ETA: 4s - loss: 15.0986 - accuracy: 0.060 - ETA: 4s - loss: 15.0968 - accuracy: 0.060 - ETA: 4s - loss: 15.0987 - accuracy: 0.060 - ETA: 4s - loss: 15.1043 - accuracy: 0.060 - ETA: 3s - loss: 15.1043 - accuracy: 0.060 - ETA: 3s - loss: 15.1026 - accuracy: 0.060 - ETA: 3s - loss: 15.1009 - accuracy: 0.060 - ETA: 3s - loss: 15.1027 - accuracy: 0.060 - ETA: 3s - loss: 15.0992 - accuracy: 0.060 - ETA: 3s - loss: 15.1011 - accuracy: 0.060 - ETA: 3s - loss: 15.0925 - accuracy: 0.061 - ETA: 3s - loss: 15.0943 - accuracy: 0.061 - ETA: 3s - loss: 15.0996 - accuracy: 0.060 - ETA: 3s - loss: 15.0996 - accuracy: 0.060 - ETA: 3s - loss: 15.1014 - accuracy: 0.060 - ETA: 3s - loss: 15.1015 - accuracy: 0.060 - ETA: 3s - loss: 15.1048 - accuracy: 0.060 - ETA: 3s - loss: 15.1098 - accuracy: 0.060 - ETA: 2s - loss: 15.1115 - accuracy: 0.060 - ETA: 2s - loss: 15.1147 - accuracy: 0.059 - ETA: 2s - loss: 15.1082 - accuracy: 0.060 - ETA: 2s - loss: 15.1099 - accuracy: 0.060 - ETA: 2s - loss: 15.1131 - accuracy: 0.060 - ETA: 2s - loss: 15.1146 - accuracy: 0.059 - ETA: 2s - loss: 15.1162 - accuracy: 0.059 - ETA: 2s - loss: 15.1146 - accuracy: 0.060 - ETA: 2s - loss: 15.1146 - accuracy: 0.060 - ETA: 2s - loss: 15.1192 - accuracy: 0.059 - ETA: 2s - loss: 15.1238 - accuracy: 0.059 - ETA: 2s - loss: 15.1252 - accuracy: 0.059 - ETA: 2s - loss: 15.1282 - accuracy: 0.059 - ETA: 2s - loss: 15.1250 - accuracy: 0.059 - ETA: 1s - loss: 15.1250 - accuracy: 0.059 - ETA: 1s - loss: 15.1264 - accuracy: 0.059 - ETA: 1s - loss: 15.1263 - accuracy: 0.059 - ETA: 1s - loss: 15.1262 - accuracy: 0.059 - ETA: 1s - loss: 15.1290 - accuracy: 0.059 - ETA: 1s - loss: 15.1304 - accuracy: 0.059 - ETA: 1s - loss: 15.1274 - accuracy: 0.059 - ETA: 1s - loss: 15.1244 - accuracy: 0.059 - ETA: 1s - loss: 15.1214 - accuracy: 0.059 - ETA: 1s - loss: 15.1185 - accuracy: 0.059 - ETA: 1s - loss: 15.1227 - accuracy: 0.059 - ETA: 1s - loss: 15.1269 - accuracy: 0.059 - ETA: 1s - loss: 15.1268 - accuracy: 0.059 - ETA: 1s - loss: 15.1253 - accuracy: 0.059 - ETA: 1s - loss: 15.1252 - accuracy: 0.059 - ETA: 0s - loss: 15.1265 - accuracy: 0.059 - ETA: 0s - loss: 15.1278 - accuracy: 0.0594\b\b\b\b\b\b\b\b\b\b\b\b\b\b\b\b\b\b\b\b\b\b\b\b\b\b\b\b\b\b\b\b\b\b\b\b\b\b\b\b\b\b\b\b\b\b\b\b\b\b\b\b\b\b\b\b\b\b\b\b\b\b\b\b\b\b\b\b\b\b\b\b\b\b\b\b\b\b\b\b\b\b\b\b\b\b\b\b\b12630/12630 [==============================] - ETA: 0s - loss: 15.1264 - accuracy: 0.059 - ETA: 0s - loss: 15.1276 - accuracy: 0.059 - ETA: 0s - loss: 15.1289 - accuracy: 0.059 - ETA: 0s - loss: 15.1315 - accuracy: 0.059 - ETA: 0s - loss: 15.1300 - accuracy: 0.059 - ETA: 0s - loss: 15.1299 - accuracy: 0.059 - ETA: 0s - loss: 15.1298 - accuracy: 0.059 - ETA: 0s - loss: 15.1311 - accuracy: 0.059 - ETA: 0s - loss: 15.1336 - accuracy: 0.059 - ETA: 0s - loss: 15.1361 - accuracy: 0.059 - ETA: 0s - loss: 15.1372 - accuracy: 0.059 - ETA: 0s - loss: 15.1358 - accuracy: 0.059 - ETA: 0s - loss: 15.1357 - accuracy: 0.059 - 16s 1ms/sample - loss: 15.1348 - accuracy: 0.0592 - val_loss: 15.2409 - val_accuracy: 0.0545\n",
      "Epoch 2/4\n",
      "11104/12630 [=========================>....] - ETA: 11s - loss: 15.1107 - accuracy: 0.06 - ETA: 11s - loss: 14.9428 - accuracy: 0.07 - ETA: 11s - loss: 14.9092 - accuracy: 0.07 - ETA: 11s - loss: 15.1107 - accuracy: 0.06 - ETA: 11s - loss: 15.1667 - accuracy: 0.05 - ETA: 11s - loss: 15.1565 - accuracy: 0.05 - ETA: 11s - loss: 15.2657 - accuracy: 0.05 - ETA: 11s - loss: 15.2786 - accuracy: 0.05 - ETA: 10s - loss: 15.1700 - accuracy: 0.05 - ETA: 10s - loss: 15.1902 - accuracy: 0.05 - ETA: 10s - loss: 15.2306 - accuracy: 0.05 - ETA: 10s - loss: 15.2421 - accuracy: 0.05 - ETA: 10s - loss: 15.2518 - accuracy: 0.05 - ETA: 10s - loss: 15.1853 - accuracy: 0.05 - ETA: 10s - loss: 15.1976 - accuracy: 0.05 - ETA: 10s - loss: 15.2407 - accuracy: 0.05 - ETA: 10s - loss: 15.2328 - accuracy: 0.05 - ETA: 10s - loss: 15.2546 - accuracy: 0.05 - ETA: 10s - loss: 15.2741 - accuracy: 0.05 - ETA: 10s - loss: 15.2915 - accuracy: 0.05 - ETA: 10s - loss: 15.2704 - accuracy: 0.05 - ETA: 10s - loss: 15.2161 - accuracy: 0.05 - ETA: 10s - loss: 15.2115 - accuracy: 0.05 - ETA: 10s - loss: 15.1965 - accuracy: 0.05 - ETA: 10s - loss: 15.1930 - accuracy: 0.05 - ETA: 10s - loss: 15.2095 - accuracy: 0.05 - ETA: 9s - loss: 15.1963 - accuracy: 0.0572 - ETA: 9s - loss: 15.2023 - accuracy: 0.056 - ETA: 9s - loss: 15.2168 - accuracy: 0.055 - ETA: 9s - loss: 15.2132 - accuracy: 0.056 - ETA: 9s - loss: 15.2346 - accuracy: 0.054 - ETA: 9s - loss: 15.2147 - accuracy: 0.056 - ETA: 9s - loss: 15.2115 - accuracy: 0.056 - ETA: 9s - loss: 15.2235 - accuracy: 0.055 - ETA: 9s - loss: 15.2056 - accuracy: 0.056 - ETA: 9s - loss: 15.2029 - accuracy: 0.056 - ETA: 9s - loss: 15.2142 - accuracy: 0.056 - ETA: 9s - loss: 15.2182 - accuracy: 0.055 - ETA: 9s - loss: 15.2219 - accuracy: 0.055 - ETA: 9s - loss: 15.2446 - accuracy: 0.054 - ETA: 9s - loss: 15.2475 - accuracy: 0.054 - ETA: 9s - loss: 15.2503 - accuracy: 0.053 - ETA: 9s - loss: 15.2411 - accuracy: 0.054 - ETA: 8s - loss: 15.2612 - accuracy: 0.053 - ETA: 8s - loss: 15.2522 - accuracy: 0.053 - ETA: 8s - loss: 15.2602 - accuracy: 0.053 - ETA: 8s - loss: 15.2461 - accuracy: 0.054 - ETA: 8s - loss: 15.2539 - accuracy: 0.053 - ETA: 8s - loss: 15.2717 - accuracy: 0.052 - ETA: 8s - loss: 15.2786 - accuracy: 0.052 - ETA: 8s - loss: 15.2753 - accuracy: 0.052 - ETA: 8s - loss: 15.2721 - accuracy: 0.052 - ETA: 8s - loss: 15.2642 - accuracy: 0.053 - ETA: 8s - loss: 15.2661 - accuracy: 0.052 - ETA: 8s - loss: 15.2586 - accuracy: 0.053 - ETA: 8s - loss: 15.2559 - accuracy: 0.053 - ETA: 8s - loss: 15.2578 - accuracy: 0.053 - ETA: 8s - loss: 15.2640 - accuracy: 0.053 - ETA: 8s - loss: 15.2614 - accuracy: 0.053 - ETA: 8s - loss: 15.2546 - accuracy: 0.053 - ETA: 7s - loss: 15.2647 - accuracy: 0.052 - ETA: 7s - loss: 15.2622 - accuracy: 0.053 - ETA: 7s - loss: 15.2598 - accuracy: 0.053 - ETA: 7s - loss: 15.2535 - accuracy: 0.053 - ETA: 7s - loss: 15.2591 - accuracy: 0.053 - ETA: 7s - loss: 15.2491 - accuracy: 0.053 - ETA: 7s - loss: 15.2395 - accuracy: 0.054 - ETA: 7s - loss: 15.2376 - accuracy: 0.054 - ETA: 7s - loss: 15.2284 - accuracy: 0.055 - ETA: 7s - loss: 15.2303 - accuracy: 0.055 - ETA: 7s - loss: 15.2357 - accuracy: 0.054 - ETA: 7s - loss: 15.2199 - accuracy: 0.055 - ETA: 7s - loss: 15.2184 - accuracy: 0.055 - ETA: 7s - loss: 15.2238 - accuracy: 0.055 - ETA: 7s - loss: 15.2223 - accuracy: 0.055 - ETA: 7s - loss: 15.2141 - accuracy: 0.056 - ETA: 7s - loss: 15.2095 - accuracy: 0.056 - ETA: 6s - loss: 15.2115 - accuracy: 0.056 - ETA: 6s - loss: 15.2070 - accuracy: 0.056 - ETA: 6s - loss: 15.2153 - accuracy: 0.056 - ETA: 6s - loss: 15.2108 - accuracy: 0.056 - ETA: 6s - loss: 15.1972 - accuracy: 0.057 - ETA: 6s - loss: 15.1992 - accuracy: 0.057 - ETA: 6s - loss: 15.2072 - accuracy: 0.056 - ETA: 6s - loss: 15.2061 - accuracy: 0.056 - ETA: 6s - loss: 15.2020 - accuracy: 0.056 - ETA: 6s - loss: 15.2068 - accuracy: 0.056 - ETA: 6s - loss: 15.2115 - accuracy: 0.056 - ETA: 6s - loss: 15.2103 - accuracy: 0.056 - ETA: 6s - loss: 15.2120 - accuracy: 0.056 - ETA: 6s - loss: 15.2053 - accuracy: 0.056 - ETA: 6s - loss: 15.1988 - accuracy: 0.057 - ETA: 6s - loss: 15.2006 - accuracy: 0.056 - ETA: 6s - loss: 15.1969 - accuracy: 0.057 - ETA: 6s - loss: 15.2013 - accuracy: 0.056 - ETA: 5s - loss: 15.1872 - accuracy: 0.057 - ETA: 5s - loss: 15.1786 - accuracy: 0.058 - ETA: 5s - loss: 15.1830 - accuracy: 0.058 - ETA: 5s - loss: 15.1874 - accuracy: 0.057 - ETA: 5s - loss: 15.1841 - accuracy: 0.057 - ETA: 5s - loss: 15.1834 - accuracy: 0.058 - ETA: 5s - loss: 15.1876 - accuracy: 0.057 - ETA: 5s - loss: 15.1893 - accuracy: 0.057 - ETA: 5s - loss: 15.1862 - accuracy: 0.057 - ETA: 5s - loss: 15.1927 - accuracy: 0.057 - ETA: 5s - loss: 15.1871 - accuracy: 0.057 - ETA: 5s - loss: 15.1959 - accuracy: 0.057 - ETA: 5s - loss: 15.1904 - accuracy: 0.057 - ETA: 5s - loss: 15.1966 - accuracy: 0.057 - ETA: 5s - loss: 15.1981 - accuracy: 0.057 - ETA: 5s - loss: 15.1996 - accuracy: 0.057 - ETA: 5s - loss: 15.1988 - accuracy: 0.057 - ETA: 4s - loss: 15.1958 - accuracy: 0.057 - ETA: 4s - loss: 15.1884 - accuracy: 0.057 - ETA: 4s - loss: 15.1899 - accuracy: 0.057 - ETA: 4s - loss: 15.1849 - accuracy: 0.057 - ETA: 4s - loss: 15.1842 - accuracy: 0.057 - ETA: 4s - loss: 15.1815 - accuracy: 0.058 - ETA: 4s - loss: 15.1830 - accuracy: 0.058 - ETA: 4s - loss: 15.1782 - accuracy: 0.058 - ETA: 4s - loss: 15.1692 - accuracy: 0.058 - ETA: 4s - loss: 15.1646 - accuracy: 0.059 - ETA: 4s - loss: 15.1621 - accuracy: 0.059 - ETA: 4s - loss: 15.1617 - accuracy: 0.059 - ETA: 4s - loss: 15.1613 - accuracy: 0.059 - ETA: 4s - loss: 15.1649 - accuracy: 0.059 - ETA: 4s - loss: 15.1625 - accuracy: 0.059 - ETA: 4s - loss: 15.1680 - accuracy: 0.058 - ETA: 4s - loss: 15.1656 - accuracy: 0.059 - ETA: 3s - loss: 15.1574 - accuracy: 0.059 - ETA: 3s - loss: 15.1590 - accuracy: 0.059 - ETA: 3s - loss: 15.1586 - accuracy: 0.059 - ETA: 3s - loss: 15.1563 - accuracy: 0.059 - ETA: 3s - loss: 15.1579 - accuracy: 0.059 - ETA: 3s - loss: 15.1558 - accuracy: 0.059 - ETA: 3s - loss: 15.1538 - accuracy: 0.059 - ETA: 3s - loss: 15.1518 - accuracy: 0.060 - ETA: 3s - loss: 15.1516 - accuracy: 0.060 - ETA: 3s - loss: 15.1552 - accuracy: 0.059 - ETA: 3s - loss: 15.1587 - accuracy: 0.059 - ETA: 3s - loss: 15.1604 - accuracy: 0.059 - ETA: 3s - loss: 15.1673 - accuracy: 0.059 - ETA: 3s - loss: 15.1653 - accuracy: 0.059 - ETA: 3s - loss: 15.1687 - accuracy: 0.058 - ETA: 3s - loss: 15.1703 - accuracy: 0.058 - ETA: 3s - loss: 15.1719 - accuracy: 0.058 - ETA: 3s - loss: 15.1699 - accuracy: 0.058 - ETA: 3s - loss: 15.1623 - accuracy: 0.059 - ETA: 3s - loss: 15.1690 - accuracy: 0.058 - ETA: 3s - loss: 15.1704 - accuracy: 0.058 - ETA: 3s - loss: 15.1752 - accuracy: 0.058 - ETA: 3s - loss: 15.1765 - accuracy: 0.058 - ETA: 3s - loss: 15.1760 - accuracy: 0.058 - ETA: 3s - loss: 15.1790 - accuracy: 0.058 - ETA: 2s - loss: 15.1819 - accuracy: 0.058 - ETA: 2s - loss: 15.1798 - accuracy: 0.058 - ETA: 2s - loss: 15.1726 - accuracy: 0.058 - ETA: 2s - loss: 15.1722 - accuracy: 0.058 - ETA: 2s - loss: 15.1735 - accuracy: 0.058 - ETA: 2s - loss: 15.1780 - accuracy: 0.058 - ETA: 2s - loss: 15.1808 - accuracy: 0.058 - ETA: 2s - loss: 15.1852 - accuracy: 0.057 - ETA: 2s - loss: 15.1799 - accuracy: 0.058 - ETA: 2s - loss: 15.1779 - accuracy: 0.058 - ETA: 2s - loss: 15.1822 - accuracy: 0.058 - ETA: 2s - loss: 15.1723 - accuracy: 0.058 - ETA: 2s - loss: 15.1751 - accuracy: 0.058 - ETA: 2s - loss: 15.1731 - accuracy: 0.058 - ETA: 2s - loss: 15.1729 - accuracy: 0.058 - ETA: 2s - loss: 15.1712 - accuracy: 0.058 - ETA: 2s - loss: 15.1710 - accuracy: 0.058 - ETA: 2s - loss: 15.1706 - accuracy: 0.058 - ETA: 2s - loss: 15.1689 - accuracy: 0.058 - ETA: 2s - loss: 15.1626 - accuracy: 0.059 - ETA: 1s - loss: 15.1640 - accuracy: 0.059 - ETA: 1s - loss: 15.1578 - accuracy: 0.059 - ETA: 1s - loss: 15.1591 - accuracy: 0.059 - ETA: 1s - loss: 15.1620 - accuracy: 0.059 - ETA: 1s - loss: 15.1633 - accuracy: 0.059 - ETA: 1s - loss: 15.1645 - accuracy: 0.059 - ETA: 1s - loss: 15.1672 - accuracy: 0.059 - ETA: 1s - loss: 15.1698 - accuracy: 0.058 - ETA: 1s - loss: 15.1695 - accuracy: 0.058 - ETA: 1s - loss: 15.1708 - accuracy: 0.058 - ETA: 1s - loss: 15.1691 - accuracy: 0.058 - ETA: 1s - loss: 15.1673 - accuracy: 0.059012630/12630 [==============================] - ETA: 1s - loss: 15.1672 - accuracy: 0.059 - ETA: 1s - loss: 15.1683 - accuracy: 0.058 - ETA: 1s - loss: 15.1696 - accuracy: 0.058 - ETA: 1s - loss: 15.1723 - accuracy: 0.058 - ETA: 1s - loss: 15.1721 - accuracy: 0.058 - ETA: 1s - loss: 15.1691 - accuracy: 0.058 - ETA: 1s - loss: 15.1703 - accuracy: 0.058 - ETA: 1s - loss: 15.1687 - accuracy: 0.058 - ETA: 1s - loss: 15.1714 - accuracy: 0.058 - ETA: 1s - loss: 15.1684 - accuracy: 0.058 - ETA: 1s - loss: 15.1654 - accuracy: 0.059 - ETA: 1s - loss: 15.1653 - accuracy: 0.059 - ETA: 1s - loss: 15.1636 - accuracy: 0.059 - ETA: 1s - loss: 15.1634 - accuracy: 0.059 - ETA: 0s - loss: 15.1632 - accuracy: 0.059 - ETA: 0s - loss: 15.1629 - accuracy: 0.059 - ETA: 0s - loss: 15.1600 - accuracy: 0.059 - ETA: 0s - loss: 15.1584 - accuracy: 0.059 - ETA: 0s - loss: 15.1555 - accuracy: 0.059 - ETA: 0s - loss: 15.1581 - accuracy: 0.059 - ETA: 0s - loss: 15.1539 - accuracy: 0.059 - ETA: 0s - loss: 15.1525 - accuracy: 0.059 - ETA: 0s - loss: 15.1536 - accuracy: 0.059 - ETA: 0s - loss: 15.1521 - accuracy: 0.059 - ETA: 0s - loss: 15.1546 - accuracy: 0.059 - ETA: 0s - loss: 15.1545 - accuracy: 0.059 - ETA: 0s - loss: 15.1557 - accuracy: 0.059 - ETA: 0s - loss: 15.1569 - accuracy: 0.059 - ETA: 0s - loss: 15.1594 - accuracy: 0.059 - ETA: 0s - loss: 15.1631 - accuracy: 0.059 - ETA: 0s - loss: 15.1654 - accuracy: 0.059 - ETA: 0s - loss: 15.1613 - accuracy: 0.059 - ETA: 0s - loss: 15.1598 - accuracy: 0.059 - ETA: 0s - loss: 15.1622 - accuracy: 0.059 - ETA: 0s - loss: 15.1620 - accuracy: 0.059 - 15s 1ms/sample - loss: 15.1610 - accuracy: 0.0594 - val_loss: 15.2409 - val_accuracy: 0.0545\n",
      "Epoch 3/4\n",
      "11360/12630 [=========================>....] - ETA: 11s - loss: 15.6144 - accuracy: 0.03 - ETA: 11s - loss: 15.7823 - accuracy: 0.02 - ETA: 11s - loss: 15.5137 - accuracy: 0.03 - ETA: 12s - loss: 15.5425 - accuracy: 0.03 - ETA: 13s - loss: 15.5584 - accuracy: 0.03 - ETA: 14s - loss: 15.3855 - accuracy: 0.04 - ETA: 14s - loss: 15.4045 - accuracy: 0.04 - ETA: 14s - loss: 15.3819 - accuracy: 0.04 - ETA: 15s - loss: 15.3458 - accuracy: 0.04 - ETA: 15s - loss: 15.2681 - accuracy: 0.05 - ETA: 15s - loss: 15.3066 - accuracy: 0.05 - ETA: 15s - loss: 15.2963 - accuracy: 0.05 - ETA: 15s - loss: 15.3122 - accuracy: 0.05 - ETA: 16s - loss: 15.2786 - accuracy: 0.05 - ETA: 16s - loss: 15.3168 - accuracy: 0.04 - ETA: 16s - loss: 15.2786 - accuracy: 0.05 - ETA: 15s - loss: 15.2463 - accuracy: 0.05 - ETA: 15s - loss: 15.2906 - accuracy: 0.05 - ETA: 15s - loss: 15.2786 - accuracy: 0.05 - ETA: 15s - loss: 15.2681 - accuracy: 0.05 - ETA: 14s - loss: 15.2737 - accuracy: 0.05 - ETA: 14s - loss: 15.2786 - accuracy: 0.05 - ETA: 14s - loss: 15.2300 - accuracy: 0.05 - ETA: 14s - loss: 15.1989 - accuracy: 0.05 - ETA: 13s - loss: 15.2067 - accuracy: 0.05 - ETA: 13s - loss: 15.2023 - accuracy: 0.05 - ETA: 13s - loss: 15.1983 - accuracy: 0.05 - ETA: 13s - loss: 15.1842 - accuracy: 0.05 - ETA: 12s - loss: 15.2115 - accuracy: 0.05 - ETA: 12s - loss: 15.2270 - accuracy: 0.05 - ETA: 12s - loss: 15.2413 - accuracy: 0.05 - ETA: 12s - loss: 15.2456 - accuracy: 0.05 - ETA: 12s - loss: 15.2584 - accuracy: 0.05 - ETA: 12s - loss: 15.2282 - accuracy: 0.05 - ETA: 11s - loss: 15.2245 - accuracy: 0.05 - ETA: 11s - loss: 15.2209 - accuracy: 0.05 - ETA: 11s - loss: 15.2176 - accuracy: 0.05 - ETA: 11s - loss: 15.2218 - accuracy: 0.05 - ETA: 11s - loss: 15.2258 - accuracy: 0.05 - ETA: 11s - loss: 15.2366 - accuracy: 0.05 - ETA: 11s - loss: 15.2196 - accuracy: 0.05 - ETA: 11s - loss: 15.2234 - accuracy: 0.05 - ETA: 10s - loss: 15.2334 - accuracy: 0.05 - ETA: 10s - loss: 15.2366 - accuracy: 0.05 - ETA: 10s - loss: 15.2459 - accuracy: 0.05 - ETA: 10s - loss: 15.2606 - accuracy: 0.05 - ETA: 10s - loss: 15.2630 - accuracy: 0.05 - ETA: 10s - loss: 15.2710 - accuracy: 0.05 - ETA: 10s - loss: 15.2748 - accuracy: 0.05 - ETA: 10s - loss: 15.2730 - accuracy: 0.05 - ETA: 10s - loss: 15.2823 - accuracy: 0.05 - ETA: 10s - loss: 15.2678 - accuracy: 0.05 - ETA: 10s - loss: 15.2645 - accuracy: 0.05 - ETA: 10s - loss: 15.2576 - accuracy: 0.05 - ETA: 10s - loss: 15.2561 - accuracy: 0.05 - ETA: 10s - loss: 15.2598 - accuracy: 0.05 - ETA: 10s - loss: 15.2583 - accuracy: 0.05 - ETA: 10s - loss: 15.2553 - accuracy: 0.05 - ETA: 10s - loss: 15.2476 - accuracy: 0.05 - ETA: 10s - loss: 15.2546 - accuracy: 0.05 - ETA: 10s - loss: 15.2566 - accuracy: 0.05 - ETA: 10s - loss: 15.2506 - accuracy: 0.05 - ETA: 10s - loss: 15.2447 - accuracy: 0.05 - ETA: 10s - loss: 15.2423 - accuracy: 0.05 - ETA: 10s - loss: 15.2444 - accuracy: 0.05 - ETA: 10s - loss: 15.2509 - accuracy: 0.05 - ETA: 10s - loss: 15.2356 - accuracy: 0.05 - ETA: 9s - loss: 15.2462 - accuracy: 0.0541 - ETA: 9s - loss: 15.2314 - accuracy: 0.055 - ETA: 9s - loss: 15.2295 - accuracy: 0.055 - ETA: 9s - loss: 15.2235 - accuracy: 0.055 - ETA: 9s - loss: 15.2218 - accuracy: 0.055 - ETA: 9s - loss: 15.2161 - accuracy: 0.056 - ETA: 9s - loss: 15.2222 - accuracy: 0.055 - ETA: 9s - loss: 15.2092 - accuracy: 0.056 - ETA: 9s - loss: 15.2152 - accuracy: 0.056 - ETA: 9s - loss: 15.2100 - accuracy: 0.056 - ETA: 8s - loss: 15.2049 - accuracy: 0.056 - ETA: 8s - loss: 15.2036 - accuracy: 0.056 - ETA: 8s - loss: 15.2023 - accuracy: 0.056 - ETA: 8s - loss: 15.2115 - accuracy: 0.056 - ETA: 8s - loss: 15.2032 - accuracy: 0.056 - ETA: 8s - loss: 15.1986 - accuracy: 0.057 - ETA: 8s - loss: 15.2008 - accuracy: 0.056 - ETA: 8s - loss: 15.1996 - accuracy: 0.057 - ETA: 8s - loss: 15.2017 - accuracy: 0.056 - ETA: 8s - loss: 15.1941 - accuracy: 0.057 - ETA: 8s - loss: 15.1931 - accuracy: 0.057 - ETA: 8s - loss: 15.1983 - accuracy: 0.057 - ETA: 7s - loss: 15.1942 - accuracy: 0.057 - ETA: 7s - loss: 15.1809 - accuracy: 0.058 - ETA: 7s - loss: 15.1922 - accuracy: 0.057 - ETA: 7s - loss: 15.2001 - accuracy: 0.057 - ETA: 7s - loss: 15.1932 - accuracy: 0.057 - ETA: 7s - loss: 15.1835 - accuracy: 0.058 - ETA: 7s - loss: 15.1856 - accuracy: 0.057 - ETA: 7s - loss: 15.1819 - accuracy: 0.058 - ETA: 7s - loss: 15.1839 - accuracy: 0.058 - ETA: 7s - loss: 15.1775 - accuracy: 0.058 - ETA: 7s - loss: 15.1740 - accuracy: 0.058 - ETA: 7s - loss: 15.1761 - accuracy: 0.058 - ETA: 6s - loss: 15.1727 - accuracy: 0.058 - ETA: 6s - loss: 15.1694 - accuracy: 0.058 - ETA: 6s - loss: 15.1661 - accuracy: 0.059 - ETA: 6s - loss: 15.1681 - accuracy: 0.058 - ETA: 6s - loss: 15.1675 - accuracy: 0.059 - ETA: 6s - loss: 15.1644 - accuracy: 0.059 - ETA: 6s - loss: 15.1537 - accuracy: 0.059 - ETA: 6s - loss: 15.1558 - accuracy: 0.059 - ETA: 6s - loss: 15.1529 - accuracy: 0.059 - ETA: 6s - loss: 15.1525 - accuracy: 0.059 - ETA: 6s - loss: 15.1570 - accuracy: 0.059 - ETA: 6s - loss: 15.1565 - accuracy: 0.059 - ETA: 6s - loss: 15.1537 - accuracy: 0.059 - ETA: 5s - loss: 15.1580 - accuracy: 0.059 - ETA: 5s - loss: 15.1646 - accuracy: 0.059 - ETA: 5s - loss: 15.1687 - accuracy: 0.058 - ETA: 5s - loss: 15.1682 - accuracy: 0.058 - ETA: 5s - loss: 15.1677 - accuracy: 0.059 - ETA: 5s - loss: 15.1672 - accuracy: 0.059 - ETA: 5s - loss: 15.1712 - accuracy: 0.058 - ETA: 5s - loss: 15.1706 - accuracy: 0.058 - ETA: 5s - loss: 15.1745 - accuracy: 0.058 - ETA: 5s - loss: 15.1696 - accuracy: 0.058 - ETA: 5s - loss: 15.1712 - accuracy: 0.058 - ETA: 5s - loss: 15.1707 - accuracy: 0.058 - ETA: 5s - loss: 15.1745 - accuracy: 0.058 - ETA: 5s - loss: 15.1739 - accuracy: 0.058 - ETA: 4s - loss: 15.1755 - accuracy: 0.058 - ETA: 4s - loss: 15.1708 - accuracy: 0.058 - ETA: 4s - loss: 15.1724 - accuracy: 0.058 - ETA: 4s - loss: 15.1699 - accuracy: 0.058 - ETA: 4s - loss: 15.1653 - accuracy: 0.059 - ETA: 4s - loss: 15.1629 - accuracy: 0.059 - ETA: 4s - loss: 15.1685 - accuracy: 0.058 - ETA: 4s - loss: 15.1660 - accuracy: 0.059 - ETA: 4s - loss: 15.1617 - accuracy: 0.059 - ETA: 4s - loss: 15.1652 - accuracy: 0.059 - ETA: 4s - loss: 15.1686 - accuracy: 0.058 - ETA: 4s - loss: 15.1643 - accuracy: 0.059 - ETA: 4s - loss: 15.1601 - accuracy: 0.059 - ETA: 4s - loss: 15.1541 - accuracy: 0.059 - ETA: 4s - loss: 15.1519 - accuracy: 0.059 - ETA: 3s - loss: 15.1516 - accuracy: 0.060 - ETA: 3s - loss: 15.1532 - accuracy: 0.059 - ETA: 3s - loss: 15.1528 - accuracy: 0.059 - ETA: 3s - loss: 15.1507 - accuracy: 0.060 - ETA: 3s - loss: 15.1504 - accuracy: 0.060 - ETA: 3s - loss: 15.1537 - accuracy: 0.059 - ETA: 3s - loss: 15.1517 - accuracy: 0.060 - ETA: 3s - loss: 15.1496 - accuracy: 0.060 - ETA: 3s - loss: 15.1476 - accuracy: 0.060 - ETA: 3s - loss: 15.1525 - accuracy: 0.059 - ETA: 3s - loss: 15.1540 - accuracy: 0.059 - ETA: 3s - loss: 15.1537 - accuracy: 0.059 - ETA: 3s - loss: 15.1551 - accuracy: 0.059 - ETA: 3s - loss: 15.1582 - accuracy: 0.059 - ETA: 3s - loss: 15.1596 - accuracy: 0.059 - ETA: 2s - loss: 15.1609 - accuracy: 0.059 - ETA: 2s - loss: 15.1623 - accuracy: 0.059 - ETA: 2s - loss: 15.1619 - accuracy: 0.059 - ETA: 2s - loss: 15.1583 - accuracy: 0.059 - ETA: 2s - loss: 15.1515 - accuracy: 0.060 - ETA: 2s - loss: 15.1528 - accuracy: 0.059 - ETA: 2s - loss: 15.1510 - accuracy: 0.060 - ETA: 2s - loss: 15.1475 - accuracy: 0.060 - ETA: 2s - loss: 15.1441 - accuracy: 0.060 - ETA: 2s - loss: 15.1423 - accuracy: 0.060 - ETA: 2s - loss: 15.1405 - accuracy: 0.060 - ETA: 2s - loss: 15.1435 - accuracy: 0.060 - ETA: 2s - loss: 15.1433 - accuracy: 0.060 - ETA: 2s - loss: 15.1461 - accuracy: 0.060 - ETA: 2s - loss: 15.1505 - accuracy: 0.060 - ETA: 2s - loss: 15.1533 - accuracy: 0.059 - ETA: 1s - loss: 15.1500 - accuracy: 0.060 - ETA: 1s - loss: 15.1513 - accuracy: 0.060 - ETA: 1s - loss: 15.1526 - accuracy: 0.059 - ETA: 1s - loss: 15.1494 - accuracy: 0.060 - ETA: 1s - loss: 15.1462 - accuracy: 0.060 - ETA: 1s - loss: 15.1460 - accuracy: 0.060 - ETA: 1s - loss: 15.1472 - accuracy: 0.060 - ETA: 1s - loss: 15.1514 - accuracy: 0.060 - ETA: 1s - loss: 15.1540 - accuracy: 0.059 - ETA: 1s - loss: 15.1552 - accuracy: 0.059 - ETA: 1s - loss: 15.1564 - accuracy: 0.059 - ETA: 1s - loss: 15.1575 - accuracy: 0.059612630/12630 [==============================] - ETA: 1s - loss: 15.1629 - accuracy: 0.059 - ETA: 1s - loss: 15.1584 - accuracy: 0.059 - ETA: 1s - loss: 15.1609 - accuracy: 0.059 - ETA: 0s - loss: 15.1607 - accuracy: 0.059 - ETA: 0s - loss: 15.1563 - accuracy: 0.059 - ETA: 0s - loss: 15.1588 - accuracy: 0.059 - ETA: 0s - loss: 15.1599 - accuracy: 0.059 - ETA: 0s - loss: 15.1582 - accuracy: 0.059 - ETA: 0s - loss: 15.1553 - accuracy: 0.059 - ETA: 0s - loss: 15.1564 - accuracy: 0.059 - ETA: 0s - loss: 15.1575 - accuracy: 0.059 - ETA: 0s - loss: 15.1586 - accuracy: 0.059 - ETA: 0s - loss: 15.1583 - accuracy: 0.059 - ETA: 0s - loss: 15.1581 - accuracy: 0.059 - ETA: 0s - loss: 15.1578 - accuracy: 0.059 - ETA: 0s - loss: 15.1602 - accuracy: 0.059 - ETA: 0s - loss: 15.1625 - accuracy: 0.059 - ETA: 0s - loss: 15.1610 - accuracy: 0.059 - ETA: 0s - loss: 15.1620 - accuracy: 0.059 - 14s 1ms/sample - loss: 15.1610 - accuracy: 0.0594 - val_loss: 15.2409 - val_accuracy: 0.0545\n",
      "Epoch 4/4\n",
      "11872/12630 [===========================>..] - ETA: 11s - loss: 14.1033 - accuracy: 0.12 - ETA: 11s - loss: 15.1107 - accuracy: 0.06 - ETA: 11s - loss: 15.0100 - accuracy: 0.06 - ETA: 11s - loss: 14.9668 - accuracy: 0.07 - ETA: 11s - loss: 15.1107 - accuracy: 0.06 - ETA: 11s - loss: 15.2939 - accuracy: 0.05 - ETA: 11s - loss: 15.3044 - accuracy: 0.05 - ETA: 10s - loss: 15.1443 - accuracy: 0.06 - ETA: 10s - loss: 15.1107 - accuracy: 0.06 - ETA: 10s - loss: 15.1372 - accuracy: 0.06 - ETA: 10s - loss: 15.0867 - accuracy: 0.06 - ETA: 10s - loss: 15.1326 - accuracy: 0.06 - ETA: 10s - loss: 15.1309 - accuracy: 0.06 - ETA: 10s - loss: 15.0734 - accuracy: 0.06 - ETA: 10s - loss: 15.0065 - accuracy: 0.06 - ETA: 10s - loss: 15.0132 - accuracy: 0.06 - ETA: 10s - loss: 15.0039 - accuracy: 0.06 - ETA: 10s - loss: 14.9956 - accuracy: 0.06 - ETA: 10s - loss: 15.0290 - accuracy: 0.06 - ETA: 10s - loss: 15.0203 - accuracy: 0.06 - ETA: 10s - loss: 15.0124 - accuracy: 0.06 - ETA: 10s - loss: 15.0404 - accuracy: 0.06 - ETA: 10s - loss: 14.9988 - accuracy: 0.06 - ETA: 10s - loss: 15.0357 - accuracy: 0.06 - ETA: 9s - loss: 15.0593 - accuracy: 0.0657 - ETA: 9s - loss: 15.0515 - accuracy: 0.066 - ETA: 9s - loss: 15.0632 - accuracy: 0.065 - ETA: 9s - loss: 15.1016 - accuracy: 0.063 - ETA: 9s - loss: 15.1284 - accuracy: 0.061 - ETA: 9s - loss: 15.1363 - accuracy: 0.060 - ETA: 9s - loss: 15.1355 - accuracy: 0.061 - ETA: 9s - loss: 15.1347 - accuracy: 0.061 - ETA: 9s - loss: 15.1650 - accuracy: 0.059 - ETA: 9s - loss: 15.1709 - accuracy: 0.058 - ETA: 9s - loss: 15.1837 - accuracy: 0.058 - ETA: 9s - loss: 15.1959 - accuracy: 0.057 - ETA: 9s - loss: 15.1935 - accuracy: 0.057 - ETA: 9s - loss: 15.2115 - accuracy: 0.056 - ETA: 9s - loss: 15.2219 - accuracy: 0.055 - ETA: 9s - loss: 15.2255 - accuracy: 0.055 - ETA: 9s - loss: 15.2289 - accuracy: 0.055 - ETA: 9s - loss: 15.2260 - accuracy: 0.055 - ETA: 8s - loss: 15.2292 - accuracy: 0.055 - ETA: 8s - loss: 15.2381 - accuracy: 0.054 - ETA: 8s - loss: 15.2296 - accuracy: 0.055 - ETA: 8s - loss: 15.2214 - accuracy: 0.055 - ETA: 8s - loss: 15.2190 - accuracy: 0.055 - ETA: 8s - loss: 15.2221 - accuracy: 0.055 - ETA: 8s - loss: 15.2198 - accuracy: 0.055 - ETA: 8s - loss: 15.2277 - accuracy: 0.055 - ETA: 8s - loss: 15.2304 - accuracy: 0.055 - ETA: 8s - loss: 15.2036 - accuracy: 0.056 - ETA: 8s - loss: 15.1971 - accuracy: 0.057 - ETA: 8s - loss: 15.1955 - accuracy: 0.057 - ETA: 8s - loss: 15.2031 - accuracy: 0.056 - ETA: 8s - loss: 15.2060 - accuracy: 0.056 - ETA: 8s - loss: 15.1910 - accuracy: 0.057 - ETA: 8s - loss: 15.1983 - accuracy: 0.057 - ETA: 8s - loss: 15.2011 - accuracy: 0.056 - ETA: 7s - loss: 15.1869 - accuracy: 0.057 - ETA: 7s - loss: 15.1898 - accuracy: 0.057 - ETA: 7s - loss: 15.1885 - accuracy: 0.057 - ETA: 7s - loss: 15.1953 - accuracy: 0.057 - ETA: 7s - loss: 15.1980 - accuracy: 0.057 - ETA: 7s - loss: 15.2044 - accuracy: 0.056 - ETA: 7s - loss: 15.2184 - accuracy: 0.055 - ETA: 7s - loss: 15.2092 - accuracy: 0.056 - ETA: 7s - loss: 15.1965 - accuracy: 0.057 - ETA: 7s - loss: 15.1916 - accuracy: 0.057 - ETA: 7s - loss: 15.1832 - accuracy: 0.058 - ETA: 7s - loss: 15.1965 - accuracy: 0.057 - ETA: 7s - loss: 15.1882 - accuracy: 0.057 - ETA: 7s - loss: 15.1871 - accuracy: 0.057 - ETA: 7s - loss: 15.1827 - accuracy: 0.058 - ETA: 7s - loss: 15.1817 - accuracy: 0.058 - ETA: 7s - loss: 15.1808 - accuracy: 0.058 - ETA: 7s - loss: 15.1897 - accuracy: 0.057 - ETA: 6s - loss: 15.1920 - accuracy: 0.057 - ETA: 6s - loss: 15.1845 - accuracy: 0.057 - ETA: 6s - loss: 15.1804 - accuracy: 0.058 - ETA: 6s - loss: 15.1827 - accuracy: 0.058 - ETA: 6s - loss: 15.1880 - accuracy: 0.057 - ETA: 6s - loss: 15.1840 - accuracy: 0.058 - ETA: 6s - loss: 15.1861 - accuracy: 0.057 - ETA: 6s - loss: 15.1912 - accuracy: 0.057 - ETA: 6s - loss: 15.1814 - accuracy: 0.058 - ETA: 6s - loss: 15.1719 - accuracy: 0.058 - ETA: 6s - loss: 15.1683 - accuracy: 0.058 - ETA: 6s - loss: 15.1705 - accuracy: 0.058 - ETA: 6s - loss: 15.1642 - accuracy: 0.059 - ETA: 6s - loss: 15.1664 - accuracy: 0.059 - ETA: 6s - loss: 15.1713 - accuracy: 0.058 - ETA: 6s - loss: 15.1679 - accuracy: 0.059 - ETA: 6s - loss: 15.1700 - accuracy: 0.058 - ETA: 5s - loss: 15.1640 - accuracy: 0.059 - ETA: 5s - loss: 15.1635 - accuracy: 0.059 - ETA: 5s - loss: 15.1681 - accuracy: 0.058 - ETA: 5s - loss: 15.1650 - accuracy: 0.059 - ETA: 5s - loss: 15.1644 - accuracy: 0.059 - ETA: 5s - loss: 15.1740 - accuracy: 0.058 - ETA: 5s - loss: 15.1784 - accuracy: 0.058 - ETA: 5s - loss: 15.1728 - accuracy: 0.058 - ETA: 5s - loss: 15.1820 - accuracy: 0.058 - ETA: 5s - loss: 15.1837 - accuracy: 0.058 - ETA: 5s - loss: 15.1902 - accuracy: 0.057 - ETA: 5s - loss: 15.1919 - accuracy: 0.057 - ETA: 5s - loss: 15.1888 - accuracy: 0.057 - ETA: 5s - loss: 15.1833 - accuracy: 0.058 - ETA: 5s - loss: 15.1873 - accuracy: 0.057 - ETA: 5s - loss: 15.1866 - accuracy: 0.057 - ETA: 5s - loss: 15.1814 - accuracy: 0.058 - ETA: 4s - loss: 15.1807 - accuracy: 0.058 - ETA: 4s - loss: 15.1779 - accuracy: 0.058 - ETA: 4s - loss: 15.1795 - accuracy: 0.058 - ETA: 4s - loss: 15.1789 - accuracy: 0.058 - ETA: 4s - loss: 15.1827 - accuracy: 0.058 - ETA: 4s - loss: 15.1885 - accuracy: 0.057 - ETA: 4s - loss: 15.1836 - accuracy: 0.058 - ETA: 4s - loss: 15.1851 - accuracy: 0.057 - ETA: 4s - loss: 15.1866 - accuracy: 0.057 - ETA: 4s - loss: 15.1818 - accuracy: 0.058 - ETA: 4s - loss: 15.1853 - accuracy: 0.057 - ETA: 4s - loss: 15.1847 - accuracy: 0.057 - ETA: 4s - loss: 15.1882 - accuracy: 0.057 - ETA: 4s - loss: 15.1815 - accuracy: 0.058 - ETA: 4s - loss: 15.1850 - accuracy: 0.057 - ETA: 4s - loss: 15.1864 - accuracy: 0.057 - ETA: 4s - loss: 15.1838 - accuracy: 0.058 - ETA: 3s - loss: 15.1832 - accuracy: 0.058 - ETA: 3s - loss: 15.1846 - accuracy: 0.057 - ETA: 3s - loss: 15.1821 - accuracy: 0.058 - ETA: 3s - loss: 15.1758 - accuracy: 0.058 - ETA: 3s - loss: 15.1715 - accuracy: 0.058 - ETA: 3s - loss: 15.1692 - accuracy: 0.058 - ETA: 3s - loss: 15.1688 - accuracy: 0.058 - ETA: 3s - loss: 15.1665 - accuracy: 0.059 - ETA: 3s - loss: 15.1698 - accuracy: 0.058 - ETA: 3s - loss: 15.1693 - accuracy: 0.058 - ETA: 3s - loss: 15.1671 - accuracy: 0.059 - ETA: 3s - loss: 15.1685 - accuracy: 0.058 - ETA: 3s - loss: 15.1717 - accuracy: 0.058 - ETA: 3s - loss: 15.1695 - accuracy: 0.058 - ETA: 3s - loss: 15.1726 - accuracy: 0.058 - ETA: 3s - loss: 15.1721 - accuracy: 0.058 - ETA: 3s - loss: 15.1752 - accuracy: 0.058 - ETA: 3s - loss: 15.1748 - accuracy: 0.058 - ETA: 2s - loss: 15.1726 - accuracy: 0.058 - ETA: 2s - loss: 15.1790 - accuracy: 0.058 - ETA: 2s - loss: 15.1853 - accuracy: 0.057 - ETA: 2s - loss: 15.1899 - accuracy: 0.057 - ETA: 2s - loss: 15.1843 - accuracy: 0.057 - ETA: 2s - loss: 15.1889 - accuracy: 0.057 - ETA: 2s - loss: 15.1768 - accuracy: 0.058 - ETA: 2s - loss: 15.1698 - accuracy: 0.058 - ETA: 2s - loss: 15.1645 - accuracy: 0.059 - ETA: 2s - loss: 15.1609 - accuracy: 0.059 - ETA: 2s - loss: 15.1590 - accuracy: 0.059 - ETA: 2s - loss: 15.1571 - accuracy: 0.059 - ETA: 2s - loss: 15.1568 - accuracy: 0.059 - ETA: 2s - loss: 15.1581 - accuracy: 0.059 - ETA: 2s - loss: 15.1594 - accuracy: 0.059 - ETA: 2s - loss: 15.1591 - accuracy: 0.059 - ETA: 2s - loss: 15.1557 - accuracy: 0.059 - ETA: 1s - loss: 15.1523 - accuracy: 0.059 - ETA: 1s - loss: 15.1536 - accuracy: 0.059 - ETA: 1s - loss: 15.1488 - accuracy: 0.060 - ETA: 1s - loss: 15.1500 - accuracy: 0.060 - ETA: 1s - loss: 15.1468 - accuracy: 0.060 - ETA: 1s - loss: 15.1511 - accuracy: 0.060 - ETA: 1s - loss: 15.1508 - accuracy: 0.060 - ETA: 1s - loss: 15.1506 - accuracy: 0.060 - ETA: 1s - loss: 15.1445 - accuracy: 0.060 - ETA: 1s - loss: 15.1443 - accuracy: 0.060 - ETA: 1s - loss: 15.1441 - accuracy: 0.060 - ETA: 1s - loss: 15.1439 - accuracy: 0.060 - ETA: 1s - loss: 15.1437 - accuracy: 0.060 - ETA: 1s - loss: 15.1464 - accuracy: 0.060 - ETA: 1s - loss: 15.1476 - accuracy: 0.060 - ETA: 1s - loss: 15.1460 - accuracy: 0.060 - ETA: 1s - loss: 15.1472 - accuracy: 0.060 - ETA: 0s - loss: 15.1498 - accuracy: 0.060 - ETA: 0s - loss: 15.1523 - accuracy: 0.059 - ETA: 0s - loss: 15.1563 - accuracy: 0.059 - ETA: 0s - loss: 15.1588 - accuracy: 0.059 - ETA: 0s - loss: 15.1612 - accuracy: 0.059 - ETA: 0s - loss: 15.1596 - accuracy: 0.059512630/12630 [==============================] - ETA: 0s - loss: 15.1593 - accuracy: 0.059 - ETA: 0s - loss: 15.1644 - accuracy: 0.059 - ETA: 0s - loss: 15.1668 - accuracy: 0.059 - ETA: 0s - loss: 15.1639 - accuracy: 0.059 - ETA: 0s - loss: 15.1649 - accuracy: 0.059 - ETA: 0s - loss: 15.1646 - accuracy: 0.059 - ETA: 0s - loss: 15.1683 - accuracy: 0.058 - ETA: 0s - loss: 15.1667 - accuracy: 0.059 - ETA: 0s - loss: 15.1651 - accuracy: 0.059 - ETA: 0s - loss: 15.1661 - accuracy: 0.059 - ETA: 0s - loss: 15.1633 - accuracy: 0.059 - 13s 1ms/sample - loss: 15.1610 - accuracy: 0.0594 - val_loss: 15.2409 - val_accuracy: 0.0545\n"
     ]
    },
    {
     "data": {
      "text/html": [
       "<span style=\"color:#4527A0\"><h1 style=\"font-size:18px\">Trial complete</h1></span>"
      ],
      "text/plain": [
       "<IPython.core.display.HTML object>"
      ]
     },
     "metadata": {},
     "output_type": "display_data"
    },
    {
     "data": {
      "text/html": [
       "<span style=\"color:#4527A0\"><h1 style=\"font-size:18px\">Trial summary</h1></span>"
      ],
      "text/plain": [
       "<IPython.core.display.HTML object>"
      ]
     },
     "metadata": {},
     "output_type": "display_data"
    },
    {
     "data": {
      "text/html": [
       "<span style=\"color:cyan\"> |-Trial ID: 1f6b21e3556773dddcb022d92aefd65e</span>"
      ],
      "text/plain": [
       "<IPython.core.display.HTML object>"
      ]
     },
     "metadata": {},
     "output_type": "display_data"
    },
    {
     "data": {
      "text/html": [
       "<span style=\"color:cyan\"> |-Score: 0.05448199436068535</span>"
      ],
      "text/plain": [
       "<IPython.core.display.HTML object>"
      ]
     },
     "metadata": {},
     "output_type": "display_data"
    },
    {
     "data": {
      "text/html": [
       "<span style=\"color:cyan\"> |-Best step: 0</span>"
      ],
      "text/plain": [
       "<IPython.core.display.HTML object>"
      ]
     },
     "metadata": {},
     "output_type": "display_data"
    },
    {
     "data": {
      "text/html": [
       "<span style=\"color:#7E57C2\"><h2 style=\"font-size:16px\">Hyperparameters:</h2></span>"
      ],
      "text/plain": [
       "<IPython.core.display.HTML object>"
      ]
     },
     "metadata": {},
     "output_type": "display_data"
    },
    {
     "data": {
      "text/html": [
       "<span style=\"color:cyan\"> |-conv_1_filter: 112</span>"
      ],
      "text/plain": [
       "<IPython.core.display.HTML object>"
      ]
     },
     "metadata": {},
     "output_type": "display_data"
    },
    {
     "data": {
      "text/html": [
       "<span style=\"color:blue\"> |-conv_1_kernel: 5</span>"
      ],
      "text/plain": [
       "<IPython.core.display.HTML object>"
      ]
     },
     "metadata": {},
     "output_type": "display_data"
    },
    {
     "data": {
      "text/html": [
       "<span style=\"color:cyan\"> |-conv_2_filter: 48</span>"
      ],
      "text/plain": [
       "<IPython.core.display.HTML object>"
      ]
     },
     "metadata": {},
     "output_type": "display_data"
    },
    {
     "data": {
      "text/html": [
       "<span style=\"color:blue\"> |-conv_2_kernel: 5</span>"
      ],
      "text/plain": [
       "<IPython.core.display.HTML object>"
      ]
     },
     "metadata": {},
     "output_type": "display_data"
    },
    {
     "data": {
      "text/html": [
       "<span style=\"color:cyan\"> |-conv_3_filter: 80</span>"
      ],
      "text/plain": [
       "<IPython.core.display.HTML object>"
      ]
     },
     "metadata": {},
     "output_type": "display_data"
    },
    {
     "data": {
      "text/html": [
       "<span style=\"color:blue\"> |-conv_4_filter: 128</span>"
      ],
      "text/plain": [
       "<IPython.core.display.HTML object>"
      ]
     },
     "metadata": {},
     "output_type": "display_data"
    },
    {
     "data": {
      "text/html": [
       "<span style=\"color:cyan\"> |-d1: 0.001</span>"
      ],
      "text/plain": [
       "<IPython.core.display.HTML object>"
      ]
     },
     "metadata": {},
     "output_type": "display_data"
    },
    {
     "data": {
      "text/html": [
       "<span style=\"color:blue\"> |-d2: 0.0988531941310419</span>"
      ],
      "text/plain": [
       "<IPython.core.display.HTML object>"
      ]
     },
     "metadata": {},
     "output_type": "display_data"
    },
    {
     "data": {
      "text/html": [
       "<span style=\"color:cyan\"> |-d3: 0.026927855530331342</span>"
      ],
      "text/plain": [
       "<IPython.core.display.HTML object>"
      ]
     },
     "metadata": {},
     "output_type": "display_data"
    },
    {
     "data": {
      "text/html": [
       "<span style=\"color:blue\"> |-d4: 0.04690941965324817</span>"
      ],
      "text/plain": [
       "<IPython.core.display.HTML object>"
      ]
     },
     "metadata": {},
     "output_type": "display_data"
    },
    {
     "data": {
      "text/html": [
       "<span style=\"color:cyan\"> |-dense_1_units: 64</span>"
      ],
      "text/plain": [
       "<IPython.core.display.HTML object>"
      ]
     },
     "metadata": {},
     "output_type": "display_data"
    },
    {
     "data": {
      "text/html": [
       "<span style=\"color:blue\"> |-dense_4_units: 240</span>"
      ],
      "text/plain": [
       "<IPython.core.display.HTML object>"
      ]
     },
     "metadata": {},
     "output_type": "display_data"
    },
    {
     "data": {
      "text/html": [
       "<span style=\"color:cyan\"> |-dense_5_units: 448</span>"
      ],
      "text/plain": [
       "<IPython.core.display.HTML object>"
      ]
     },
     "metadata": {},
     "output_type": "display_data"
    },
    {
     "data": {
      "text/html": [
       "<span style=\"color:blue\"> |-learning_rate: 0.1</span>"
      ],
      "text/plain": [
       "<IPython.core.display.HTML object>"
      ]
     },
     "metadata": {},
     "output_type": "display_data"
    },
    {
     "name": "stdout",
     "output_type": "stream",
     "text": [
      "Train on 12630 samples, validate on 4410 samples\n",
      "Epoch 1/4\n",
      "11744/12630 [==========================>...] - ETA: 9:34 - loss: 3.7640 - accuracy: 0.01 - ETA: 3:20 - loss: 11.1606 - accuracy: 0.056 - ETA: 2:04 - loss: 12.5392 - accuracy: 0.071 - ETA: 1:32 - loss: 13.3458 - accuracy: 0.064 - ETA: 1:14 - loss: 13.9059 - accuracy: 0.053 - ETA: 1:02 - loss: 14.0792 - accuracy: 0.057 - ETA: 54s - loss: 14.2379 - accuracy: 0.058 - ETA: 48s - loss: 14.4550 - accuracy: 0.05 - ETA: 44s - loss: 14.5914 - accuracy: 0.05 - ETA: 40s - loss: 14.6196 - accuracy: 0.05 - ETA: 37s - loss: 14.7383 - accuracy: 0.04 - ETA: 35s - loss: 14.7926 - accuracy: 0.04 - ETA: 33s - loss: 14.8583 - accuracy: 0.04 - ETA: 31s - loss: 14.8770 - accuracy: 0.04 - ETA: 29s - loss: 14.9105 - accuracy: 0.04 - ETA: 28s - loss: 14.9397 - accuracy: 0.04 - ETA: 27s - loss: 14.9806 - accuracy: 0.04 - ETA: 26s - loss: 14.9736 - accuracy: 0.04 - ETA: 25s - loss: 14.9946 - accuracy: 0.04 - ETA: 24s - loss: 15.0523 - accuracy: 0.04 - ETA: 23s - loss: 15.0797 - accuracy: 0.04 - ETA: 22s - loss: 15.1045 - accuracy: 0.04 - ETA: 22s - loss: 15.1272 - accuracy: 0.04 - ETA: 21s - loss: 15.1265 - accuracy: 0.04 - ETA: 21s - loss: 15.0847 - accuracy: 0.04 - ETA: 20s - loss: 15.1055 - accuracy: 0.04 - ETA: 20s - loss: 15.1342 - accuracy: 0.04 - ETA: 19s - loss: 15.1517 - accuracy: 0.04 - ETA: 19s - loss: 15.1591 - accuracy: 0.04 - ETA: 18s - loss: 15.1660 - accuracy: 0.04 - ETA: 18s - loss: 15.1642 - accuracy: 0.04 - ETA: 18s - loss: 15.1625 - accuracy: 0.04 - ETA: 17s - loss: 15.1609 - accuracy: 0.04 - ETA: 17s - loss: 15.1819 - accuracy: 0.04 - ETA: 17s - loss: 15.1799 - accuracy: 0.04 - ETA: 16s - loss: 15.1850 - accuracy: 0.04 - ETA: 16s - loss: 15.1761 - accuracy: 0.04 - ETA: 16s - loss: 15.1945 - accuracy: 0.04 - ETA: 16s - loss: 15.1858 - accuracy: 0.04 - ETA: 15s - loss: 15.1647 - accuracy: 0.04 - ETA: 15s - loss: 15.1448 - accuracy: 0.05 - ETA: 15s - loss: 15.1439 - accuracy: 0.05 - ETA: 15s - loss: 15.1432 - accuracy: 0.05 - ETA: 14s - loss: 15.1598 - accuracy: 0.05 - ETA: 14s - loss: 15.1587 - accuracy: 0.05 - ETA: 14s - loss: 15.1465 - accuracy: 0.05 - ETA: 14s - loss: 15.1566 - accuracy: 0.05 - ETA: 14s - loss: 15.1185 - accuracy: 0.05 - ETA: 13s - loss: 15.1184 - accuracy: 0.05 - ETA: 13s - loss: 15.1284 - accuracy: 0.05 - ETA: 13s - loss: 15.1380 - accuracy: 0.05 - ETA: 13s - loss: 15.1424 - accuracy: 0.05 - ETA: 13s - loss: 15.1418 - accuracy: 0.05 - ETA: 12s - loss: 15.1506 - accuracy: 0.05 - ETA: 12s - loss: 15.1545 - accuracy: 0.05 - ETA: 12s - loss: 15.1628 - accuracy: 0.05 - ETA: 12s - loss: 15.1529 - accuracy: 0.05 - ETA: 12s - loss: 15.1610 - accuracy: 0.05 - ETA: 12s - loss: 15.1558 - accuracy: 0.05 - ETA: 12s - loss: 15.1550 - accuracy: 0.05 - ETA: 11s - loss: 15.1502 - accuracy: 0.05 - ETA: 11s - loss: 15.1577 - accuracy: 0.05 - ETA: 11s - loss: 15.1569 - accuracy: 0.05 - ETA: 11s - loss: 15.1483 - accuracy: 0.05 - ETA: 11s - loss: 15.1477 - accuracy: 0.05 - ETA: 11s - loss: 15.1356 - accuracy: 0.05 - ETA: 11s - loss: 15.1314 - accuracy: 0.05 - ETA: 11s - loss: 15.1199 - accuracy: 0.05 - ETA: 10s - loss: 15.1272 - accuracy: 0.05 - ETA: 10s - loss: 15.1161 - accuracy: 0.05 - ETA: 10s - loss: 15.1160 - accuracy: 0.05 - ETA: 10s - loss: 15.1230 - accuracy: 0.05 - ETA: 10s - loss: 15.1263 - accuracy: 0.05 - ETA: 10s - loss: 15.1295 - accuracy: 0.05 - ETA: 10s - loss: 15.1326 - accuracy: 0.05 - ETA: 10s - loss: 15.1256 - accuracy: 0.05 - ETA: 9s - loss: 15.1287 - accuracy: 0.0564 - ETA: 9s - loss: 15.1220 - accuracy: 0.056 - ETA: 9s - loss: 15.1251 - accuracy: 0.056 - ETA: 9s - loss: 15.1249 - accuracy: 0.056 - ETA: 9s - loss: 15.1247 - accuracy: 0.056 - ETA: 9s - loss: 15.1276 - accuracy: 0.056 - ETA: 9s - loss: 15.1122 - accuracy: 0.057 - ETA: 9s - loss: 15.1152 - accuracy: 0.057 - ETA: 9s - loss: 15.1151 - accuracy: 0.057 - ETA: 8s - loss: 15.1092 - accuracy: 0.058 - ETA: 8s - loss: 15.1179 - accuracy: 0.057 - ETA: 8s - loss: 15.1178 - accuracy: 0.057 - ETA: 8s - loss: 15.1206 - accuracy: 0.057 - ETA: 8s - loss: 15.1177 - accuracy: 0.057 - ETA: 8s - loss: 15.1120 - accuracy: 0.058 - ETA: 8s - loss: 15.1148 - accuracy: 0.058 - ETA: 8s - loss: 15.1202 - accuracy: 0.057 - ETA: 8s - loss: 15.1228 - accuracy: 0.057 - ETA: 8s - loss: 15.1253 - accuracy: 0.057 - ETA: 7s - loss: 15.1357 - accuracy: 0.057 - ETA: 7s - loss: 15.1276 - accuracy: 0.057 - ETA: 7s - loss: 15.1300 - accuracy: 0.057 - ETA: 7s - loss: 15.1298 - accuracy: 0.057 - ETA: 7s - loss: 15.1296 - accuracy: 0.057 - ETA: 7s - loss: 15.1320 - accuracy: 0.057 - ETA: 7s - loss: 15.1392 - accuracy: 0.057 - ETA: 7s - loss: 15.1414 - accuracy: 0.056 - ETA: 7s - loss: 15.1411 - accuracy: 0.057 - ETA: 7s - loss: 15.1408 - accuracy: 0.057 - ETA: 7s - loss: 15.1453 - accuracy: 0.056 - ETA: 6s - loss: 15.1426 - accuracy: 0.057 - ETA: 6s - loss: 15.1517 - accuracy: 0.056 - ETA: 6s - loss: 15.1513 - accuracy: 0.056 - ETA: 6s - loss: 15.1509 - accuracy: 0.056 - ETA: 6s - loss: 15.1505 - accuracy: 0.056 - ETA: 6s - loss: 15.1479 - accuracy: 0.056 - ETA: 6s - loss: 15.1498 - accuracy: 0.056 - ETA: 6s - loss: 15.1517 - accuracy: 0.056 - ETA: 6s - loss: 15.1579 - accuracy: 0.056 - ETA: 6s - loss: 15.1554 - accuracy: 0.056 - ETA: 6s - loss: 15.1550 - accuracy: 0.056 - ETA: 6s - loss: 15.1503 - accuracy: 0.056 - ETA: 5s - loss: 15.1542 - accuracy: 0.056 - ETA: 5s - loss: 15.1497 - accuracy: 0.056 - ETA: 5s - loss: 15.1535 - accuracy: 0.056 - ETA: 5s - loss: 15.1532 - accuracy: 0.056 - ETA: 5s - loss: 15.1569 - accuracy: 0.056 - ETA: 5s - loss: 15.1545 - accuracy: 0.056 - ETA: 5s - loss: 15.1440 - accuracy: 0.057 - ETA: 5s - loss: 15.1458 - accuracy: 0.057 - ETA: 5s - loss: 15.1435 - accuracy: 0.057 - ETA: 5s - loss: 15.1452 - accuracy: 0.057 - ETA: 5s - loss: 15.1469 - accuracy: 0.057 - ETA: 5s - loss: 15.1447 - accuracy: 0.057 - ETA: 4s - loss: 15.1483 - accuracy: 0.057 - ETA: 4s - loss: 15.1557 - accuracy: 0.056 - ETA: 4s - loss: 15.1515 - accuracy: 0.057 - ETA: 4s - loss: 15.1550 - accuracy: 0.056 - ETA: 4s - loss: 15.1584 - accuracy: 0.056 - ETA: 4s - loss: 15.1655 - accuracy: 0.056 - ETA: 4s - loss: 15.1669 - accuracy: 0.056 - ETA: 4s - loss: 15.1702 - accuracy: 0.056 - ETA: 4s - loss: 15.1716 - accuracy: 0.056 - ETA: 4s - loss: 15.1748 - accuracy: 0.055 - ETA: 4s - loss: 15.1815 - accuracy: 0.055 - ETA: 4s - loss: 15.1845 - accuracy: 0.055 - ETA: 4s - loss: 15.1876 - accuracy: 0.055 - ETA: 3s - loss: 15.1818 - accuracy: 0.055 - ETA: 3s - loss: 15.1708 - accuracy: 0.056 - ETA: 3s - loss: 15.1704 - accuracy: 0.056 - ETA: 3s - loss: 15.1700 - accuracy: 0.056 - ETA: 3s - loss: 15.1662 - accuracy: 0.056 - ETA: 3s - loss: 15.1624 - accuracy: 0.056 - ETA: 3s - loss: 15.1637 - accuracy: 0.056 - ETA: 3s - loss: 15.1617 - accuracy: 0.056 - ETA: 3s - loss: 15.1680 - accuracy: 0.056 - ETA: 3s - loss: 15.1726 - accuracy: 0.056 - ETA: 3s - loss: 15.1738 - accuracy: 0.056 - ETA: 3s - loss: 15.1685 - accuracy: 0.056 - ETA: 3s - loss: 15.1682 - accuracy: 0.056 - ETA: 2s - loss: 15.1678 - accuracy: 0.056 - ETA: 2s - loss: 15.1674 - accuracy: 0.056 - ETA: 2s - loss: 15.1703 - accuracy: 0.056 - ETA: 2s - loss: 15.1636 - accuracy: 0.056 - ETA: 2s - loss: 15.1585 - accuracy: 0.057 - ETA: 2s - loss: 15.1582 - accuracy: 0.057 - ETA: 2s - loss: 15.1595 - accuracy: 0.057 - ETA: 2s - loss: 15.1561 - accuracy: 0.057 - ETA: 2s - loss: 15.1543 - accuracy: 0.057 - ETA: 2s - loss: 15.1510 - accuracy: 0.057 - ETA: 2s - loss: 15.1538 - accuracy: 0.057 - ETA: 2s - loss: 15.1550 - accuracy: 0.057 - ETA: 2s - loss: 15.1563 - accuracy: 0.057 - ETA: 1s - loss: 15.1530 - accuracy: 0.057 - ETA: 1s - loss: 15.1498 - accuracy: 0.057 - ETA: 1s - loss: 15.1481 - accuracy: 0.058 - ETA: 1s - loss: 15.1508 - accuracy: 0.057 - ETA: 1s - loss: 15.1491 - accuracy: 0.057 - ETA: 1s - loss: 15.1518 - accuracy: 0.057 - ETA: 1s - loss: 15.1487 - accuracy: 0.058 - ETA: 1s - loss: 15.1456 - accuracy: 0.058 - ETA: 1s - loss: 15.1426 - accuracy: 0.058 - ETA: 1s - loss: 15.1438 - accuracy: 0.058 - ETA: 1s - loss: 15.1493 - accuracy: 0.058 - ETA: 1s - loss: 15.1491 - accuracy: 0.058 - ETA: 1s - loss: 15.1502 - accuracy: 0.058 - ETA: 1s - loss: 15.1528 - accuracy: 0.057 - ETA: 0s - loss: 15.1553 - accuracy: 0.0577\b\b\b\b\b\b\b\b\b\b\b\b\b\b\b\b\b\b\b\b\b\b\b\b\b\b\b\b\b\b\b\b\b\b\b\b\b\b\b\b\b\b\b\b\b\b\b\b\b\b\b\b\b\b\b\b\b\b\b\b\b\b\b\b\b\b\b\b\b\b\b\b\b\b\b\b\b\b\b\b\b\b\b\b\b\b\b\b\b12630/12630 [==============================] - ETA: 0s - loss: 15.1564 - accuracy: 0.057 - ETA: 0s - loss: 15.1602 - accuracy: 0.057 - ETA: 0s - loss: 15.1600 - accuracy: 0.057 - ETA: 0s - loss: 15.1584 - accuracy: 0.057 - ETA: 0s - loss: 15.1608 - accuracy: 0.057 - ETA: 0s - loss: 15.1645 - accuracy: 0.057 - ETA: 0s - loss: 15.1655 - accuracy: 0.057 - ETA: 0s - loss: 15.1653 - accuracy: 0.057 - ETA: 0s - loss: 15.1637 - accuracy: 0.057 - ETA: 0s - loss: 15.1660 - accuracy: 0.057 - ETA: 0s - loss: 15.1683 - accuracy: 0.057 - ETA: 0s - loss: 15.1706 - accuracy: 0.056 - ETA: 0s - loss: 15.1703 - accuracy: 0.056 - 16s 1ms/sample - loss: 15.1743 - accuracy: 0.0567 - val_loss: 15.2409 - val_accuracy: 0.0545\n",
      "Epoch 2/4\n",
      "11872/12630 [===========================>..] - ETA: 12s - loss: 15.6144 - accuracy: 0.03 - ETA: 12s - loss: 15.7823 - accuracy: 0.02 - ETA: 12s - loss: 15.6144 - accuracy: 0.03 - ETA: 12s - loss: 15.6864 - accuracy: 0.02 - ETA: 12s - loss: 15.6704 - accuracy: 0.02 - ETA: 12s - loss: 15.7060 - accuracy: 0.02 - ETA: 12s - loss: 15.5757 - accuracy: 0.03 - ETA: 11s - loss: 15.5473 - accuracy: 0.03 - ETA: 11s - loss: 15.4663 - accuracy: 0.04 - ETA: 11s - loss: 15.5084 - accuracy: 0.03 - ETA: 11s - loss: 15.4705 - accuracy: 0.04 - ETA: 11s - loss: 15.5049 - accuracy: 0.03 - ETA: 11s - loss: 15.5137 - accuracy: 0.03 - ETA: 11s - loss: 15.4652 - accuracy: 0.04 - ETA: 11s - loss: 15.4581 - accuracy: 0.04 - ETA: 11s - loss: 15.4682 - accuracy: 0.04 - ETA: 11s - loss: 15.5076 - accuracy: 0.03 - ETA: 11s - loss: 15.4705 - accuracy: 0.04 - ETA: 11s - loss: 15.3830 - accuracy: 0.04 - ETA: 11s - loss: 15.3949 - accuracy: 0.04 - ETA: 11s - loss: 15.4178 - accuracy: 0.04 - ETA: 11s - loss: 15.3801 - accuracy: 0.04 - ETA: 11s - loss: 15.3794 - accuracy: 0.04 - ETA: 10s - loss: 15.3679 - accuracy: 0.04 - ETA: 10s - loss: 15.3883 - accuracy: 0.04 - ETA: 10s - loss: 15.3873 - accuracy: 0.04 - ETA: 10s - loss: 15.3863 - accuracy: 0.04 - ETA: 10s - loss: 15.3946 - accuracy: 0.04 - ETA: 10s - loss: 15.3581 - accuracy: 0.04 - ETA: 10s - loss: 15.3583 - accuracy: 0.04 - ETA: 10s - loss: 15.3667 - accuracy: 0.04 - ETA: 10s - loss: 15.3826 - accuracy: 0.04 - ETA: 10s - loss: 15.3819 - accuracy: 0.04 - ETA: 10s - loss: 15.3738 - accuracy: 0.04 - ETA: 10s - loss: 15.3881 - accuracy: 0.04 - ETA: 10s - loss: 15.3803 - accuracy: 0.04 - ETA: 10s - loss: 15.3660 - accuracy: 0.04 - ETA: 10s - loss: 15.3323 - accuracy: 0.04 - ETA: 10s - loss: 15.3266 - accuracy: 0.04 - ETA: 9s - loss: 15.3084 - accuracy: 0.0502 - ETA: 9s - loss: 15.3284 - accuracy: 0.049 - ETA: 9s - loss: 15.3171 - accuracy: 0.049 - ETA: 9s - loss: 15.3181 - accuracy: 0.049 - ETA: 9s - loss: 15.3076 - accuracy: 0.050 - ETA: 9s - loss: 15.3201 - accuracy: 0.049 - ETA: 9s - loss: 15.3100 - accuracy: 0.050 - ETA: 9s - loss: 15.3165 - accuracy: 0.049 - ETA: 9s - loss: 15.3122 - accuracy: 0.050 - ETA: 9s - loss: 15.3080 - accuracy: 0.050 - ETA: 9s - loss: 15.3142 - accuracy: 0.049 - ETA: 9s - loss: 15.3002 - accuracy: 0.050 - ETA: 9s - loss: 15.3014 - accuracy: 0.050 - ETA: 9s - loss: 15.3026 - accuracy: 0.050 - ETA: 9s - loss: 15.2802 - accuracy: 0.052 - ETA: 9s - loss: 15.2817 - accuracy: 0.051 - ETA: 8s - loss: 15.2877 - accuracy: 0.051 - ETA: 8s - loss: 15.2846 - accuracy: 0.051 - ETA: 8s - loss: 15.2859 - accuracy: 0.051 - ETA: 8s - loss: 15.2872 - accuracy: 0.051 - ETA: 8s - loss: 15.2843 - accuracy: 0.051 - ETA: 8s - loss: 15.2856 - accuracy: 0.051 - ETA: 8s - loss: 15.2827 - accuracy: 0.051 - ETA: 8s - loss: 15.2920 - accuracy: 0.051 - ETA: 8s - loss: 15.2932 - accuracy: 0.051 - ETA: 8s - loss: 15.3020 - accuracy: 0.050 - ETA: 8s - loss: 15.2991 - accuracy: 0.050 - ETA: 8s - loss: 15.2963 - accuracy: 0.051 - ETA: 8s - loss: 15.2973 - accuracy: 0.050 - ETA: 8s - loss: 15.2945 - accuracy: 0.051 - ETA: 8s - loss: 15.2955 - accuracy: 0.051 - ETA: 8s - loss: 15.2929 - accuracy: 0.051 - ETA: 7s - loss: 15.2833 - accuracy: 0.051 - ETA: 7s - loss: 15.2879 - accuracy: 0.051 - ETA: 7s - loss: 15.2855 - accuracy: 0.051 - ETA: 7s - loss: 15.2865 - accuracy: 0.051 - ETA: 7s - loss: 15.2908 - accuracy: 0.051 - ETA: 7s - loss: 15.2852 - accuracy: 0.051 - ETA: 7s - loss: 15.2765 - accuracy: 0.052 - ETA: 7s - loss: 15.2743 - accuracy: 0.052 - ETA: 7s - loss: 15.2723 - accuracy: 0.052 - ETA: 7s - loss: 15.2703 - accuracy: 0.052 - ETA: 7s - loss: 15.2683 - accuracy: 0.052 - ETA: 7s - loss: 15.2695 - accuracy: 0.052 - ETA: 7s - loss: 15.2676 - accuracy: 0.052 - ETA: 7s - loss: 15.2627 - accuracy: 0.053 - ETA: 7s - loss: 15.2639 - accuracy: 0.053 - ETA: 7s - loss: 15.2650 - accuracy: 0.052 - ETA: 6s - loss: 15.2604 - accuracy: 0.053 - ETA: 6s - loss: 15.2559 - accuracy: 0.053 - ETA: 6s - loss: 15.2542 - accuracy: 0.053 - ETA: 6s - loss: 15.2526 - accuracy: 0.053 - ETA: 6s - loss: 15.2566 - accuracy: 0.053 - ETA: 6s - loss: 15.2605 - accuracy: 0.053 - ETA: 6s - loss: 15.2616 - accuracy: 0.053 - ETA: 6s - loss: 15.2600 - accuracy: 0.053 - ETA: 6s - loss: 15.2505 - accuracy: 0.053 - ETA: 6s - loss: 15.2516 - accuracy: 0.053 - ETA: 6s - loss: 15.2528 - accuracy: 0.053 - ETA: 6s - loss: 15.2488 - accuracy: 0.053 - ETA: 6s - loss: 15.2474 - accuracy: 0.054 - ETA: 6s - loss: 15.2435 - accuracy: 0.054 - ETA: 6s - loss: 15.2397 - accuracy: 0.054 - ETA: 5s - loss: 15.2385 - accuracy: 0.054 - ETA: 5s - loss: 15.2421 - accuracy: 0.054 - ETA: 5s - loss: 15.2409 - accuracy: 0.054 - ETA: 5s - loss: 15.2396 - accuracy: 0.054 - ETA: 5s - loss: 15.2431 - accuracy: 0.054 - ETA: 5s - loss: 15.2396 - accuracy: 0.054 - ETA: 5s - loss: 15.2384 - accuracy: 0.054 - ETA: 5s - loss: 15.2395 - accuracy: 0.054 - ETA: 5s - loss: 15.2315 - accuracy: 0.055 - ETA: 5s - loss: 15.2282 - accuracy: 0.055 - ETA: 5s - loss: 15.2316 - accuracy: 0.055 - ETA: 5s - loss: 15.2372 - accuracy: 0.054 - ETA: 5s - loss: 15.2361 - accuracy: 0.054 - ETA: 5s - loss: 15.2306 - accuracy: 0.055 - ETA: 5s - loss: 15.2296 - accuracy: 0.055 - ETA: 5s - loss: 15.2307 - accuracy: 0.055 - ETA: 4s - loss: 15.2191 - accuracy: 0.055 - ETA: 4s - loss: 15.2224 - accuracy: 0.055 - ETA: 4s - loss: 15.2257 - accuracy: 0.055 - ETA: 4s - loss: 15.2185 - accuracy: 0.055 - ETA: 4s - loss: 15.2238 - accuracy: 0.055 - ETA: 4s - loss: 15.2188 - accuracy: 0.055 - ETA: 4s - loss: 15.2159 - accuracy: 0.056 - ETA: 4s - loss: 15.2211 - accuracy: 0.055 - ETA: 4s - loss: 15.2202 - accuracy: 0.055 - ETA: 4s - loss: 15.2174 - accuracy: 0.055 - ETA: 4s - loss: 15.2087 - accuracy: 0.056 - ETA: 4s - loss: 15.2080 - accuracy: 0.056 - ETA: 4s - loss: 15.2053 - accuracy: 0.056 - ETA: 4s - loss: 15.2065 - accuracy: 0.056 - ETA: 4s - loss: 15.2115 - accuracy: 0.056 - ETA: 4s - loss: 15.2145 - accuracy: 0.056 - ETA: 3s - loss: 15.2118 - accuracy: 0.056 - ETA: 3s - loss: 15.2092 - accuracy: 0.056 - ETA: 3s - loss: 15.2159 - accuracy: 0.056 - ETA: 3s - loss: 15.2115 - accuracy: 0.056 - ETA: 3s - loss: 15.2125 - accuracy: 0.056 - ETA: 3s - loss: 15.2046 - accuracy: 0.056 - ETA: 3s - loss: 15.2075 - accuracy: 0.056 - ETA: 3s - loss: 15.2122 - accuracy: 0.056 - ETA: 3s - loss: 15.2150 - accuracy: 0.056 - ETA: 3s - loss: 15.2178 - accuracy: 0.055 - ETA: 3s - loss: 15.2205 - accuracy: 0.055 - ETA: 3s - loss: 15.2215 - accuracy: 0.055 - ETA: 3s - loss: 15.2242 - accuracy: 0.055 - ETA: 3s - loss: 15.2268 - accuracy: 0.055 - ETA: 3s - loss: 15.2260 - accuracy: 0.055 - ETA: 3s - loss: 15.2185 - accuracy: 0.055 - ETA: 2s - loss: 15.2161 - accuracy: 0.056 - ETA: 2s - loss: 15.2171 - accuracy: 0.055 - ETA: 2s - loss: 15.2181 - accuracy: 0.055 - ETA: 2s - loss: 15.2190 - accuracy: 0.055 - ETA: 2s - loss: 15.2167 - accuracy: 0.055 - ETA: 2s - loss: 15.2160 - accuracy: 0.056 - ETA: 2s - loss: 15.2153 - accuracy: 0.056 - ETA: 2s - loss: 15.2179 - accuracy: 0.055 - ETA: 2s - loss: 15.2140 - accuracy: 0.056 - ETA: 2s - loss: 15.2181 - accuracy: 0.055 - ETA: 2s - loss: 15.2143 - accuracy: 0.056 - ETA: 2s - loss: 15.2168 - accuracy: 0.055 - ETA: 2s - loss: 15.2146 - accuracy: 0.056 - ETA: 2s - loss: 15.2108 - accuracy: 0.056 - ETA: 2s - loss: 15.2087 - accuracy: 0.056 - ETA: 2s - loss: 15.2051 - accuracy: 0.056 - ETA: 1s - loss: 15.2075 - accuracy: 0.056 - ETA: 1s - loss: 15.2069 - accuracy: 0.056 - ETA: 1s - loss: 15.2064 - accuracy: 0.056 - ETA: 1s - loss: 15.2073 - accuracy: 0.056 - ETA: 1s - loss: 15.2082 - accuracy: 0.056 - ETA: 1s - loss: 15.2062 - accuracy: 0.056 - ETA: 1s - loss: 15.2085 - accuracy: 0.056 - ETA: 1s - loss: 15.2080 - accuracy: 0.056 - ETA: 1s - loss: 15.2074 - accuracy: 0.056 - ETA: 1s - loss: 15.2069 - accuracy: 0.056 - ETA: 1s - loss: 15.2077 - accuracy: 0.056 - ETA: 1s - loss: 15.2100 - accuracy: 0.056 - ETA: 1s - loss: 15.2024 - accuracy: 0.056 - ETA: 1s - loss: 15.2033 - accuracy: 0.056 - ETA: 1s - loss: 15.1986 - accuracy: 0.057 - ETA: 1s - loss: 15.1981 - accuracy: 0.057 - ETA: 0s - loss: 15.1990 - accuracy: 0.057 - ETA: 0s - loss: 15.1958 - accuracy: 0.057 - ETA: 0s - loss: 15.1954 - accuracy: 0.057 - ETA: 0s - loss: 15.1990 - accuracy: 0.057012630/12630 [==============================] - ETA: 0s - loss: 15.2012 - accuracy: 0.056 - ETA: 0s - loss: 15.1967 - accuracy: 0.057 - ETA: 0s - loss: 15.1976 - accuracy: 0.057 - ETA: 0s - loss: 15.1998 - accuracy: 0.057 - ETA: 0s - loss: 15.1967 - accuracy: 0.057 - ETA: 0s - loss: 15.1975 - accuracy: 0.057 - ETA: 0s - loss: 15.1997 - accuracy: 0.057 - ETA: 0s - loss: 15.2018 - accuracy: 0.056 - ETA: 0s - loss: 15.2001 - accuracy: 0.057 - ETA: 0s - loss: 15.1996 - accuracy: 0.057 - ETA: 0s - loss: 15.2004 - accuracy: 0.056 - 14s 1ms/sample - loss: 15.1993 - accuracy: 0.0570 - val_loss: 15.2409 - val_accuracy: 0.0545\n",
      "Epoch 3/4\n",
      "11872/12630 [===========================>..] - ETA: 12s - loss: 14.6070 - accuracy: 0.09 - ETA: 12s - loss: 14.9428 - accuracy: 0.07 - ETA: 12s - loss: 15.2115 - accuracy: 0.05 - ETA: 12s - loss: 15.2546 - accuracy: 0.05 - ETA: 12s - loss: 14.9988 - accuracy: 0.06 - ETA: 12s - loss: 14.9276 - accuracy: 0.07 - ETA: 12s - loss: 14.9557 - accuracy: 0.07 - ETA: 12s - loss: 14.9428 - accuracy: 0.07 - ETA: 12s - loss: 14.8441 - accuracy: 0.07 - ETA: 12s - loss: 14.9251 - accuracy: 0.07 - ETA: 11s - loss: 14.8709 - accuracy: 0.07 - ETA: 11s - loss: 14.9136 - accuracy: 0.07 - ETA: 11s - loss: 14.9294 - accuracy: 0.07 - ETA: 11s - loss: 14.9242 - accuracy: 0.07 - ETA: 11s - loss: 14.8849 - accuracy: 0.07 - ETA: 11s - loss: 14.9320 - accuracy: 0.07 - ETA: 11s - loss: 14.9276 - accuracy: 0.07 - ETA: 11s - loss: 14.9380 - accuracy: 0.07 - ETA: 11s - loss: 14.9201 - accuracy: 0.07 - ETA: 11s - loss: 14.9299 - accuracy: 0.07 - ETA: 11s - loss: 14.9387 - accuracy: 0.07 - ETA: 11s - loss: 14.9350 - accuracy: 0.07 - ETA: 11s - loss: 14.9540 - accuracy: 0.07 - ETA: 11s - loss: 14.9714 - accuracy: 0.07 - ETA: 11s - loss: 14.9874 - accuracy: 0.07 - ETA: 10s - loss: 14.9922 - accuracy: 0.06 - ETA: 10s - loss: 15.0157 - accuracy: 0.06 - ETA: 10s - loss: 15.0466 - accuracy: 0.06 - ETA: 10s - loss: 15.0577 - accuracy: 0.06 - ETA: 10s - loss: 15.0936 - accuracy: 0.06 - ETA: 10s - loss: 15.0859 - accuracy: 0.06 - ETA: 10s - loss: 15.0947 - accuracy: 0.06 - ETA: 10s - loss: 15.0797 - accuracy: 0.06 - ETA: 10s - loss: 15.0506 - accuracy: 0.06 - ETA: 10s - loss: 15.0304 - accuracy: 0.06 - ETA: 10s - loss: 15.0469 - accuracy: 0.06 - ETA: 10s - loss: 15.0486 - accuracy: 0.06 - ETA: 10s - loss: 15.0570 - accuracy: 0.06 - ETA: 10s - loss: 15.0388 - accuracy: 0.06 - ETA: 10s - loss: 15.0470 - accuracy: 0.06 - ETA: 10s - loss: 15.0548 - accuracy: 0.06 - ETA: 9s - loss: 15.0500 - accuracy: 0.0663 - ETA: 9s - loss: 15.0692 - accuracy: 0.065 - ETA: 9s - loss: 15.0876 - accuracy: 0.063 - ETA: 9s - loss: 15.0824 - accuracy: 0.064 - ETA: 9s - loss: 15.0830 - accuracy: 0.064 - ETA: 9s - loss: 15.0782 - accuracy: 0.064 - ETA: 9s - loss: 15.0683 - accuracy: 0.065 - ETA: 9s - loss: 15.0848 - accuracy: 0.064 - ETA: 9s - loss: 15.1056 - accuracy: 0.062 - ETA: 9s - loss: 15.1157 - accuracy: 0.062 - ETA: 9s - loss: 15.1205 - accuracy: 0.061 - ETA: 9s - loss: 15.1299 - accuracy: 0.061 - ETA: 9s - loss: 15.1390 - accuracy: 0.060 - ETA: 9s - loss: 15.1431 - accuracy: 0.060 - ETA: 9s - loss: 15.1606 - accuracy: 0.059 - ETA: 9s - loss: 15.1598 - accuracy: 0.059 - ETA: 8s - loss: 15.1633 - accuracy: 0.059 - ETA: 8s - loss: 15.1495 - accuracy: 0.060 - ETA: 8s - loss: 15.1573 - accuracy: 0.059 - ETA: 8s - loss: 15.1482 - accuracy: 0.060 - ETA: 8s - loss: 15.1476 - accuracy: 0.060 - ETA: 8s - loss: 15.1470 - accuracy: 0.060 - ETA: 8s - loss: 15.1504 - accuracy: 0.060 - ETA: 8s - loss: 15.1341 - accuracy: 0.061 - ETA: 8s - loss: 15.1338 - accuracy: 0.061 - ETA: 8s - loss: 15.1410 - accuracy: 0.060 - ETA: 8s - loss: 15.1443 - accuracy: 0.060 - ETA: 8s - loss: 15.1512 - accuracy: 0.060 - ETA: 8s - loss: 15.1578 - accuracy: 0.059 - ETA: 8s - loss: 15.1607 - accuracy: 0.059 - ETA: 8s - loss: 15.1600 - accuracy: 0.059 - ETA: 7s - loss: 15.1628 - accuracy: 0.059 - ETA: 7s - loss: 15.1621 - accuracy: 0.059 - ETA: 7s - loss: 15.1682 - accuracy: 0.058 - ETA: 7s - loss: 15.1507 - accuracy: 0.060 - ETA: 7s - loss: 15.1502 - accuracy: 0.060 - ETA: 7s - loss: 15.1400 - accuracy: 0.060 - ETA: 7s - loss: 15.1396 - accuracy: 0.060 - ETA: 7s - loss: 15.1361 - accuracy: 0.060 - ETA: 7s - loss: 15.1264 - accuracy: 0.061 - ETA: 7s - loss: 15.1262 - accuracy: 0.061 - ETA: 7s - loss: 15.1290 - accuracy: 0.061 - ETA: 7s - loss: 15.1348 - accuracy: 0.061 - ETA: 7s - loss: 15.1405 - accuracy: 0.060 - ETA: 7s - loss: 15.1313 - accuracy: 0.061 - ETA: 7s - loss: 15.1398 - accuracy: 0.060 - ETA: 7s - loss: 15.1366 - accuracy: 0.060 - ETA: 6s - loss: 15.1392 - accuracy: 0.060 - ETA: 6s - loss: 15.1389 - accuracy: 0.060 - ETA: 6s - loss: 15.1413 - accuracy: 0.060 - ETA: 6s - loss: 15.1465 - accuracy: 0.060 - ETA: 6s - loss: 15.1488 - accuracy: 0.060 - ETA: 6s - loss: 15.1511 - accuracy: 0.060 - ETA: 6s - loss: 15.1614 - accuracy: 0.059 - ETA: 6s - loss: 15.1556 - accuracy: 0.059 - ETA: 6s - loss: 15.1525 - accuracy: 0.059 - ETA: 6s - loss: 15.1546 - accuracy: 0.059 - ETA: 6s - loss: 15.1516 - accuracy: 0.060 - ETA: 6s - loss: 15.1462 - accuracy: 0.060 - ETA: 6s - loss: 15.1508 - accuracy: 0.060 - ETA: 6s - loss: 15.1529 - accuracy: 0.059 - ETA: 6s - loss: 15.1599 - accuracy: 0.059 - ETA: 6s - loss: 15.1570 - accuracy: 0.059 - ETA: 5s - loss: 15.1565 - accuracy: 0.059 - ETA: 5s - loss: 15.1585 - accuracy: 0.059 - ETA: 5s - loss: 15.1604 - accuracy: 0.059 - ETA: 5s - loss: 15.1552 - accuracy: 0.059 - ETA: 5s - loss: 15.1595 - accuracy: 0.059 - ETA: 5s - loss: 15.1590 - accuracy: 0.059 - ETA: 5s - loss: 15.1563 - accuracy: 0.059 - ETA: 5s - loss: 15.1469 - accuracy: 0.060 - ETA: 5s - loss: 15.1465 - accuracy: 0.060 - ETA: 5s - loss: 15.1507 - accuracy: 0.060 - ETA: 5s - loss: 15.1503 - accuracy: 0.060 - ETA: 5s - loss: 15.1478 - accuracy: 0.060 - ETA: 5s - loss: 15.1388 - accuracy: 0.060 - ETA: 5s - loss: 15.1450 - accuracy: 0.060 - ETA: 5s - loss: 15.1490 - accuracy: 0.060 - ETA: 4s - loss: 15.1508 - accuracy: 0.060 - ETA: 4s - loss: 15.1546 - accuracy: 0.059 - ETA: 4s - loss: 15.1584 - accuracy: 0.059 - ETA: 4s - loss: 15.1601 - accuracy: 0.059 - ETA: 4s - loss: 15.1576 - accuracy: 0.059 - ETA: 4s - loss: 15.1613 - accuracy: 0.059 - ETA: 4s - loss: 15.1589 - accuracy: 0.059 - ETA: 4s - loss: 15.1585 - accuracy: 0.059 - ETA: 4s - loss: 15.1660 - accuracy: 0.059 - ETA: 4s - loss: 15.1636 - accuracy: 0.059 - ETA: 4s - loss: 15.1691 - accuracy: 0.058 - ETA: 4s - loss: 15.1725 - accuracy: 0.058 - ETA: 4s - loss: 15.1758 - accuracy: 0.058 - ETA: 4s - loss: 15.1829 - accuracy: 0.058 - ETA: 4s - loss: 15.1843 - accuracy: 0.057 - ETA: 4s - loss: 15.1837 - accuracy: 0.058 - ETA: 3s - loss: 15.1888 - accuracy: 0.057 - ETA: 3s - loss: 15.1901 - accuracy: 0.057 - ETA: 3s - loss: 15.1840 - accuracy: 0.058 - ETA: 3s - loss: 15.1853 - accuracy: 0.057 - ETA: 3s - loss: 15.1883 - accuracy: 0.057 - ETA: 3s - loss: 15.1896 - accuracy: 0.057 - ETA: 3s - loss: 15.1926 - accuracy: 0.057 - ETA: 3s - loss: 15.1920 - accuracy: 0.057 - ETA: 3s - loss: 15.1950 - accuracy: 0.057 - ETA: 3s - loss: 15.1961 - accuracy: 0.057 - ETA: 3s - loss: 15.1938 - accuracy: 0.057 - ETA: 3s - loss: 15.1915 - accuracy: 0.057 - ETA: 3s - loss: 15.1978 - accuracy: 0.057 - ETA: 3s - loss: 15.1921 - accuracy: 0.057 - ETA: 3s - loss: 15.1949 - accuracy: 0.057 - ETA: 2s - loss: 15.1944 - accuracy: 0.057 - ETA: 2s - loss: 15.1938 - accuracy: 0.057 - ETA: 2s - loss: 15.1966 - accuracy: 0.057 - ETA: 2s - loss: 15.1960 - accuracy: 0.057 - ETA: 2s - loss: 15.1987 - accuracy: 0.057 - ETA: 2s - loss: 15.2014 - accuracy: 0.056 - ETA: 2s - loss: 15.1976 - accuracy: 0.057 - ETA: 2s - loss: 15.1971 - accuracy: 0.057 - ETA: 2s - loss: 15.1997 - accuracy: 0.057 - ETA: 2s - loss: 15.1991 - accuracy: 0.057 - ETA: 2s - loss: 15.2033 - accuracy: 0.056 - ETA: 2s - loss: 15.2043 - accuracy: 0.056 - ETA: 2s - loss: 15.2053 - accuracy: 0.056 - ETA: 2s - loss: 15.2078 - accuracy: 0.056 - ETA: 2s - loss: 15.2087 - accuracy: 0.056 - ETA: 2s - loss: 15.2081 - accuracy: 0.056 - ETA: 1s - loss: 15.2090 - accuracy: 0.056 - ETA: 1s - loss: 15.2085 - accuracy: 0.056 - ETA: 1s - loss: 15.2079 - accuracy: 0.056 - ETA: 1s - loss: 15.2058 - accuracy: 0.056 - ETA: 1s - loss: 15.2112 - accuracy: 0.056 - ETA: 1s - loss: 15.2150 - accuracy: 0.056 - ETA: 1s - loss: 15.2144 - accuracy: 0.056 - ETA: 1s - loss: 15.2123 - accuracy: 0.056 - ETA: 1s - loss: 15.2117 - accuracy: 0.056 - ETA: 1s - loss: 15.2140 - accuracy: 0.056 - ETA: 1s - loss: 15.2149 - accuracy: 0.056 - ETA: 1s - loss: 15.2143 - accuracy: 0.056 - ETA: 1s - loss: 15.2123 - accuracy: 0.056 - ETA: 1s - loss: 15.2131 - accuracy: 0.056 - ETA: 1s - loss: 15.2098 - accuracy: 0.056 - ETA: 1s - loss: 15.2134 - accuracy: 0.056 - ETA: 0s - loss: 15.2156 - accuracy: 0.056 - ETA: 0s - loss: 15.2123 - accuracy: 0.056 - ETA: 0s - loss: 15.2117 - accuracy: 0.056 - ETA: 0s - loss: 15.2125 - accuracy: 0.056212630/12630 [==============================] - ETA: 0s - loss: 15.2079 - accuracy: 0.056 - ETA: 0s - loss: 15.2074 - accuracy: 0.056 - ETA: 0s - loss: 15.2069 - accuracy: 0.056 - ETA: 0s - loss: 15.2037 - accuracy: 0.056 - ETA: 0s - loss: 15.2033 - accuracy: 0.056 - ETA: 0s - loss: 15.2041 - accuracy: 0.056 - ETA: 0s - loss: 15.2010 - accuracy: 0.056 - ETA: 0s - loss: 15.2005 - accuracy: 0.056 - ETA: 0s - loss: 15.1988 - accuracy: 0.057 - ETA: 0s - loss: 15.2022 - accuracy: 0.056 - ETA: 0s - loss: 15.1992 - accuracy: 0.057 - 14s 1ms/sample - loss: 15.1993 - accuracy: 0.0570 - val_loss: 15.2409 - val_accuracy: 0.0545\n",
      "Epoch 4/4\n",
      "11872/12630 [===========================>..] - ETA: 12s - loss: 15.1107 - accuracy: 0.06 - ETA: 11s - loss: 15.1107 - accuracy: 0.06 - ETA: 12s - loss: 15.0100 - accuracy: 0.06 - ETA: 12s - loss: 14.8229 - accuracy: 0.08 - ETA: 12s - loss: 14.8309 - accuracy: 0.07 - ETA: 12s - loss: 15.0191 - accuracy: 0.06 - ETA: 12s - loss: 15.0332 - accuracy: 0.06 - ETA: 12s - loss: 14.9764 - accuracy: 0.07 - ETA: 12s - loss: 14.9626 - accuracy: 0.07 - ETA: 12s - loss: 14.9517 - accuracy: 0.07 - ETA: 12s - loss: 15.0148 - accuracy: 0.06 - ETA: 11s - loss: 15.0012 - accuracy: 0.06 - ETA: 11s - loss: 15.0503 - accuracy: 0.06 - ETA: 11s - loss: 15.0548 - accuracy: 0.06 - ETA: 11s - loss: 15.0239 - accuracy: 0.06 - ETA: 11s - loss: 15.0782 - accuracy: 0.06 - ETA: 11s - loss: 15.0955 - accuracy: 0.06 - ETA: 11s - loss: 15.1539 - accuracy: 0.05 - ETA: 11s - loss: 15.1516 - accuracy: 0.06 - ETA: 11s - loss: 15.1366 - accuracy: 0.06 - ETA: 11s - loss: 15.1230 - accuracy: 0.06 - ETA: 11s - loss: 15.1224 - accuracy: 0.06 - ETA: 11s - loss: 15.1107 - accuracy: 0.06 - ETA: 11s - loss: 15.1107 - accuracy: 0.06 - ETA: 11s - loss: 15.0799 - accuracy: 0.06 - ETA: 10s - loss: 15.0910 - accuracy: 0.06 - ETA: 10s - loss: 15.0917 - accuracy: 0.06 - ETA: 10s - loss: 15.0924 - accuracy: 0.06 - ETA: 10s - loss: 15.1019 - accuracy: 0.06 - ETA: 10s - loss: 15.0936 - accuracy: 0.06 - ETA: 10s - loss: 15.0942 - accuracy: 0.06 - ETA: 10s - loss: 15.1267 - accuracy: 0.06 - ETA: 10s - loss: 15.1340 - accuracy: 0.06 - ETA: 10s - loss: 15.1483 - accuracy: 0.06 - ETA: 10s - loss: 15.1691 - accuracy: 0.05 - ETA: 10s - loss: 15.1746 - accuracy: 0.05 - ETA: 10s - loss: 15.1866 - accuracy: 0.05 - ETA: 10s - loss: 15.1712 - accuracy: 0.05 - ETA: 10s - loss: 15.1565 - accuracy: 0.05 - ETA: 10s - loss: 15.1745 - accuracy: 0.05 - ETA: 10s - loss: 15.1729 - accuracy: 0.05 - ETA: 9s - loss: 15.1714 - accuracy: 0.0587 - ETA: 9s - loss: 15.1700 - accuracy: 0.058 - ETA: 9s - loss: 15.1860 - accuracy: 0.057 - ETA: 9s - loss: 15.2013 - accuracy: 0.056 - ETA: 9s - loss: 15.2159 - accuracy: 0.056 - ETA: 9s - loss: 15.2190 - accuracy: 0.055 - ETA: 9s - loss: 15.2168 - accuracy: 0.055 - ETA: 9s - loss: 15.2198 - accuracy: 0.055 - ETA: 9s - loss: 15.2125 - accuracy: 0.056 - ETA: 9s - loss: 15.2005 - accuracy: 0.056 - ETA: 9s - loss: 15.1939 - accuracy: 0.057 - ETA: 9s - loss: 15.1923 - accuracy: 0.057 - ETA: 9s - loss: 15.2002 - accuracy: 0.057 - ETA: 9s - loss: 15.2031 - accuracy: 0.056 - ETA: 9s - loss: 15.2015 - accuracy: 0.056 - ETA: 8s - loss: 15.2088 - accuracy: 0.056 - ETA: 8s - loss: 15.1939 - accuracy: 0.057 - ETA: 8s - loss: 15.2097 - accuracy: 0.056 - ETA: 8s - loss: 15.2165 - accuracy: 0.055 - ETA: 8s - loss: 15.2190 - accuracy: 0.055 - ETA: 8s - loss: 15.2213 - accuracy: 0.055 - ETA: 8s - loss: 15.2235 - accuracy: 0.055 - ETA: 8s - loss: 15.2257 - accuracy: 0.055 - ETA: 8s - loss: 15.2122 - accuracy: 0.056 - ETA: 8s - loss: 15.2030 - accuracy: 0.056 - ETA: 8s - loss: 15.2016 - accuracy: 0.056 - ETA: 8s - loss: 15.2152 - accuracy: 0.056 - ETA: 8s - loss: 15.2173 - accuracy: 0.055 - ETA: 8s - loss: 15.2158 - accuracy: 0.056 - ETA: 8s - loss: 15.2250 - accuracy: 0.055 - ETA: 8s - loss: 15.2340 - accuracy: 0.054 - ETA: 7s - loss: 15.2288 - accuracy: 0.055 - ETA: 7s - loss: 15.2204 - accuracy: 0.055 - ETA: 7s - loss: 15.2155 - accuracy: 0.056 - ETA: 7s - loss: 15.2175 - accuracy: 0.055 - ETA: 7s - loss: 15.2194 - accuracy: 0.055 - ETA: 7s - loss: 15.2212 - accuracy: 0.055 - ETA: 7s - loss: 15.2134 - accuracy: 0.056 - ETA: 7s - loss: 15.2089 - accuracy: 0.056 - ETA: 7s - loss: 15.2108 - accuracy: 0.056 - ETA: 7s - loss: 15.2189 - accuracy: 0.055 - ETA: 7s - loss: 15.2206 - accuracy: 0.055 - ETA: 7s - loss: 15.2223 - accuracy: 0.055 - ETA: 7s - loss: 15.2299 - accuracy: 0.055 - ETA: 7s - loss: 15.2227 - accuracy: 0.055 - ETA: 7s - loss: 15.2243 - accuracy: 0.055 - ETA: 7s - loss: 15.2172 - accuracy: 0.055 - ETA: 6s - loss: 15.2189 - accuracy: 0.055 - ETA: 6s - loss: 15.2289 - accuracy: 0.055 - ETA: 6s - loss: 15.2137 - accuracy: 0.056 - ETA: 6s - loss: 15.2181 - accuracy: 0.055 - ETA: 6s - loss: 15.2169 - accuracy: 0.055 - ETA: 6s - loss: 15.2158 - accuracy: 0.056 - ETA: 6s - loss: 15.2173 - accuracy: 0.055 - ETA: 6s - loss: 15.2136 - accuracy: 0.056 - ETA: 6s - loss: 15.2151 - accuracy: 0.056 - ETA: 6s - loss: 15.2115 - accuracy: 0.056 - ETA: 6s - loss: 15.2079 - accuracy: 0.056 - ETA: 6s - loss: 15.2044 - accuracy: 0.056 - ETA: 6s - loss: 15.1984 - accuracy: 0.057 - ETA: 6s - loss: 15.1951 - accuracy: 0.057 - ETA: 6s - loss: 15.1943 - accuracy: 0.057 - ETA: 6s - loss: 15.1910 - accuracy: 0.057 - ETA: 5s - loss: 15.1902 - accuracy: 0.057 - ETA: 5s - loss: 15.1967 - accuracy: 0.057 - ETA: 5s - loss: 15.2006 - accuracy: 0.056 - ETA: 5s - loss: 15.1997 - accuracy: 0.057 - ETA: 5s - loss: 15.2036 - accuracy: 0.056 - ETA: 5s - loss: 15.2027 - accuracy: 0.056 - ETA: 5s - loss: 15.2087 - accuracy: 0.056 - ETA: 5s - loss: 15.2101 - accuracy: 0.056 - ETA: 5s - loss: 15.2115 - accuracy: 0.056 - ETA: 5s - loss: 15.2128 - accuracy: 0.056 - ETA: 5s - loss: 15.2185 - accuracy: 0.055 - ETA: 5s - loss: 15.2197 - accuracy: 0.055 - ETA: 5s - loss: 15.2166 - accuracy: 0.055 - ETA: 5s - loss: 15.2157 - accuracy: 0.056 - ETA: 5s - loss: 15.2212 - accuracy: 0.055 - ETA: 4s - loss: 15.2182 - accuracy: 0.055 - ETA: 4s - loss: 15.2194 - accuracy: 0.055 - ETA: 4s - loss: 15.2144 - accuracy: 0.056 - ETA: 4s - loss: 15.2197 - accuracy: 0.055 - ETA: 4s - loss: 15.2208 - accuracy: 0.055 - ETA: 4s - loss: 15.2220 - accuracy: 0.055 - ETA: 4s - loss: 15.2211 - accuracy: 0.055 - ETA: 4s - loss: 15.2262 - accuracy: 0.055 - ETA: 4s - loss: 15.2213 - accuracy: 0.055 - ETA: 4s - loss: 15.2126 - accuracy: 0.056 - ETA: 4s - loss: 15.2138 - accuracy: 0.056 - ETA: 4s - loss: 15.2188 - accuracy: 0.055 - ETA: 4s - loss: 15.2084 - accuracy: 0.056 - ETA: 4s - loss: 15.2077 - accuracy: 0.056 - ETA: 4s - loss: 15.2088 - accuracy: 0.056 - ETA: 4s - loss: 15.2100 - accuracy: 0.056 - ETA: 3s - loss: 15.2092 - accuracy: 0.056 - ETA: 3s - loss: 15.2104 - accuracy: 0.056 - ETA: 3s - loss: 15.2115 - accuracy: 0.056 - ETA: 3s - loss: 15.2035 - accuracy: 0.056 - ETA: 3s - loss: 15.2064 - accuracy: 0.056 - ETA: 3s - loss: 15.2057 - accuracy: 0.056 - ETA: 3s - loss: 15.1997 - accuracy: 0.057 - ETA: 3s - loss: 15.1991 - accuracy: 0.057 - ETA: 3s - loss: 15.1967 - accuracy: 0.057 - ETA: 3s - loss: 15.1961 - accuracy: 0.057 - ETA: 3s - loss: 15.1973 - accuracy: 0.057 - ETA: 3s - loss: 15.2001 - accuracy: 0.057 - ETA: 3s - loss: 15.2029 - accuracy: 0.056 - ETA: 3s - loss: 15.2057 - accuracy: 0.056 - ETA: 3s - loss: 15.2067 - accuracy: 0.056 - ETA: 2s - loss: 15.2044 - accuracy: 0.056 - ETA: 2s - loss: 15.2055 - accuracy: 0.056 - ETA: 2s - loss: 15.2065 - accuracy: 0.056 - ETA: 2s - loss: 15.2075 - accuracy: 0.056 - ETA: 2s - loss: 15.2020 - accuracy: 0.056 - ETA: 2s - loss: 15.2014 - accuracy: 0.056 - ETA: 2s - loss: 15.2041 - accuracy: 0.056 - ETA: 2s - loss: 15.2067 - accuracy: 0.056 - ETA: 2s - loss: 15.2092 - accuracy: 0.056 - ETA: 2s - loss: 15.2118 - accuracy: 0.056 - ETA: 2s - loss: 15.2096 - accuracy: 0.056 - ETA: 2s - loss: 15.2090 - accuracy: 0.056 - ETA: 2s - loss: 15.2099 - accuracy: 0.056 - ETA: 2s - loss: 15.2108 - accuracy: 0.056 - ETA: 2s - loss: 15.2118 - accuracy: 0.056 - ETA: 2s - loss: 15.2127 - accuracy: 0.056 - ETA: 1s - loss: 15.2106 - accuracy: 0.056 - ETA: 1s - loss: 15.2100 - accuracy: 0.056 - ETA: 1s - loss: 15.2049 - accuracy: 0.056 - ETA: 1s - loss: 15.2073 - accuracy: 0.056 - ETA: 1s - loss: 15.2008 - accuracy: 0.056 - ETA: 1s - loss: 15.2062 - accuracy: 0.056 - ETA: 1s - loss: 15.2056 - accuracy: 0.056 - ETA: 1s - loss: 15.2065 - accuracy: 0.056 - ETA: 1s - loss: 15.2016 - accuracy: 0.056 - ETA: 1s - loss: 15.2040 - accuracy: 0.056 - ETA: 1s - loss: 15.2035 - accuracy: 0.056 - ETA: 1s - loss: 15.2086 - accuracy: 0.056 - ETA: 1s - loss: 15.2095 - accuracy: 0.056 - ETA: 1s - loss: 15.2061 - accuracy: 0.056 - ETA: 1s - loss: 15.2084 - accuracy: 0.056 - ETA: 1s - loss: 15.2065 - accuracy: 0.056 - ETA: 0s - loss: 15.2059 - accuracy: 0.056 - ETA: 0s - loss: 15.2040 - accuracy: 0.056 - ETA: 0s - loss: 15.2035 - accuracy: 0.056 - ETA: 0s - loss: 15.2030 - accuracy: 0.056812630/12630 [==============================] - ETA: 0s - loss: 15.2012 - accuracy: 0.056 - ETA: 0s - loss: 15.2021 - accuracy: 0.056 - ETA: 0s - loss: 15.2002 - accuracy: 0.056 - ETA: 0s - loss: 15.2011 - accuracy: 0.056 - ETA: 0s - loss: 15.1993 - accuracy: 0.057 - ETA: 0s - loss: 15.1962 - accuracy: 0.057 - ETA: 0s - loss: 15.1971 - accuracy: 0.057 - ETA: 0s - loss: 15.1979 - accuracy: 0.057 - ETA: 0s - loss: 15.1988 - accuracy: 0.057 - ETA: 0s - loss: 15.1970 - accuracy: 0.057 - ETA: 0s - loss: 15.1966 - accuracy: 0.057 - 14s 1ms/sample - loss: 15.1993 - accuracy: 0.0570 - val_loss: 15.2409 - val_accuracy: 0.0545\n"
     ]
    },
    {
     "data": {
      "text/html": [
       "<span style=\"color:#4527A0\"><h1 style=\"font-size:18px\">Trial complete</h1></span>"
      ],
      "text/plain": [
       "<IPython.core.display.HTML object>"
      ]
     },
     "metadata": {},
     "output_type": "display_data"
    },
    {
     "data": {
      "text/html": [
       "<span style=\"color:#4527A0\"><h1 style=\"font-size:18px\">Trial summary</h1></span>"
      ],
      "text/plain": [
       "<IPython.core.display.HTML object>"
      ]
     },
     "metadata": {},
     "output_type": "display_data"
    },
    {
     "data": {
      "text/html": [
       "<span style=\"color:cyan\"> |-Trial ID: 176351e9941438d9b01689b8b3d4ffe8</span>"
      ],
      "text/plain": [
       "<IPython.core.display.HTML object>"
      ]
     },
     "metadata": {},
     "output_type": "display_data"
    },
    {
     "data": {
      "text/html": [
       "<span style=\"color:cyan\"> |-Score: 0.05448199436068535</span>"
      ],
      "text/plain": [
       "<IPython.core.display.HTML object>"
      ]
     },
     "metadata": {},
     "output_type": "display_data"
    },
    {
     "data": {
      "text/html": [
       "<span style=\"color:cyan\"> |-Best step: 0</span>"
      ],
      "text/plain": [
       "<IPython.core.display.HTML object>"
      ]
     },
     "metadata": {},
     "output_type": "display_data"
    },
    {
     "data": {
      "text/html": [
       "<span style=\"color:#7E57C2\"><h2 style=\"font-size:16px\">Hyperparameters:</h2></span>"
      ],
      "text/plain": [
       "<IPython.core.display.HTML object>"
      ]
     },
     "metadata": {},
     "output_type": "display_data"
    },
    {
     "data": {
      "text/html": [
       "<span style=\"color:cyan\"> |-conv_1_filter: 80</span>"
      ],
      "text/plain": [
       "<IPython.core.display.HTML object>"
      ]
     },
     "metadata": {},
     "output_type": "display_data"
    },
    {
     "data": {
      "text/html": [
       "<span style=\"color:blue\"> |-conv_1_kernel: 3</span>"
      ],
      "text/plain": [
       "<IPython.core.display.HTML object>"
      ]
     },
     "metadata": {},
     "output_type": "display_data"
    },
    {
     "data": {
      "text/html": [
       "<span style=\"color:cyan\"> |-conv_2_filter: 48</span>"
      ],
      "text/plain": [
       "<IPython.core.display.HTML object>"
      ]
     },
     "metadata": {},
     "output_type": "display_data"
    },
    {
     "data": {
      "text/html": [
       "<span style=\"color:blue\"> |-conv_2_kernel: 5</span>"
      ],
      "text/plain": [
       "<IPython.core.display.HTML object>"
      ]
     },
     "metadata": {},
     "output_type": "display_data"
    },
    {
     "data": {
      "text/html": [
       "<span style=\"color:cyan\"> |-conv_3_filter: 96</span>"
      ],
      "text/plain": [
       "<IPython.core.display.HTML object>"
      ]
     },
     "metadata": {},
     "output_type": "display_data"
    },
    {
     "data": {
      "text/html": [
       "<span style=\"color:blue\"> |-conv_4_filter: 240</span>"
      ],
      "text/plain": [
       "<IPython.core.display.HTML object>"
      ]
     },
     "metadata": {},
     "output_type": "display_data"
    },
    {
     "data": {
      "text/html": [
       "<span style=\"color:cyan\"> |-d1: 0.001</span>"
      ],
      "text/plain": [
       "<IPython.core.display.HTML object>"
      ]
     },
     "metadata": {},
     "output_type": "display_data"
    },
    {
     "data": {
      "text/html": [
       "<span style=\"color:blue\"> |-d2: 0.07154763714768185</span>"
      ],
      "text/plain": [
       "<IPython.core.display.HTML object>"
      ]
     },
     "metadata": {},
     "output_type": "display_data"
    },
    {
     "data": {
      "text/html": [
       "<span style=\"color:cyan\"> |-d3: 0.07715766020442252</span>"
      ],
      "text/plain": [
       "<IPython.core.display.HTML object>"
      ]
     },
     "metadata": {},
     "output_type": "display_data"
    },
    {
     "data": {
      "text/html": [
       "<span style=\"color:blue\"> |-d4: 0.023309033444761977</span>"
      ],
      "text/plain": [
       "<IPython.core.display.HTML object>"
      ]
     },
     "metadata": {},
     "output_type": "display_data"
    },
    {
     "data": {
      "text/html": [
       "<span style=\"color:cyan\"> |-dense_1_units: 48</span>"
      ],
      "text/plain": [
       "<IPython.core.display.HTML object>"
      ]
     },
     "metadata": {},
     "output_type": "display_data"
    },
    {
     "data": {
      "text/html": [
       "<span style=\"color:blue\"> |-dense_4_units: 144</span>"
      ],
      "text/plain": [
       "<IPython.core.display.HTML object>"
      ]
     },
     "metadata": {},
     "output_type": "display_data"
    },
    {
     "data": {
      "text/html": [
       "<span style=\"color:cyan\"> |-dense_5_units: 448</span>"
      ],
      "text/plain": [
       "<IPython.core.display.HTML object>"
      ]
     },
     "metadata": {},
     "output_type": "display_data"
    },
    {
     "data": {
      "text/html": [
       "<span style=\"color:blue\"> |-learning_rate: 0.1</span>"
      ],
      "text/plain": [
       "<IPython.core.display.HTML object>"
      ]
     },
     "metadata": {},
     "output_type": "display_data"
    },
    {
     "name": "stdout",
     "output_type": "stream",
     "text": [
      "Train on 12630 samples, validate on 4410 samples\n",
      "Epoch 1/4\n",
      "12630/12630 [==============================] - ETA: 8:49 - loss: 3.7595 - accuracy: 0.01 - ETA: 2:17 - loss: 3.7285 - accuracy: 0.07 - ETA: 1:21 - loss: 3.6997 - accuracy: 0.06 - ETA: 58s - loss: 3.6691 - accuracy: 0.0609 - ETA: 46s - loss: 3.6565 - accuracy: 0.054 - ETA: 39s - loss: 3.6403 - accuracy: 0.059 - ETA: 33s - loss: 3.6096 - accuracy: 0.066 - ETA: 30s - loss: 3.5913 - accuracy: 0.068 - ETA: 27s - loss: 3.5831 - accuracy: 0.066 - ETA: 24s - loss: 3.5840 - accuracy: 0.066 - ETA: 23s - loss: 3.5802 - accuracy: 0.063 - ETA: 21s - loss: 3.5807 - accuracy: 0.067 - ETA: 20s - loss: 3.5660 - accuracy: 0.069 - ETA: 19s - loss: 3.5524 - accuracy: 0.071 - ETA: 18s - loss: 3.5509 - accuracy: 0.072 - ETA: 17s - loss: 3.5550 - accuracy: 0.070 - ETA: 16s - loss: 3.5551 - accuracy: 0.069 - ETA: 15s - loss: 3.5546 - accuracy: 0.067 - ETA: 15s - loss: 3.5589 - accuracy: 0.064 - ETA: 14s - loss: 3.5565 - accuracy: 0.062 - ETA: 14s - loss: 3.5529 - accuracy: 0.061 - ETA: 13s - loss: 3.5527 - accuracy: 0.060 - ETA: 13s - loss: 3.5537 - accuracy: 0.059 - ETA: 12s - loss: 3.5535 - accuracy: 0.058 - ETA: 12s - loss: 3.5516 - accuracy: 0.059 - ETA: 12s - loss: 3.5461 - accuracy: 0.060 - ETA: 11s - loss: 3.5433 - accuracy: 0.060 - ETA: 11s - loss: 3.5453 - accuracy: 0.059 - ETA: 11s - loss: 3.5428 - accuracy: 0.059 - ETA: 10s - loss: 3.5397 - accuracy: 0.059 - ETA: 10s - loss: 3.5377 - accuracy: 0.058 - ETA: 10s - loss: 3.5321 - accuracy: 0.059 - ETA: 10s - loss: 3.5311 - accuracy: 0.058 - ETA: 10s - loss: 3.5267 - accuracy: 0.058 - ETA: 9s - loss: 3.5233 - accuracy: 0.057 - ETA: 9s - loss: 3.5179 - accuracy: 0.05 - ETA: 9s - loss: 3.5154 - accuracy: 0.05 - ETA: 9s - loss: 3.5135 - accuracy: 0.05 - ETA: 9s - loss: 3.5079 - accuracy: 0.05 - ETA: 8s - loss: 3.5014 - accuracy: 0.05 - ETA: 8s - loss: 3.4940 - accuracy: 0.05 - ETA: 8s - loss: 3.4893 - accuracy: 0.05 - ETA: 8s - loss: 3.4823 - accuracy: 0.05 - ETA: 8s - loss: 3.4790 - accuracy: 0.05 - ETA: 8s - loss: 3.4730 - accuracy: 0.05 - ETA: 7s - loss: 3.4671 - accuracy: 0.05 - ETA: 7s - loss: 3.4623 - accuracy: 0.05 - ETA: 7s - loss: 3.4570 - accuracy: 0.05 - ETA: 7s - loss: 3.4494 - accuracy: 0.05 - ETA: 7s - loss: 3.4410 - accuracy: 0.05 - ETA: 7s - loss: 3.4334 - accuracy: 0.05 - ETA: 7s - loss: 3.4294 - accuracy: 0.05 - ETA: 6s - loss: 3.4259 - accuracy: 0.05 - ETA: 6s - loss: 3.4153 - accuracy: 0.05 - ETA: 6s - loss: 3.4103 - accuracy: 0.05 - ETA: 6s - loss: 3.4041 - accuracy: 0.05 - ETA: 6s - loss: 3.4002 - accuracy: 0.05 - ETA: 6s - loss: 3.3998 - accuracy: 0.05 - ETA: 6s - loss: 3.3983 - accuracy: 0.05 - ETA: 6s - loss: 3.3967 - accuracy: 0.05 - ETA: 6s - loss: 3.3933 - accuracy: 0.05 - ETA: 6s - loss: 3.3900 - accuracy: 0.05 - ETA: 6s - loss: 3.3859 - accuracy: 0.05 - ETA: 6s - loss: 3.3844 - accuracy: 0.05 - ETA: 6s - loss: 3.3787 - accuracy: 0.05 - ETA: 6s - loss: 3.3776 - accuracy: 0.05 - ETA: 6s - loss: 3.3720 - accuracy: 0.05 - ETA: 6s - loss: 3.3689 - accuracy: 0.05 - ETA: 6s - loss: 3.3646 - accuracy: 0.05 - ETA: 6s - loss: 3.3609 - accuracy: 0.05 - ETA: 6s - loss: 3.3532 - accuracy: 0.05 - ETA: 5s - loss: 3.3463 - accuracy: 0.05 - ETA: 5s - loss: 3.3379 - accuracy: 0.05 - ETA: 5s - loss: 3.3299 - accuracy: 0.05 - ETA: 5s - loss: 3.3229 - accuracy: 0.05 - ETA: 5s - loss: 3.3160 - accuracy: 0.05 - ETA: 5s - loss: 3.3093 - accuracy: 0.05 - ETA: 5s - loss: 3.3039 - accuracy: 0.05 - ETA: 5s - loss: 3.2950 - accuracy: 0.05 - ETA: 5s - loss: 3.2871 - accuracy: 0.05 - ETA: 4s - loss: 3.2827 - accuracy: 0.05 - ETA: 4s - loss: 3.2741 - accuracy: 0.05 - ETA: 4s - loss: 3.2676 - accuracy: 0.05 - ETA: 4s - loss: 3.2584 - accuracy: 0.05 - ETA: 4s - loss: 3.2539 - accuracy: 0.05 - ETA: 4s - loss: 3.2446 - accuracy: 0.05 - ETA: 4s - loss: 3.2366 - accuracy: 0.05 - ETA: 4s - loss: 3.2311 - accuracy: 0.05 - ETA: 4s - loss: 3.2233 - accuracy: 0.05 - ETA: 4s - loss: 3.2133 - accuracy: 0.05 - ETA: 3s - loss: 3.2059 - accuracy: 0.05 - ETA: 3s - loss: 3.1989 - accuracy: 0.05 - ETA: 3s - loss: 3.1913 - accuracy: 0.05 - ETA: 3s - loss: 3.1802 - accuracy: 0.05 - ETA: 3s - loss: 3.1722 - accuracy: 0.05 - ETA: 3s - loss: 3.1627 - accuracy: 0.05 - ETA: 3s - loss: 3.1566 - accuracy: 0.05 - ETA: 3s - loss: 3.1451 - accuracy: 0.05 - ETA: 3s - loss: 3.1355 - accuracy: 0.05 - ETA: 3s - loss: 3.1271 - accuracy: 0.05 - ETA: 3s - loss: 3.1190 - accuracy: 0.05 - ETA: 2s - loss: 3.1099 - accuracy: 0.05 - ETA: 2s - loss: 3.0986 - accuracy: 0.05 - ETA: 2s - loss: 3.0907 - accuracy: 0.05 - ETA: 2s - loss: 3.0800 - accuracy: 0.05 - ETA: 2s - loss: 3.0704 - accuracy: 0.05 - ETA: 2s - loss: 3.0597 - accuracy: 0.05 - ETA: 2s - loss: 3.0498 - accuracy: 0.05 - ETA: 2s - loss: 3.0422 - accuracy: 0.05 - ETA: 2s - loss: 3.0336 - accuracy: 0.05 - ETA: 2s - loss: 3.0238 - accuracy: 0.05 - ETA: 2s - loss: 3.0141 - accuracy: 0.05 - ETA: 1s - loss: 3.0046 - accuracy: 0.05 - ETA: 1s - loss: 2.9979 - accuracy: 0.05 - ETA: 1s - loss: 2.9883 - accuracy: 0.05 - ETA: 1s - loss: 2.9815 - accuracy: 0.05 - ETA: 1s - loss: 2.9769 - accuracy: 0.05 - ETA: 1s - loss: 2.9714 - accuracy: 0.05 - ETA: 1s - loss: 2.9658 - accuracy: 0.05 - ETA: 1s - loss: 2.9577 - accuracy: 0.05 - ETA: 1s - loss: 2.9517 - accuracy: 0.05 - ETA: 1s - loss: 2.9450 - accuracy: 0.05 - ETA: 1s - loss: 2.9378 - accuracy: 0.05 - ETA: 1s - loss: 2.9303 - accuracy: 0.05 - ETA: 1s - loss: 2.9284 - accuracy: 0.05 - ETA: 1s - loss: 2.9262 - accuracy: 0.05 - ETA: 1s - loss: 2.9147 - accuracy: 0.05 - ETA: 1s - loss: 2.9087 - accuracy: 0.05 - ETA: 1s - loss: 2.9004 - accuracy: 0.05 - ETA: 0s - loss: 2.8931 - accuracy: 0.05 - ETA: 0s - loss: 2.8838 - accuracy: 0.05 - ETA: 0s - loss: 2.8751 - accuracy: 0.05 - ETA: 0s - loss: 2.8667 - accuracy: 0.05 - ETA: 0s - loss: 2.8581 - accuracy: 0.05 - ETA: 0s - loss: 2.8503 - accuracy: 0.05 - ETA: 0s - loss: 2.8406 - accuracy: 0.05 - ETA: 0s - loss: 2.8322 - accuracy: 0.05 - ETA: 0s - loss: 2.8256 - accuracy: 0.05 - ETA: 0s - loss: 2.8176 - accuracy: 0.05 - ETA: 0s - loss: 2.8075 - accuracy: 0.05 - ETA: 0s - loss: 2.8015 - accuracy: 0.05 - ETA: 0s - loss: 2.7933 - accuracy: 0.05 - 13s 1ms/sample - loss: 2.7907 - accuracy: 0.0551 - val_loss: 2.3195 - val_accuracy: 0.3019\n",
      "Epoch 2/4\n",
      "12630/12630 [==============================] - ETA: 8s - loss: 1.6892 - accuracy: 0.07 - ETA: 8s - loss: 1.9274 - accuracy: 0.05 - ETA: 8s - loss: 1.8632 - accuracy: 0.05 - ETA: 8s - loss: 1.8290 - accuracy: 0.05 - ETA: 8s - loss: 1.7415 - accuracy: 0.05 - ETA: 7s - loss: 1.7743 - accuracy: 0.05 - ETA: 7s - loss: 1.7878 - accuracy: 0.05 - ETA: 7s - loss: 1.7760 - accuracy: 0.05 - ETA: 7s - loss: 1.7452 - accuracy: 0.05 - ETA: 7s - loss: 1.6962 - accuracy: 0.05 - ETA: 7s - loss: 1.6940 - accuracy: 0.06 - ETA: 7s - loss: 1.7029 - accuracy: 0.05 - ETA: 7s - loss: 1.6977 - accuracy: 0.05 - ETA: 8s - loss: 1.6879 - accuracy: 0.05 - ETA: 8s - loss: 1.6803 - accuracy: 0.05 - ETA: 8s - loss: 1.6747 - accuracy: 0.05 - ETA: 8s - loss: 1.6638 - accuracy: 0.05 - ETA: 9s - loss: 1.6568 - accuracy: 0.05 - ETA: 9s - loss: 1.6419 - accuracy: 0.05 - ETA: 9s - loss: 1.6504 - accuracy: 0.05 - ETA: 9s - loss: 1.6445 - accuracy: 0.05 - ETA: 9s - loss: 1.6410 - accuracy: 0.05 - ETA: 10s - loss: 1.6431 - accuracy: 0.057 - ETA: 10s - loss: 1.6357 - accuracy: 0.057 - ETA: 10s - loss: 1.6309 - accuracy: 0.057 - ETA: 10s - loss: 1.6306 - accuracy: 0.057 - ETA: 10s - loss: 1.6222 - accuracy: 0.057 - ETA: 10s - loss: 1.6119 - accuracy: 0.057 - ETA: 10s - loss: 1.6100 - accuracy: 0.057 - ETA: 10s - loss: 1.6111 - accuracy: 0.057 - ETA: 11s - loss: 1.6081 - accuracy: 0.056 - ETA: 11s - loss: 1.6039 - accuracy: 0.057 - ETA: 10s - loss: 1.6010 - accuracy: 0.056 - ETA: 10s - loss: 1.6035 - accuracy: 0.056 - ETA: 10s - loss: 1.5910 - accuracy: 0.056 - ETA: 10s - loss: 1.5845 - accuracy: 0.056 - ETA: 9s - loss: 1.5868 - accuracy: 0.055 - ETA: 9s - loss: 1.5724 - accuracy: 0.05 - ETA: 9s - loss: 1.5639 - accuracy: 0.05 - ETA: 9s - loss: 1.5585 - accuracy: 0.05 - ETA: 9s - loss: 1.5552 - accuracy: 0.05 - ETA: 8s - loss: 1.5523 - accuracy: 0.05 - ETA: 8s - loss: 1.5431 - accuracy: 0.05 - ETA: 8s - loss: 1.5393 - accuracy: 0.05 - ETA: 8s - loss: 1.5337 - accuracy: 0.05 - ETA: 8s - loss: 1.5268 - accuracy: 0.05 - ETA: 8s - loss: 1.5250 - accuracy: 0.05 - ETA: 8s - loss: 1.5206 - accuracy: 0.05 - ETA: 8s - loss: 1.5153 - accuracy: 0.05 - ETA: 8s - loss: 1.5128 - accuracy: 0.05 - ETA: 8s - loss: 1.5033 - accuracy: 0.05 - ETA: 8s - loss: 1.4995 - accuracy: 0.05 - ETA: 8s - loss: 1.4926 - accuracy: 0.05 - ETA: 8s - loss: 1.4833 - accuracy: 0.05 - ETA: 8s - loss: 1.4723 - accuracy: 0.05 - ETA: 8s - loss: 1.4629 - accuracy: 0.05 - ETA: 8s - loss: 1.4563 - accuracy: 0.05 - ETA: 8s - loss: 1.4569 - accuracy: 0.05 - ETA: 8s - loss: 1.4521 - accuracy: 0.05 - ETA: 8s - loss: 1.4483 - accuracy: 0.05 - ETA: 8s - loss: 1.4530 - accuracy: 0.05 - ETA: 8s - loss: 1.4455 - accuracy: 0.05 - ETA: 8s - loss: 1.4404 - accuracy: 0.05 - ETA: 8s - loss: 1.4364 - accuracy: 0.05 - ETA: 8s - loss: 1.4315 - accuracy: 0.05 - ETA: 8s - loss: 1.4234 - accuracy: 0.05 - ETA: 7s - loss: 1.4213 - accuracy: 0.05 - ETA: 7s - loss: 1.4162 - accuracy: 0.05 - ETA: 7s - loss: 1.4085 - accuracy: 0.05 - ETA: 7s - loss: 1.4043 - accuracy: 0.05 - ETA: 7s - loss: 1.3987 - accuracy: 0.05 - ETA: 7s - loss: 1.3918 - accuracy: 0.05 - ETA: 7s - loss: 1.3799 - accuracy: 0.05 - ETA: 6s - loss: 1.3706 - accuracy: 0.05 - ETA: 6s - loss: 1.3696 - accuracy: 0.05 - ETA: 6s - loss: 1.3634 - accuracy: 0.05 - ETA: 6s - loss: 1.3594 - accuracy: 0.05 - ETA: 6s - loss: 1.3552 - accuracy: 0.05 - ETA: 6s - loss: 1.3539 - accuracy: 0.05 - ETA: 6s - loss: 1.3530 - accuracy: 0.05 - ETA: 6s - loss: 1.3520 - accuracy: 0.05 - ETA: 6s - loss: 1.3505 - accuracy: 0.05 - ETA: 6s - loss: 1.3494 - accuracy: 0.05 - ETA: 6s - loss: 1.3471 - accuracy: 0.05 - ETA: 6s - loss: 1.3454 - accuracy: 0.05 - ETA: 6s - loss: 1.3404 - accuracy: 0.05 - ETA: 6s - loss: 1.3354 - accuracy: 0.05 - ETA: 6s - loss: 1.3347 - accuracy: 0.05 - ETA: 6s - loss: 1.3305 - accuracy: 0.05 - ETA: 6s - loss: 1.3248 - accuracy: 0.05 - ETA: 6s - loss: 1.3203 - accuracy: 0.05 - ETA: 6s - loss: 1.3160 - accuracy: 0.05 - ETA: 6s - loss: 1.3152 - accuracy: 0.05 - ETA: 5s - loss: 1.3103 - accuracy: 0.05 - ETA: 5s - loss: 1.3048 - accuracy: 0.05 - ETA: 5s - loss: 1.3022 - accuracy: 0.05 - ETA: 5s - loss: 1.2959 - accuracy: 0.05 - ETA: 5s - loss: 1.2898 - accuracy: 0.05 - ETA: 5s - loss: 1.2854 - accuracy: 0.05 - ETA: 5s - loss: 1.2796 - accuracy: 0.05 - ETA: 5s - loss: 1.2755 - accuracy: 0.05 - ETA: 5s - loss: 1.2713 - accuracy: 0.05 - ETA: 4s - loss: 1.2643 - accuracy: 0.05 - ETA: 4s - loss: 1.2612 - accuracy: 0.05 - ETA: 4s - loss: 1.2545 - accuracy: 0.05 - ETA: 4s - loss: 1.2516 - accuracy: 0.05 - ETA: 4s - loss: 1.2495 - accuracy: 0.05 - ETA: 4s - loss: 1.2462 - accuracy: 0.05 - ETA: 4s - loss: 1.2453 - accuracy: 0.05 - ETA: 4s - loss: 1.2440 - accuracy: 0.05 - ETA: 4s - loss: 1.2404 - accuracy: 0.05 - ETA: 4s - loss: 1.2368 - accuracy: 0.05 - ETA: 4s - loss: 1.2323 - accuracy: 0.05 - ETA: 4s - loss: 1.2310 - accuracy: 0.05 - ETA: 4s - loss: 1.2286 - accuracy: 0.05 - ETA: 4s - loss: 1.2265 - accuracy: 0.05 - ETA: 4s - loss: 1.2234 - accuracy: 0.05 - ETA: 4s - loss: 1.2179 - accuracy: 0.05 - ETA: 4s - loss: 1.2127 - accuracy: 0.05 - ETA: 4s - loss: 1.2084 - accuracy: 0.05 - ETA: 3s - loss: 1.2052 - accuracy: 0.05 - ETA: 3s - loss: 1.2028 - accuracy: 0.05 - ETA: 3s - loss: 1.1990 - accuracy: 0.05 - ETA: 3s - loss: 1.1960 - accuracy: 0.05 - ETA: 3s - loss: 1.1981 - accuracy: 0.05 - ETA: 3s - loss: 1.1938 - accuracy: 0.05 - ETA: 3s - loss: 1.1945 - accuracy: 0.05 - ETA: 3s - loss: 1.1933 - accuracy: 0.05 - ETA: 3s - loss: 1.1900 - accuracy: 0.05 - ETA: 3s - loss: 1.1872 - accuracy: 0.05 - ETA: 3s - loss: 1.1859 - accuracy: 0.05 - ETA: 3s - loss: 1.1839 - accuracy: 0.05 - ETA: 2s - loss: 1.1803 - accuracy: 0.05 - ETA: 2s - loss: 1.1786 - accuracy: 0.05 - ETA: 2s - loss: 1.1750 - accuracy: 0.05 - ETA: 2s - loss: 1.1719 - accuracy: 0.05 - ETA: 2s - loss: 1.1688 - accuracy: 0.05 - ETA: 2s - loss: 1.1644 - accuracy: 0.05 - ETA: 2s - loss: 1.1603 - accuracy: 0.05 - ETA: 2s - loss: 1.1556 - accuracy: 0.05 - ETA: 2s - loss: 1.1524 - accuracy: 0.05 - ETA: 2s - loss: 1.1509 - accuracy: 0.05 - ETA: 2s - loss: 1.1462 - accuracy: 0.05 - ETA: 2s - loss: 1.1441 - accuracy: 0.05 - ETA: 2s - loss: 1.1403 - accuracy: 0.05 - ETA: 2s - loss: 1.1382 - accuracy: 0.05 - ETA: 2s - loss: 1.1362 - accuracy: 0.05 - ETA: 1s - loss: 1.1315 - accuracy: 0.05 - ETA: 1s - loss: 1.1284 - accuracy: 0.05 - ETA: 1s - loss: 1.1272 - accuracy: 0.05 - ETA: 1s - loss: 1.1253 - accuracy: 0.05 - ETA: 1s - loss: 1.1232 - accuracy: 0.05 - ETA: 1s - loss: 1.1188 - accuracy: 0.05 - ETA: 1s - loss: 1.1153 - accuracy: 0.05 - ETA: 1s - loss: 1.1117 - accuracy: 0.05 - ETA: 1s - loss: 1.1068 - accuracy: 0.05 - ETA: 1s - loss: 1.1021 - accuracy: 0.05 - ETA: 1s - loss: 1.0977 - accuracy: 0.05 - ETA: 1s - loss: 1.0923 - accuracy: 0.05 - ETA: 1s - loss: 1.0883 - accuracy: 0.05 - ETA: 1s - loss: 1.0841 - accuracy: 0.05 - ETA: 1s - loss: 1.0804 - accuracy: 0.05 - ETA: 0s - loss: 1.0765 - accuracy: 0.05 - ETA: 0s - loss: 1.0718 - accuracy: 0.05 - ETA: 0s - loss: 1.0682 - accuracy: 0.05 - ETA: 0s - loss: 1.0654 - accuracy: 0.05 - ETA: 0s - loss: 1.0643 - accuracy: 0.05 - ETA: 0s - loss: 1.0595 - accuracy: 0.05 - ETA: 0s - loss: 1.0567 - accuracy: 0.05 - ETA: 0s - loss: 1.0525 - accuracy: 0.05 - ETA: 0s - loss: 1.0476 - accuracy: 0.05 - ETA: 0s - loss: 1.0422 - accuracy: 0.05 - ETA: 0s - loss: 1.0394 - accuracy: 0.05 - ETA: 0s - loss: 1.0370 - accuracy: 0.05 - ETA: 0s - loss: 1.0338 - accuracy: 0.05 - 14s 1ms/sample - loss: 1.0310 - accuracy: 0.0586 - val_loss: 1.2028 - val_accuracy: 0.6472\n",
      "Epoch 3/4\n",
      "12630/12630 [==============================] - ETA: 14s - loss: 0.4199 - accuracy: 0.062 - ETA: 13s - loss: 0.4459 - accuracy: 0.066 - ETA: 14s - loss: 0.3972 - accuracy: 0.064 - ETA: 14s - loss: 0.4491 - accuracy: 0.071 - ETA: 14s - loss: 0.4184 - accuracy: 0.067 - ETA: 14s - loss: 0.4012 - accuracy: 0.067 - ETA: 14s - loss: 0.4190 - accuracy: 0.065 - ETA: 14s - loss: 0.4089 - accuracy: 0.065 - ETA: 13s - loss: 0.4103 - accuracy: 0.064 - ETA: 13s - loss: 0.4089 - accuracy: 0.063 - ETA: 12s - loss: 0.4155 - accuracy: 0.062 - ETA: 12s - loss: 0.4086 - accuracy: 0.062 - ETA: 12s - loss: 0.4010 - accuracy: 0.062 - ETA: 12s - loss: 0.4078 - accuracy: 0.061 - ETA: 11s - loss: 0.3961 - accuracy: 0.062 - ETA: 11s - loss: 0.3961 - accuracy: 0.062 - ETA: 11s - loss: 0.4186 - accuracy: 0.062 - ETA: 10s - loss: 0.4371 - accuracy: 0.062 - ETA: 10s - loss: 0.4279 - accuracy: 0.062 - ETA: 10s - loss: 0.4245 - accuracy: 0.063 - ETA: 9s - loss: 0.4327 - accuracy: 0.062 - ETA: 9s - loss: 0.4279 - accuracy: 0.06 - ETA: 9s - loss: 0.4270 - accuracy: 0.06 - ETA: 9s - loss: 0.4394 - accuracy: 0.06 - ETA: 9s - loss: 0.4379 - accuracy: 0.06 - ETA: 9s - loss: 0.4346 - accuracy: 0.06 - ETA: 8s - loss: 0.4315 - accuracy: 0.06 - ETA: 8s - loss: 0.4327 - accuracy: 0.06 - ETA: 8s - loss: 0.4323 - accuracy: 0.06 - ETA: 8s - loss: 0.4320 - accuracy: 0.06 - ETA: 8s - loss: 0.4229 - accuracy: 0.06 - ETA: 8s - loss: 0.4220 - accuracy: 0.06 - ETA: 8s - loss: 0.4135 - accuracy: 0.06 - ETA: 8s - loss: 0.4091 - accuracy: 0.06 - ETA: 8s - loss: 0.4076 - accuracy: 0.06 - ETA: 8s - loss: 0.4067 - accuracy: 0.06 - ETA: 7s - loss: 0.4002 - accuracy: 0.06 - ETA: 7s - loss: 0.4025 - accuracy: 0.06 - ETA: 7s - loss: 0.3992 - accuracy: 0.06 - ETA: 7s - loss: 0.4003 - accuracy: 0.06 - ETA: 7s - loss: 0.3974 - accuracy: 0.06 - ETA: 7s - loss: 0.3984 - accuracy: 0.06 - ETA: 7s - loss: 0.3939 - accuracy: 0.06 - ETA: 7s - loss: 0.4021 - accuracy: 0.06 - ETA: 7s - loss: 0.4005 - accuracy: 0.06 - ETA: 7s - loss: 0.4003 - accuracy: 0.06 - ETA: 7s - loss: 0.4119 - accuracy: 0.06 - ETA: 7s - loss: 0.4168 - accuracy: 0.06 - ETA: 7s - loss: 0.4210 - accuracy: 0.06 - ETA: 7s - loss: 0.4261 - accuracy: 0.06 - ETA: 7s - loss: 0.4272 - accuracy: 0.06 - ETA: 7s - loss: 0.4280 - accuracy: 0.06 - ETA: 7s - loss: 0.4291 - accuracy: 0.06 - ETA: 7s - loss: 0.4299 - accuracy: 0.06 - ETA: 7s - loss: 0.4285 - accuracy: 0.06 - ETA: 7s - loss: 0.4292 - accuracy: 0.06 - ETA: 7s - loss: 0.4285 - accuracy: 0.06 - ETA: 7s - loss: 0.4279 - accuracy: 0.06 - ETA: 7s - loss: 0.4256 - accuracy: 0.06 - ETA: 7s - loss: 0.4255 - accuracy: 0.06 - ETA: 7s - loss: 0.4258 - accuracy: 0.06 - ETA: 7s - loss: 0.4273 - accuracy: 0.06 - ETA: 7s - loss: 0.4255 - accuracy: 0.06 - ETA: 7s - loss: 0.4256 - accuracy: 0.06 - ETA: 7s - loss: 0.4232 - accuracy: 0.06 - ETA: 7s - loss: 0.4213 - accuracy: 0.06 - ETA: 7s - loss: 0.4197 - accuracy: 0.06 - ETA: 7s - loss: 0.4185 - accuracy: 0.06 - ETA: 7s - loss: 0.4194 - accuracy: 0.06 - ETA: 7s - loss: 0.4179 - accuracy: 0.06 - ETA: 7s - loss: 0.4211 - accuracy: 0.06 - ETA: 7s - loss: 0.4215 - accuracy: 0.06 - ETA: 7s - loss: 0.4209 - accuracy: 0.06 - ETA: 7s - loss: 0.4223 - accuracy: 0.06 - ETA: 7s - loss: 0.4204 - accuracy: 0.06 - ETA: 7s - loss: 0.4180 - accuracy: 0.06 - ETA: 6s - loss: 0.4175 - accuracy: 0.06 - ETA: 6s - loss: 0.4158 - accuracy: 0.06 - ETA: 6s - loss: 0.4137 - accuracy: 0.06 - ETA: 6s - loss: 0.4130 - accuracy: 0.06 - ETA: 6s - loss: 0.4117 - accuracy: 0.06 - ETA: 6s - loss: 0.4135 - accuracy: 0.06 - ETA: 6s - loss: 0.4124 - accuracy: 0.06 - ETA: 6s - loss: 0.4149 - accuracy: 0.06 - ETA: 5s - loss: 0.4196 - accuracy: 0.06 - ETA: 5s - loss: 0.4211 - accuracy: 0.06 - ETA: 5s - loss: 0.4221 - accuracy: 0.06 - ETA: 5s - loss: 0.4223 - accuracy: 0.06 - ETA: 5s - loss: 0.4241 - accuracy: 0.06 - ETA: 5s - loss: 0.4225 - accuracy: 0.06 - ETA: 5s - loss: 0.4220 - accuracy: 0.06 - ETA: 5s - loss: 0.4211 - accuracy: 0.06 - ETA: 5s - loss: 0.4179 - accuracy: 0.06 - ETA: 5s - loss: 0.4164 - accuracy: 0.06 - ETA: 4s - loss: 0.4157 - accuracy: 0.06 - ETA: 4s - loss: 0.4165 - accuracy: 0.06 - ETA: 4s - loss: 0.4147 - accuracy: 0.06 - ETA: 4s - loss: 0.4122 - accuracy: 0.06 - ETA: 4s - loss: 0.4123 - accuracy: 0.06 - ETA: 4s - loss: 0.4103 - accuracy: 0.06 - ETA: 4s - loss: 0.4099 - accuracy: 0.06 - ETA: 4s - loss: 0.4085 - accuracy: 0.06 - ETA: 4s - loss: 0.4073 - accuracy: 0.06 - ETA: 4s - loss: 0.4086 - accuracy: 0.06 - ETA: 4s - loss: 0.4076 - accuracy: 0.06 - ETA: 4s - loss: 0.4083 - accuracy: 0.06 - ETA: 4s - loss: 0.4079 - accuracy: 0.06 - ETA: 4s - loss: 0.4066 - accuracy: 0.06 - ETA: 4s - loss: 0.4058 - accuracy: 0.06 - ETA: 4s - loss: 0.4056 - accuracy: 0.06 - ETA: 4s - loss: 0.4050 - accuracy: 0.06 - ETA: 4s - loss: 0.4045 - accuracy: 0.06 - ETA: 4s - loss: 0.4044 - accuracy: 0.06 - ETA: 4s - loss: 0.4035 - accuracy: 0.06 - ETA: 4s - loss: 0.4025 - accuracy: 0.06 - ETA: 4s - loss: 0.4024 - accuracy: 0.06 - ETA: 3s - loss: 0.4015 - accuracy: 0.06 - ETA: 3s - loss: 0.4018 - accuracy: 0.06 - ETA: 3s - loss: 0.4004 - accuracy: 0.06 - ETA: 3s - loss: 0.3998 - accuracy: 0.06 - ETA: 3s - loss: 0.3996 - accuracy: 0.06 - ETA: 3s - loss: 0.3989 - accuracy: 0.06 - ETA: 3s - loss: 0.3971 - accuracy: 0.06 - ETA: 3s - loss: 0.3967 - accuracy: 0.06 - ETA: 3s - loss: 0.3947 - accuracy: 0.06 - ETA: 3s - loss: 0.3942 - accuracy: 0.06 - ETA: 3s - loss: 0.3943 - accuracy: 0.06 - ETA: 3s - loss: 0.3928 - accuracy: 0.06 - ETA: 2s - loss: 0.3919 - accuracy: 0.06 - ETA: 2s - loss: 0.3907 - accuracy: 0.06 - ETA: 2s - loss: 0.3887 - accuracy: 0.06 - ETA: 2s - loss: 0.3872 - accuracy: 0.06 - ETA: 2s - loss: 0.3857 - accuracy: 0.06 - ETA: 2s - loss: 0.3841 - accuracy: 0.06 - ETA: 2s - loss: 0.3838 - accuracy: 0.06 - ETA: 2s - loss: 0.3817 - accuracy: 0.06 - ETA: 2s - loss: 0.3810 - accuracy: 0.06 - ETA: 2s - loss: 0.3793 - accuracy: 0.06 - ETA: 2s - loss: 0.3786 - accuracy: 0.06 - ETA: 2s - loss: 0.3793 - accuracy: 0.06 - ETA: 1s - loss: 0.3793 - accuracy: 0.06 - ETA: 1s - loss: 0.3790 - accuracy: 0.06 - ETA: 1s - loss: 0.3778 - accuracy: 0.06 - ETA: 1s - loss: 0.3770 - accuracy: 0.06 - ETA: 1s - loss: 0.3761 - accuracy: 0.06 - ETA: 1s - loss: 0.3758 - accuracy: 0.06 - ETA: 1s - loss: 0.3759 - accuracy: 0.06 - ETA: 1s - loss: 0.3749 - accuracy: 0.06 - ETA: 1s - loss: 0.3747 - accuracy: 0.06 - ETA: 1s - loss: 0.3738 - accuracy: 0.06 - ETA: 1s - loss: 0.3731 - accuracy: 0.06 - ETA: 1s - loss: 0.3720 - accuracy: 0.06 - ETA: 1s - loss: 0.3705 - accuracy: 0.06 - ETA: 1s - loss: 0.3698 - accuracy: 0.06 - ETA: 1s - loss: 0.3687 - accuracy: 0.06 - ETA: 1s - loss: 0.3686 - accuracy: 0.06 - ETA: 1s - loss: 0.3675 - accuracy: 0.06 - ETA: 0s - loss: 0.3674 - accuracy: 0.06 - ETA: 0s - loss: 0.3663 - accuracy: 0.06 - ETA: 0s - loss: 0.3650 - accuracy: 0.06 - ETA: 0s - loss: 0.3639 - accuracy: 0.06 - ETA: 0s - loss: 0.3627 - accuracy: 0.06 - ETA: 0s - loss: 0.3621 - accuracy: 0.06 - ETA: 0s - loss: 0.3619 - accuracy: 0.06 - ETA: 0s - loss: 0.3619 - accuracy: 0.06 - ETA: 0s - loss: 0.3627 - accuracy: 0.06 - ETA: 0s - loss: 0.3625 - accuracy: 0.06 - ETA: 0s - loss: 0.3618 - accuracy: 0.06 - ETA: 0s - loss: 0.3621 - accuracy: 0.06 - ETA: 0s - loss: 0.3620 - accuracy: 0.06 - ETA: 0s - loss: 0.3614 - accuracy: 0.06 - ETA: 0s - loss: 0.3611 - accuracy: 0.06 - ETA: 0s - loss: 0.3610 - accuracy: 0.06 - ETA: 0s - loss: 0.3603 - accuracy: 0.06 - ETA: 0s - loss: 0.3609 - accuracy: 0.06 - ETA: 0s - loss: 0.3601 - accuracy: 0.06 - 13s 1ms/sample - loss: 0.3591 - accuracy: 0.0642 - val_loss: 0.9525 - val_accuracy: 0.7104\n",
      "Epoch 4/4\n",
      "12630/12630 [==============================] - ETA: 8s - loss: 0.6101 - accuracy: 0.05 - ETA: 7s - loss: 0.2663 - accuracy: 0.06 - ETA: 7s - loss: 0.2756 - accuracy: 0.06 - ETA: 7s - loss: 0.2617 - accuracy: 0.06 - ETA: 7s - loss: 0.2341 - accuracy: 0.06 - ETA: 7s - loss: 0.2322 - accuracy: 0.06 - ETA: 7s - loss: 0.2257 - accuracy: 0.06 - ETA: 7s - loss: 0.2211 - accuracy: 0.06 - ETA: 7s - loss: 0.2199 - accuracy: 0.06 - ETA: 7s - loss: 0.2179 - accuracy: 0.06 - ETA: 7s - loss: 0.2406 - accuracy: 0.06 - ETA: 7s - loss: 0.2383 - accuracy: 0.06 - ETA: 7s - loss: 0.2324 - accuracy: 0.06 - ETA: 7s - loss: 0.2297 - accuracy: 0.06 - ETA: 7s - loss: 0.2251 - accuracy: 0.06 - ETA: 7s - loss: 0.2248 - accuracy: 0.06 - ETA: 7s - loss: 0.2236 - accuracy: 0.06 - ETA: 7s - loss: 0.2254 - accuracy: 0.06 - ETA: 7s - loss: 0.2202 - accuracy: 0.06 - ETA: 7s - loss: 0.2128 - accuracy: 0.06 - ETA: 7s - loss: 0.2117 - accuracy: 0.06 - ETA: 7s - loss: 0.2127 - accuracy: 0.06 - ETA: 7s - loss: 0.2093 - accuracy: 0.06 - ETA: 7s - loss: 0.2065 - accuracy: 0.06 - ETA: 7s - loss: 0.2106 - accuracy: 0.06 - ETA: 7s - loss: 0.2069 - accuracy: 0.06 - ETA: 7s - loss: 0.2030 - accuracy: 0.06 - ETA: 7s - loss: 0.2036 - accuracy: 0.06 - ETA: 7s - loss: 0.2026 - accuracy: 0.06 - ETA: 7s - loss: 0.2011 - accuracy: 0.06 - ETA: 7s - loss: 0.1990 - accuracy: 0.06 - ETA: 7s - loss: 0.1995 - accuracy: 0.06 - ETA: 7s - loss: 0.1992 - accuracy: 0.06 - ETA: 7s - loss: 0.1982 - accuracy: 0.06 - ETA: 7s - loss: 0.1972 - accuracy: 0.06 - ETA: 7s - loss: 0.1962 - accuracy: 0.06 - ETA: 8s - loss: 0.1959 - accuracy: 0.06 - ETA: 8s - loss: 0.2057 - accuracy: 0.06 - ETA: 8s - loss: 0.2032 - accuracy: 0.06 - ETA: 8s - loss: 0.2027 - accuracy: 0.06 - ETA: 8s - loss: 0.2033 - accuracy: 0.06 - ETA: 8s - loss: 0.2028 - accuracy: 0.06 - ETA: 8s - loss: 0.2014 - accuracy: 0.06 - ETA: 8s - loss: 0.1994 - accuracy: 0.06 - ETA: 8s - loss: 0.1978 - accuracy: 0.06 - ETA: 8s - loss: 0.1968 - accuracy: 0.06 - ETA: 8s - loss: 0.1974 - accuracy: 0.06 - ETA: 8s - loss: 0.2009 - accuracy: 0.06 - ETA: 8s - loss: 0.1998 - accuracy: 0.06 - ETA: 8s - loss: 0.2000 - accuracy: 0.06 - ETA: 9s - loss: 0.1983 - accuracy: 0.06 - ETA: 9s - loss: 0.1976 - accuracy: 0.06 - ETA: 9s - loss: 0.1966 - accuracy: 0.06 - ETA: 9s - loss: 0.1960 - accuracy: 0.06 - ETA: 9s - loss: 0.1969 - accuracy: 0.06 - ETA: 9s - loss: 0.1968 - accuracy: 0.06 - ETA: 9s - loss: 0.1945 - accuracy: 0.06 - ETA: 8s - loss: 0.1934 - accuracy: 0.06 - ETA: 8s - loss: 0.1908 - accuracy: 0.06 - ETA: 8s - loss: 0.1887 - accuracy: 0.06 - ETA: 8s - loss: 0.1871 - accuracy: 0.06 - ETA: 8s - loss: 0.1883 - accuracy: 0.06 - ETA: 8s - loss: 0.1892 - accuracy: 0.06 - ETA: 8s - loss: 0.1897 - accuracy: 0.06 - ETA: 8s - loss: 0.1912 - accuracy: 0.06 - ETA: 8s - loss: 0.1903 - accuracy: 0.06 - ETA: 8s - loss: 0.1958 - accuracy: 0.06 - ETA: 7s - loss: 0.1976 - accuracy: 0.06 - ETA: 7s - loss: 0.1968 - accuracy: 0.06 - ETA: 7s - loss: 0.1979 - accuracy: 0.06 - ETA: 7s - loss: 0.1966 - accuracy: 0.06 - ETA: 7s - loss: 0.1958 - accuracy: 0.06 - ETA: 7s - loss: 0.1953 - accuracy: 0.06 - ETA: 7s - loss: 0.1944 - accuracy: 0.06 - ETA: 7s - loss: 0.1939 - accuracy: 0.06 - ETA: 7s - loss: 0.1930 - accuracy: 0.06 - ETA: 6s - loss: 0.1916 - accuracy: 0.06 - ETA: 6s - loss: 0.1903 - accuracy: 0.06 - ETA: 6s - loss: 0.1884 - accuracy: 0.06 - ETA: 6s - loss: 0.1881 - accuracy: 0.06 - ETA: 6s - loss: 0.1881 - accuracy: 0.06 - ETA: 6s - loss: 0.1867 - accuracy: 0.06 - ETA: 6s - loss: 0.1863 - accuracy: 0.06 - ETA: 6s - loss: 0.1868 - accuracy: 0.06 - ETA: 6s - loss: 0.1873 - accuracy: 0.06 - ETA: 6s - loss: 0.1864 - accuracy: 0.06 - ETA: 6s - loss: 0.1863 - accuracy: 0.06 - ETA: 6s - loss: 0.1861 - accuracy: 0.06 - ETA: 6s - loss: 0.1856 - accuracy: 0.06 - ETA: 6s - loss: 0.1848 - accuracy: 0.06 - ETA: 6s - loss: 0.1843 - accuracy: 0.06 - ETA: 6s - loss: 0.1838 - accuracy: 0.06 - ETA: 5s - loss: 0.1834 - accuracy: 0.06 - ETA: 5s - loss: 0.1833 - accuracy: 0.06 - ETA: 5s - loss: 0.1826 - accuracy: 0.06 - ETA: 5s - loss: 0.1826 - accuracy: 0.06 - ETA: 5s - loss: 0.1817 - accuracy: 0.06 - ETA: 5s - loss: 0.1812 - accuracy: 0.06 - ETA: 5s - loss: 0.1808 - accuracy: 0.06 - ETA: 5s - loss: 0.1821 - accuracy: 0.06 - ETA: 5s - loss: 0.1808 - accuracy: 0.06 - ETA: 5s - loss: 0.1820 - accuracy: 0.06 - ETA: 5s - loss: 0.1832 - accuracy: 0.06 - ETA: 5s - loss: 0.1828 - accuracy: 0.06 - ETA: 5s - loss: 0.1827 - accuracy: 0.06 - ETA: 5s - loss: 0.1837 - accuracy: 0.06 - ETA: 5s - loss: 0.1832 - accuracy: 0.06 - ETA: 5s - loss: 0.1832 - accuracy: 0.06 - ETA: 5s - loss: 0.1835 - accuracy: 0.06 - ETA: 5s - loss: 0.1841 - accuracy: 0.06 - ETA: 5s - loss: 0.1834 - accuracy: 0.06 - ETA: 5s - loss: 0.1832 - accuracy: 0.06 - ETA: 5s - loss: 0.1822 - accuracy: 0.06 - ETA: 5s - loss: 0.1814 - accuracy: 0.06 - ETA: 5s - loss: 0.1808 - accuracy: 0.06 - ETA: 5s - loss: 0.1817 - accuracy: 0.06 - ETA: 4s - loss: 0.1815 - accuracy: 0.06 - ETA: 4s - loss: 0.1802 - accuracy: 0.06 - ETA: 4s - loss: 0.1802 - accuracy: 0.06 - ETA: 4s - loss: 0.1802 - accuracy: 0.06 - ETA: 4s - loss: 0.1797 - accuracy: 0.06 - ETA: 4s - loss: 0.1790 - accuracy: 0.06 - ETA: 4s - loss: 0.1800 - accuracy: 0.06 - ETA: 4s - loss: 0.1796 - accuracy: 0.06 - ETA: 4s - loss: 0.1787 - accuracy: 0.06 - ETA: 4s - loss: 0.1785 - accuracy: 0.06 - ETA: 4s - loss: 0.1777 - accuracy: 0.06 - ETA: 4s - loss: 0.1772 - accuracy: 0.06 - ETA: 4s - loss: 0.1776 - accuracy: 0.06 - ETA: 4s - loss: 0.1767 - accuracy: 0.06 - ETA: 3s - loss: 0.1780 - accuracy: 0.06 - ETA: 3s - loss: 0.1784 - accuracy: 0.06 - ETA: 3s - loss: 0.1787 - accuracy: 0.06 - ETA: 3s - loss: 0.1788 - accuracy: 0.06 - ETA: 3s - loss: 0.1782 - accuracy: 0.06 - ETA: 3s - loss: 0.1776 - accuracy: 0.06 - ETA: 3s - loss: 0.1781 - accuracy: 0.06 - ETA: 3s - loss: 0.1772 - accuracy: 0.06 - ETA: 3s - loss: 0.1765 - accuracy: 0.06 - ETA: 3s - loss: 0.1772 - accuracy: 0.06 - ETA: 2s - loss: 0.1771 - accuracy: 0.06 - ETA: 2s - loss: 0.1789 - accuracy: 0.06 - ETA: 2s - loss: 0.1793 - accuracy: 0.06 - ETA: 2s - loss: 0.1796 - accuracy: 0.06 - ETA: 2s - loss: 0.1819 - accuracy: 0.06 - ETA: 2s - loss: 0.1821 - accuracy: 0.06 - ETA: 2s - loss: 0.1822 - accuracy: 0.06 - ETA: 2s - loss: 0.1817 - accuracy: 0.06 - ETA: 2s - loss: 0.1826 - accuracy: 0.06 - ETA: 2s - loss: 0.1821 - accuracy: 0.06 - ETA: 2s - loss: 0.1816 - accuracy: 0.06 - ETA: 2s - loss: 0.1812 - accuracy: 0.06 - ETA: 2s - loss: 0.1815 - accuracy: 0.06 - ETA: 1s - loss: 0.1819 - accuracy: 0.06 - ETA: 1s - loss: 0.1817 - accuracy: 0.06 - ETA: 1s - loss: 0.1816 - accuracy: 0.06 - ETA: 1s - loss: 0.1819 - accuracy: 0.06 - ETA: 1s - loss: 0.1816 - accuracy: 0.06 - ETA: 1s - loss: 0.1827 - accuracy: 0.06 - ETA: 1s - loss: 0.1821 - accuracy: 0.06 - ETA: 1s - loss: 0.1817 - accuracy: 0.06 - ETA: 1s - loss: 0.1814 - accuracy: 0.06 - ETA: 1s - loss: 0.1815 - accuracy: 0.06 - ETA: 1s - loss: 0.1813 - accuracy: 0.06 - ETA: 1s - loss: 0.1816 - accuracy: 0.06 - ETA: 1s - loss: 0.1816 - accuracy: 0.06 - ETA: 1s - loss: 0.1814 - accuracy: 0.06 - ETA: 1s - loss: 0.1812 - accuracy: 0.06 - ETA: 1s - loss: 0.1806 - accuracy: 0.06 - ETA: 1s - loss: 0.1807 - accuracy: 0.06 - ETA: 1s - loss: 0.1808 - accuracy: 0.06 - ETA: 0s - loss: 0.1809 - accuracy: 0.06 - ETA: 0s - loss: 0.1806 - accuracy: 0.06 - ETA: 0s - loss: 0.1807 - accuracy: 0.06 - ETA: 0s - loss: 0.1806 - accuracy: 0.06 - ETA: 0s - loss: 0.1815 - accuracy: 0.06 - ETA: 0s - loss: 0.1828 - accuracy: 0.06 - ETA: 0s - loss: 0.1830 - accuracy: 0.06 - ETA: 0s - loss: 0.1843 - accuracy: 0.06 - ETA: 0s - loss: 0.1842 - accuracy: 0.06 - ETA: 0s - loss: 0.1833 - accuracy: 0.06 - ETA: 0s - loss: 0.1840 - accuracy: 0.06 - 14s 1ms/sample - loss: 0.1835 - accuracy: 0.0664 - val_loss: 0.7754 - val_accuracy: 0.7575\n"
     ]
    },
    {
     "data": {
      "text/html": [
       "<span style=\"color:#4527A0\"><h1 style=\"font-size:18px\">Trial complete</h1></span>"
      ],
      "text/plain": [
       "<IPython.core.display.HTML object>"
      ]
     },
     "metadata": {},
     "output_type": "display_data"
    },
    {
     "data": {
      "text/html": [
       "<span style=\"color:#4527A0\"><h1 style=\"font-size:18px\">Trial summary</h1></span>"
      ],
      "text/plain": [
       "<IPython.core.display.HTML object>"
      ]
     },
     "metadata": {},
     "output_type": "display_data"
    },
    {
     "data": {
      "text/html": [
       "<span style=\"color:cyan\"> |-Trial ID: bdce94292b426e7430c87cad28448e26</span>"
      ],
      "text/plain": [
       "<IPython.core.display.HTML object>"
      ]
     },
     "metadata": {},
     "output_type": "display_data"
    },
    {
     "data": {
      "text/html": [
       "<span style=\"color:cyan\"> |-Score: 0.7575409412384033</span>"
      ],
      "text/plain": [
       "<IPython.core.display.HTML object>"
      ]
     },
     "metadata": {},
     "output_type": "display_data"
    },
    {
     "data": {
      "text/html": [
       "<span style=\"color:cyan\"> |-Best step: 0</span>"
      ],
      "text/plain": [
       "<IPython.core.display.HTML object>"
      ]
     },
     "metadata": {},
     "output_type": "display_data"
    },
    {
     "data": {
      "text/html": [
       "<span style=\"color:#7E57C2\"><h2 style=\"font-size:16px\">Hyperparameters:</h2></span>"
      ],
      "text/plain": [
       "<IPython.core.display.HTML object>"
      ]
     },
     "metadata": {},
     "output_type": "display_data"
    },
    {
     "data": {
      "text/html": [
       "<span style=\"color:cyan\"> |-conv_1_filter: 80</span>"
      ],
      "text/plain": [
       "<IPython.core.display.HTML object>"
      ]
     },
     "metadata": {},
     "output_type": "display_data"
    },
    {
     "data": {
      "text/html": [
       "<span style=\"color:blue\"> |-conv_1_kernel: 5</span>"
      ],
      "text/plain": [
       "<IPython.core.display.HTML object>"
      ]
     },
     "metadata": {},
     "output_type": "display_data"
    },
    {
     "data": {
      "text/html": [
       "<span style=\"color:cyan\"> |-conv_2_filter: 32</span>"
      ],
      "text/plain": [
       "<IPython.core.display.HTML object>"
      ]
     },
     "metadata": {},
     "output_type": "display_data"
    },
    {
     "data": {
      "text/html": [
       "<span style=\"color:blue\"> |-conv_2_kernel: 5</span>"
      ],
      "text/plain": [
       "<IPython.core.display.HTML object>"
      ]
     },
     "metadata": {},
     "output_type": "display_data"
    },
    {
     "data": {
      "text/html": [
       "<span style=\"color:cyan\"> |-conv_3_filter: 32</span>"
      ],
      "text/plain": [
       "<IPython.core.display.HTML object>"
      ]
     },
     "metadata": {},
     "output_type": "display_data"
    },
    {
     "data": {
      "text/html": [
       "<span style=\"color:blue\"> |-conv_4_filter: 48</span>"
      ],
      "text/plain": [
       "<IPython.core.display.HTML object>"
      ]
     },
     "metadata": {},
     "output_type": "display_data"
    },
    {
     "data": {
      "text/html": [
       "<span style=\"color:cyan\"> |-d1: 0.01</span>"
      ],
      "text/plain": [
       "<IPython.core.display.HTML object>"
      ]
     },
     "metadata": {},
     "output_type": "display_data"
    },
    {
     "data": {
      "text/html": [
       "<span style=\"color:blue\"> |-d2: 0.07280886837380617</span>"
      ],
      "text/plain": [
       "<IPython.core.display.HTML object>"
      ]
     },
     "metadata": {},
     "output_type": "display_data"
    },
    {
     "data": {
      "text/html": [
       "<span style=\"color:cyan\"> |-d3: 0.009232652977999013</span>"
      ],
      "text/plain": [
       "<IPython.core.display.HTML object>"
      ]
     },
     "metadata": {},
     "output_type": "display_data"
    },
    {
     "data": {
      "text/html": [
       "<span style=\"color:blue\"> |-d4: 0.02521238039176316</span>"
      ],
      "text/plain": [
       "<IPython.core.display.HTML object>"
      ]
     },
     "metadata": {},
     "output_type": "display_data"
    },
    {
     "data": {
      "text/html": [
       "<span style=\"color:cyan\"> |-dense_1_units: 96</span>"
      ],
      "text/plain": [
       "<IPython.core.display.HTML object>"
      ]
     },
     "metadata": {},
     "output_type": "display_data"
    },
    {
     "data": {
      "text/html": [
       "<span style=\"color:blue\"> |-dense_4_units: 128</span>"
      ],
      "text/plain": [
       "<IPython.core.display.HTML object>"
      ]
     },
     "metadata": {},
     "output_type": "display_data"
    },
    {
     "data": {
      "text/html": [
       "<span style=\"color:cyan\"> |-dense_5_units: 288</span>"
      ],
      "text/plain": [
       "<IPython.core.display.HTML object>"
      ]
     },
     "metadata": {},
     "output_type": "display_data"
    },
    {
     "data": {
      "text/html": [
       "<span style=\"color:blue\"> |-learning_rate: 0.001</span>"
      ],
      "text/plain": [
       "<IPython.core.display.HTML object>"
      ]
     },
     "metadata": {},
     "output_type": "display_data"
    },
    {
     "name": "stdout",
     "output_type": "stream",
     "text": [
      "Train on 12630 samples, validate on 4410 samples\n",
      "Epoch 1/4\n",
      " 9504/12630 [=====================>........] - ETA: 10:01 - loss: 3.7655 - accuracy: 0.056 - ETA: 2:36 - loss: 12.2744 - accuracy: 0.061 - ETA: 1:32 - loss: 13.3461 - accuracy: 0.070 - ETA: 1:13 - loss: 13.7942 - accuracy: 0.065 - ETA: 1:01 - loss: 13.8046 - accuracy: 0.079 - ETA: 50s - loss: 14.1205 - accuracy: 0.073 - ETA: 42s - loss: 14.2952 - accuracy: 0.07 - ETA: 38s - loss: 14.4076 - accuracy: 0.06 - ETA: 35s - loss: 14.5465 - accuracy: 0.06 - ETA: 33s - loss: 14.5737 - accuracy: 0.06 - ETA: 31s - loss: 14.6166 - accuracy: 0.06 - ETA: 29s - loss: 14.6159 - accuracy: 0.06 - ETA: 28s - loss: 14.6153 - accuracy: 0.06 - ETA: 26s - loss: 14.6303 - accuracy: 0.07 - ETA: 24s - loss: 14.7146 - accuracy: 0.06 - ETA: 22s - loss: 14.7591 - accuracy: 0.06 - ETA: 22s - loss: 14.7767 - accuracy: 0.06 - ETA: 21s - loss: 14.8046 - accuracy: 0.06 - ETA: 20s - loss: 14.8474 - accuracy: 0.06 - ETA: 19s - loss: 14.8639 - accuracy: 0.06 - ETA: 18s - loss: 14.8784 - accuracy: 0.06 - ETA: 18s - loss: 14.8967 - accuracy: 0.06 - ETA: 17s - loss: 14.8953 - accuracy: 0.06 - ETA: 17s - loss: 14.9171 - accuracy: 0.06 - ETA: 17s - loss: 14.9294 - accuracy: 0.06 - ETA: 17s - loss: 14.9325 - accuracy: 0.06 - ETA: 17s - loss: 14.9440 - accuracy: 0.06 - ETA: 17s - loss: 14.9743 - accuracy: 0.05 - ETA: 17s - loss: 14.9786 - accuracy: 0.05 - ETA: 16s - loss: 14.9904 - accuracy: 0.05 - ETA: 16s - loss: 15.0015 - accuracy: 0.05 - ETA: 16s - loss: 14.9828 - accuracy: 0.06 - ETA: 16s - loss: 15.0006 - accuracy: 0.05 - ETA: 15s - loss: 15.0174 - accuracy: 0.05 - ETA: 15s - loss: 15.0468 - accuracy: 0.05 - ETA: 15s - loss: 15.0428 - accuracy: 0.05 - ETA: 14s - loss: 15.0633 - accuracy: 0.05 - ETA: 14s - loss: 15.0768 - accuracy: 0.05 - ETA: 14s - loss: 15.0661 - accuracy: 0.05 - ETA: 13s - loss: 15.0614 - accuracy: 0.05 - ETA: 13s - loss: 15.0742 - accuracy: 0.05 - ETA: 13s - loss: 15.0695 - accuracy: 0.05 - ETA: 13s - loss: 15.0918 - accuracy: 0.05 - ETA: 13s - loss: 15.0975 - accuracy: 0.05 - ETA: 13s - loss: 15.0924 - accuracy: 0.05 - ETA: 13s - loss: 15.0977 - accuracy: 0.05 - ETA: 13s - loss: 15.0979 - accuracy: 0.05 - ETA: 13s - loss: 15.0981 - accuracy: 0.05 - ETA: 12s - loss: 15.0886 - accuracy: 0.05 - ETA: 12s - loss: 15.0890 - accuracy: 0.05 - ETA: 12s - loss: 15.0988 - accuracy: 0.05 - ETA: 12s - loss: 15.0991 - accuracy: 0.05 - ETA: 12s - loss: 15.1038 - accuracy: 0.05 - ETA: 12s - loss: 15.1084 - accuracy: 0.05 - ETA: 12s - loss: 15.1172 - accuracy: 0.05 - ETA: 12s - loss: 15.1300 - accuracy: 0.05 - ETA: 11s - loss: 15.1254 - accuracy: 0.05 - ETA: 11s - loss: 15.1335 - accuracy: 0.05 - ETA: 11s - loss: 15.1331 - accuracy: 0.05 - ETA: 11s - loss: 15.1368 - accuracy: 0.05 - ETA: 11s - loss: 15.1483 - accuracy: 0.05 - ETA: 11s - loss: 15.1477 - accuracy: 0.05 - ETA: 11s - loss: 15.1548 - accuracy: 0.05 - ETA: 11s - loss: 15.1542 - accuracy: 0.05 - ETA: 11s - loss: 15.1573 - accuracy: 0.05 - ETA: 11s - loss: 15.1639 - accuracy: 0.05 - ETA: 10s - loss: 15.1632 - accuracy: 0.05 - ETA: 10s - loss: 15.1696 - accuracy: 0.05 - ETA: 10s - loss: 15.1828 - accuracy: 0.05 - ETA: 10s - loss: 15.1818 - accuracy: 0.05 - ETA: 10s - loss: 15.1775 - accuracy: 0.05 - ETA: 10s - loss: 15.1732 - accuracy: 0.05 - ETA: 10s - loss: 15.1761 - accuracy: 0.05 - ETA: 10s - loss: 15.1723 - accuracy: 0.05 - ETA: 10s - loss: 15.1786 - accuracy: 0.05 - ETA: 10s - loss: 15.1781 - accuracy: 0.05 - ETA: 10s - loss: 15.1810 - accuracy: 0.05 - ETA: 10s - loss: 15.1805 - accuracy: 0.05 - ETA: 10s - loss: 15.1833 - accuracy: 0.05 - ETA: 10s - loss: 15.1828 - accuracy: 0.05 - ETA: 10s - loss: 15.1887 - accuracy: 0.05 - ETA: 10s - loss: 15.1883 - accuracy: 0.05 - ETA: 10s - loss: 15.1846 - accuracy: 0.05 - ETA: 10s - loss: 15.1842 - accuracy: 0.05 - ETA: 10s - loss: 15.1771 - accuracy: 0.05 - ETA: 10s - loss: 15.1763 - accuracy: 0.05 - ETA: 10s - loss: 15.1785 - accuracy: 0.05 - ETA: 10s - loss: 15.1747 - accuracy: 0.05 - ETA: 10s - loss: 15.1710 - accuracy: 0.05 - ETA: 10s - loss: 15.1703 - accuracy: 0.05 - ETA: 9s - loss: 15.1697 - accuracy: 0.0548 - ETA: 9s - loss: 15.1693 - accuracy: 0.054 - ETA: 9s - loss: 15.1661 - accuracy: 0.055 - ETA: 9s - loss: 15.1740 - accuracy: 0.054 - ETA: 9s - loss: 15.1733 - accuracy: 0.054 - ETA: 9s - loss: 15.1836 - accuracy: 0.054 - ETA: 9s - loss: 15.1832 - accuracy: 0.054 - ETA: 9s - loss: 15.1774 - accuracy: 0.054 - ETA: 9s - loss: 15.1770 - accuracy: 0.054 - ETA: 9s - loss: 15.1820 - accuracy: 0.054 - ETA: 9s - loss: 15.1763 - accuracy: 0.054 - ETA: 9s - loss: 15.1759 - accuracy: 0.054 - ETA: 9s - loss: 15.1783 - accuracy: 0.054 - ETA: 9s - loss: 15.1779 - accuracy: 0.054 - ETA: 9s - loss: 15.1802 - accuracy: 0.054 - ETA: 9s - loss: 15.1798 - accuracy: 0.054 - ETA: 9s - loss: 15.1795 - accuracy: 0.054 - ETA: 9s - loss: 15.1791 - accuracy: 0.054 - ETA: 9s - loss: 15.1839 - accuracy: 0.054 - ETA: 9s - loss: 15.1835 - accuracy: 0.054 - ETA: 9s - loss: 15.1832 - accuracy: 0.054 - ETA: 9s - loss: 15.1777 - accuracy: 0.054 - ETA: 9s - loss: 15.1824 - accuracy: 0.054 - ETA: 9s - loss: 15.1846 - accuracy: 0.054 - ETA: 9s - loss: 15.1842 - accuracy: 0.054 - ETA: 8s - loss: 15.1863 - accuracy: 0.054 - ETA: 8s - loss: 15.1835 - accuracy: 0.054 - ETA: 8s - loss: 15.1831 - accuracy: 0.054 - ETA: 8s - loss: 15.1828 - accuracy: 0.054 - ETA: 8s - loss: 15.1824 - accuracy: 0.054 - ETA: 8s - loss: 15.1797 - accuracy: 0.054 - ETA: 8s - loss: 15.1697 - accuracy: 0.055 - ETA: 8s - loss: 15.1691 - accuracy: 0.055 - ETA: 8s - loss: 15.1686 - accuracy: 0.055 - ETA: 8s - loss: 15.1704 - accuracy: 0.055 - ETA: 8s - loss: 15.1745 - accuracy: 0.055 - ETA: 8s - loss: 15.1762 - accuracy: 0.055 - ETA: 8s - loss: 15.1779 - accuracy: 0.055 - ETA: 8s - loss: 15.1750 - accuracy: 0.055 - ETA: 7s - loss: 15.1745 - accuracy: 0.055 - ETA: 7s - loss: 15.1650 - accuracy: 0.056 - ETA: 7s - loss: 15.1580 - accuracy: 0.056 - ETA: 7s - loss: 15.1641 - accuracy: 0.056 - ETA: 7s - loss: 15.1701 - accuracy: 0.055 - ETA: 7s - loss: 15.1696 - accuracy: 0.055 - ETA: 7s - loss: 15.1752 - accuracy: 0.055 - ETA: 7s - loss: 15.1789 - accuracy: 0.055 - ETA: 6s - loss: 15.1804 - accuracy: 0.055 - ETA: 6s - loss: 15.1801 - accuracy: 0.055 - ETA: 6s - loss: 15.1819 - accuracy: 0.055 - ETA: 6s - loss: 15.1795 - accuracy: 0.055 - ETA: 6s - loss: 15.1793 - accuracy: 0.055 - ETA: 6s - loss: 15.1749 - accuracy: 0.055 - ETA: 6s - loss: 15.1706 - accuracy: 0.055 - ETA: 6s - loss: 15.1744 - accuracy: 0.055 - ETA: 6s - loss: 15.1761 - accuracy: 0.055 - ETA: 6s - loss: 15.1759 - accuracy: 0.055 - ETA: 6s - loss: 15.1776 - accuracy: 0.055 - ETA: 6s - loss: 15.1813 - accuracy: 0.055 - ETA: 6s - loss: 15.1791 - accuracy: 0.055 - ETA: 6s - loss: 15.1788 - accuracy: 0.055 - ETA: 6s - loss: 15.1805 - accuracy: 0.055 - ETA: 6s - loss: 15.1842 - accuracy: 0.055 - ETA: 6s - loss: 15.1858 - accuracy: 0.055 - ETA: 6s - loss: 15.1853 - accuracy: 0.055 - ETA: 6s - loss: 15.1866 - accuracy: 0.055 - ETA: 6s - loss: 15.1899 - accuracy: 0.054 - ETA: 5s - loss: 15.1896 - accuracy: 0.054 - ETA: 5s - loss: 15.1927 - accuracy: 0.054 - ETA: 5s - loss: 15.1962 - accuracy: 0.054 - ETA: 5s - loss: 15.1977 - accuracy: 0.054 - ETA: 5s - loss: 15.1993 - accuracy: 0.054 - ETA: 5s - loss: 15.1990 - accuracy: 0.054 - ETA: 5s - loss: 15.1986 - accuracy: 0.054 - ETA: 5s - loss: 15.1983 - accuracy: 0.054 - ETA: 5s - loss: 15.1998 - accuracy: 0.054 - ETA: 5s - loss: 15.1977 - accuracy: 0.054 - ETA: 5s - loss: 15.1974 - accuracy: 0.054 - ETA: 5s - loss: 15.1970 - accuracy: 0.054 - ETA: 5s - loss: 15.1967 - accuracy: 0.054 - ETA: 5s - loss: 15.1946 - accuracy: 0.054 - ETA: 5s - loss: 15.1961 - accuracy: 0.054 - ETA: 5s - loss: 15.1976 - accuracy: 0.054 - ETA: 5s - loss: 15.1991 - accuracy: 0.054 - ETA: 5s - loss: 15.1988 - accuracy: 0.054 - ETA: 5s - loss: 15.2020 - accuracy: 0.054 - ETA: 5s - loss: 15.2017 - accuracy: 0.054 - ETA: 5s - loss: 15.2046 - accuracy: 0.054 - ETA: 4s - loss: 15.2007 - accuracy: 0.054 - ETA: 4s - loss: 15.2001 - accuracy: 0.054 - ETA: 4s - loss: 15.1943 - accuracy: 0.054 - ETA: 4s - loss: 15.1938 - accuracy: 0.054 - ETA: 4s - loss: 15.1932 - accuracy: 0.055 - ETA: 4s - loss: 15.1929 - accuracy: 0.0550\b\b\b\b\b\b\b\b\b\b\b\b\b\b\b\b\b\b\b\b\b\b\b\b\b\b\b\b\b\b\b\b\b\b\b\b\b\b\b\b\b\b\b\b\b\b\b\b\b\b\b\b\b\b\b\b\b\b\b\b\b\b\b\b\b\b\b\b\b\b\b\b\b\b\b\b\b\b\b\b\b\b\b\b\b\b\b\b\b12630/12630 [==============================] - ETA: 4s - loss: 15.1943 - accuracy: 0.054 - ETA: 4s - loss: 15.1974 - accuracy: 0.054 - ETA: 4s - loss: 15.1971 - accuracy: 0.054 - ETA: 4s - loss: 15.1952 - accuracy: 0.054 - ETA: 4s - loss: 15.1949 - accuracy: 0.054 - ETA: 4s - loss: 15.1960 - accuracy: 0.054 - ETA: 4s - loss: 15.1971 - accuracy: 0.054 - ETA: 4s - loss: 15.1982 - accuracy: 0.054 - ETA: 3s - loss: 15.1992 - accuracy: 0.054 - ETA: 3s - loss: 15.2019 - accuracy: 0.054 - ETA: 3s - loss: 15.2013 - accuracy: 0.054 - ETA: 3s - loss: 15.2007 - accuracy: 0.054 - ETA: 3s - loss: 15.1954 - accuracy: 0.055 - ETA: 3s - loss: 15.1949 - accuracy: 0.055 - ETA: 3s - loss: 15.1944 - accuracy: 0.055 - ETA: 3s - loss: 15.1985 - accuracy: 0.054 - ETA: 3s - loss: 15.1949 - accuracy: 0.055 - ETA: 3s - loss: 15.1974 - accuracy: 0.055 - ETA: 2s - loss: 15.1939 - accuracy: 0.055 - ETA: 2s - loss: 15.1949 - accuracy: 0.055 - ETA: 2s - loss: 15.1989 - accuracy: 0.054 - ETA: 2s - loss: 15.1969 - accuracy: 0.055 - ETA: 2s - loss: 15.1919 - accuracy: 0.055 - ETA: 2s - loss: 15.1899 - accuracy: 0.055 - ETA: 2s - loss: 15.1924 - accuracy: 0.055 - ETA: 2s - loss: 15.1946 - accuracy: 0.055 - ETA: 2s - loss: 15.1985 - accuracy: 0.055 - ETA: 2s - loss: 15.2009 - accuracy: 0.054 - ETA: 1s - loss: 15.2047 - accuracy: 0.054 - ETA: 1s - loss: 15.2056 - accuracy: 0.054 - ETA: 1s - loss: 15.2093 - accuracy: 0.054 - ETA: 1s - loss: 15.2144 - accuracy: 0.054 - ETA: 1s - loss: 15.2152 - accuracy: 0.054 - ETA: 1s - loss: 15.2118 - accuracy: 0.054 - ETA: 1s - loss: 15.2099 - accuracy: 0.054 - ETA: 1s - loss: 15.2121 - accuracy: 0.054 - ETA: 1s - loss: 15.2129 - accuracy: 0.054 - ETA: 1s - loss: 15.2110 - accuracy: 0.054 - ETA: 1s - loss: 15.2118 - accuracy: 0.054 - ETA: 0s - loss: 15.2153 - accuracy: 0.054 - ETA: 0s - loss: 15.2188 - accuracy: 0.053 - ETA: 0s - loss: 15.2169 - accuracy: 0.054 - ETA: 0s - loss: 15.2203 - accuracy: 0.053 - ETA: 0s - loss: 15.2198 - accuracy: 0.053 - ETA: 0s - loss: 15.2179 - accuracy: 0.054 - ETA: 0s - loss: 15.2147 - accuracy: 0.054 - ETA: 0s - loss: 15.2181 - accuracy: 0.054 - ETA: 0s - loss: 15.2175 - accuracy: 0.054 - ETA: 0s - loss: 15.2170 - accuracy: 0.054 - ETA: 0s - loss: 15.2100 - accuracy: 0.054 - 20s 2ms/sample - loss: 15.2113 - accuracy: 0.0545 - val_loss: 15.3506 - val_accuracy: 0.0477\n",
      "Epoch 2/4\n",
      "11168/12630 [=========================>....] - ETA: 10s - loss: 16.1181 - accuracy: 0.0000e+ - ETA: 10s - loss: 15.2786 - accuracy: 0.0521   - ETA: 10s - loss: 15.6144 - accuracy: 0.03 - ETA: 10s - loss: 15.3266 - accuracy: 0.04 - ETA: 11s - loss: 15.4465 - accuracy: 0.04 - ETA: 11s - loss: 15.4312 - accuracy: 0.04 - ETA: 12s - loss: 15.4465 - accuracy: 0.04 - ETA: 12s - loss: 15.4345 - accuracy: 0.04 - ETA: 12s - loss: 15.5200 - accuracy: 0.03 - ETA: 12s - loss: 15.5584 - accuracy: 0.03 - ETA: 12s - loss: 15.5892 - accuracy: 0.03 - ETA: 12s - loss: 15.5686 - accuracy: 0.03 - ETA: 11s - loss: 15.5305 - accuracy: 0.03 - ETA: 11s - loss: 15.4788 - accuracy: 0.03 - ETA: 12s - loss: 15.5065 - accuracy: 0.03 - ETA: 12s - loss: 15.5276 - accuracy: 0.03 - ETA: 12s - loss: 15.5332 - accuracy: 0.03 - ETA: 12s - loss: 15.5228 - accuracy: 0.03 - ETA: 12s - loss: 15.4705 - accuracy: 0.04 - ETA: 12s - loss: 15.4510 - accuracy: 0.04 - ETA: 12s - loss: 15.4723 - accuracy: 0.04 - ETA: 12s - loss: 15.4547 - accuracy: 0.04 - ETA: 12s - loss: 15.4738 - accuracy: 0.04 - ETA: 12s - loss: 15.4241 - accuracy: 0.04 - ETA: 12s - loss: 15.4322 - accuracy: 0.04 - ETA: 12s - loss: 15.3985 - accuracy: 0.04 - ETA: 12s - loss: 15.3774 - accuracy: 0.04 - ETA: 12s - loss: 15.3819 - accuracy: 0.04 - ETA: 12s - loss: 15.3863 - accuracy: 0.04 - ETA: 12s - loss: 15.3763 - accuracy: 0.04 - ETA: 12s - loss: 15.3405 - accuracy: 0.04 - ETA: 12s - loss: 15.3583 - accuracy: 0.04 - ETA: 12s - loss: 15.3832 - accuracy: 0.04 - ETA: 12s - loss: 15.3826 - accuracy: 0.04 - ETA: 12s - loss: 15.3819 - accuracy: 0.04 - ETA: 11s - loss: 15.3663 - accuracy: 0.04 - ETA: 11s - loss: 15.3589 - accuracy: 0.04 - ETA: 11s - loss: 15.3448 - accuracy: 0.04 - ETA: 11s - loss: 15.3453 - accuracy: 0.04 - ETA: 11s - loss: 15.3489 - accuracy: 0.04 - ETA: 12s - loss: 15.3525 - accuracy: 0.04 - ETA: 12s - loss: 15.3427 - accuracy: 0.04 - ETA: 11s - loss: 15.3432 - accuracy: 0.04 - ETA: 11s - loss: 15.3437 - accuracy: 0.04 - ETA: 11s - loss: 15.3441 - accuracy: 0.04 - ETA: 11s - loss: 15.3446 - accuracy: 0.04 - ETA: 11s - loss: 15.3508 - accuracy: 0.04 - ETA: 11s - loss: 15.3339 - accuracy: 0.04 - ETA: 11s - loss: 15.3290 - accuracy: 0.04 - ETA: 11s - loss: 15.3242 - accuracy: 0.04 - ETA: 11s - loss: 15.3251 - accuracy: 0.04 - ETA: 11s - loss: 15.3363 - accuracy: 0.04 - ETA: 11s - loss: 15.3420 - accuracy: 0.04 - ETA: 11s - loss: 15.3475 - accuracy: 0.04 - ETA: 11s - loss: 15.3379 - accuracy: 0.04 - ETA: 11s - loss: 15.3287 - accuracy: 0.04 - ETA: 11s - loss: 15.3245 - accuracy: 0.04 - ETA: 11s - loss: 15.3159 - accuracy: 0.04 - ETA: 11s - loss: 15.3214 - accuracy: 0.04 - ETA: 10s - loss: 15.3131 - accuracy: 0.04 - ETA: 10s - loss: 15.2875 - accuracy: 0.05 - ETA: 10s - loss: 15.2815 - accuracy: 0.05 - ETA: 10s - loss: 15.2844 - accuracy: 0.05 - ETA: 10s - loss: 15.2900 - accuracy: 0.05 - ETA: 10s - loss: 15.2996 - accuracy: 0.05 - ETA: 10s - loss: 15.2814 - accuracy: 0.05 - ETA: 10s - loss: 15.2745 - accuracy: 0.05 - ETA: 10s - loss: 15.2679 - accuracy: 0.05 - ETA: 10s - loss: 15.2654 - accuracy: 0.05 - ETA: 10s - loss: 15.2603 - accuracy: 0.05 - ETA: 10s - loss: 15.2630 - accuracy: 0.05 - ETA: 10s - loss: 15.2607 - accuracy: 0.05 - ETA: 10s - loss: 15.2622 - accuracy: 0.05 - ETA: 10s - loss: 15.2674 - accuracy: 0.05 - ETA: 10s - loss: 15.2688 - accuracy: 0.05 - ETA: 10s - loss: 15.2665 - accuracy: 0.05 - ETA: 10s - loss: 15.2715 - accuracy: 0.05 - ETA: 9s - loss: 15.2622 - accuracy: 0.0531 - ETA: 9s - loss: 15.2566 - accuracy: 0.053 - ETA: 9s - loss: 15.2512 - accuracy: 0.053 - ETA: 9s - loss: 15.2527 - accuracy: 0.053 - ETA: 9s - loss: 15.2542 - accuracy: 0.053 - ETA: 9s - loss: 15.2523 - accuracy: 0.053 - ETA: 9s - loss: 15.2440 - accuracy: 0.054 - ETA: 9s - loss: 15.2358 - accuracy: 0.054 - ETA: 9s - loss: 15.2350 - accuracy: 0.054 - ETA: 9s - loss: 15.2429 - accuracy: 0.054 - ETA: 9s - loss: 15.2444 - accuracy: 0.054 - ETA: 9s - loss: 15.2305 - accuracy: 0.055 - ETA: 9s - loss: 15.2291 - accuracy: 0.055 - ETA: 8s - loss: 15.2306 - accuracy: 0.055 - ETA: 8s - loss: 15.2233 - accuracy: 0.055 - ETA: 8s - loss: 15.2220 - accuracy: 0.055 - ETA: 8s - loss: 15.2214 - accuracy: 0.055 - ETA: 8s - loss: 15.2115 - accuracy: 0.056 - ETA: 8s - loss: 15.2103 - accuracy: 0.056 - ETA: 8s - loss: 15.2092 - accuracy: 0.056 - ETA: 8s - loss: 15.2165 - accuracy: 0.055 - ETA: 8s - loss: 15.2153 - accuracy: 0.056 - ETA: 8s - loss: 15.2147 - accuracy: 0.056 - ETA: 8s - loss: 15.2196 - accuracy: 0.055 - ETA: 8s - loss: 15.2245 - accuracy: 0.055 - ETA: 8s - loss: 15.2265 - accuracy: 0.055 - ETA: 8s - loss: 15.2232 - accuracy: 0.055 - ETA: 8s - loss: 15.2253 - accuracy: 0.055 - ETA: 8s - loss: 15.2247 - accuracy: 0.055 - ETA: 8s - loss: 15.2162 - accuracy: 0.056 - ETA: 8s - loss: 15.2157 - accuracy: 0.056 - ETA: 8s - loss: 15.2151 - accuracy: 0.056 - ETA: 8s - loss: 15.2120 - accuracy: 0.056 - ETA: 8s - loss: 15.2140 - accuracy: 0.056 - ETA: 8s - loss: 15.2058 - accuracy: 0.056 - ETA: 8s - loss: 15.2104 - accuracy: 0.056 - ETA: 8s - loss: 15.2099 - accuracy: 0.056 - ETA: 8s - loss: 15.2145 - accuracy: 0.056 - ETA: 8s - loss: 15.2190 - accuracy: 0.055 - ETA: 8s - loss: 15.2235 - accuracy: 0.055 - ETA: 7s - loss: 15.2174 - accuracy: 0.055 - ETA: 7s - loss: 15.2169 - accuracy: 0.055 - ETA: 7s - loss: 15.2164 - accuracy: 0.055 - ETA: 7s - loss: 15.2207 - accuracy: 0.055 - ETA: 7s - loss: 15.2202 - accuracy: 0.055 - ETA: 7s - loss: 15.2197 - accuracy: 0.055 - ETA: 7s - loss: 15.2216 - accuracy: 0.055 - ETA: 7s - loss: 15.2277 - accuracy: 0.055 - ETA: 7s - loss: 15.2313 - accuracy: 0.055 - ETA: 7s - loss: 15.2349 - accuracy: 0.054 - ETA: 7s - loss: 15.2268 - accuracy: 0.055 - ETA: 7s - loss: 15.2234 - accuracy: 0.055 - ETA: 7s - loss: 15.2270 - accuracy: 0.055 - ETA: 7s - loss: 15.2287 - accuracy: 0.055 - ETA: 7s - loss: 15.2299 - accuracy: 0.055 - ETA: 7s - loss: 15.2244 - accuracy: 0.055 - ETA: 6s - loss: 15.2234 - accuracy: 0.055 - ETA: 6s - loss: 15.2180 - accuracy: 0.055 - ETA: 6s - loss: 15.2193 - accuracy: 0.055 - ETA: 6s - loss: 15.2270 - accuracy: 0.055 - ETA: 6s - loss: 15.2281 - accuracy: 0.055 - ETA: 6s - loss: 15.2330 - accuracy: 0.054 - ETA: 6s - loss: 15.2403 - accuracy: 0.054 - ETA: 6s - loss: 15.2387 - accuracy: 0.054 - ETA: 5s - loss: 15.2412 - accuracy: 0.054 - ETA: 5s - loss: 15.2417 - accuracy: 0.054 - ETA: 5s - loss: 15.2386 - accuracy: 0.054 - ETA: 5s - loss: 15.2371 - accuracy: 0.054 - ETA: 5s - loss: 15.2342 - accuracy: 0.054 - ETA: 5s - loss: 15.2366 - accuracy: 0.054 - ETA: 5s - loss: 15.2352 - accuracy: 0.054 - ETA: 5s - loss: 15.2324 - accuracy: 0.055 - ETA: 5s - loss: 15.2296 - accuracy: 0.055 - ETA: 4s - loss: 15.2357 - accuracy: 0.054 - ETA: 4s - loss: 15.2343 - accuracy: 0.054 - ETA: 4s - loss: 15.2353 - accuracy: 0.054 - ETA: 4s - loss: 15.2321 - accuracy: 0.055 - ETA: 4s - loss: 15.2312 - accuracy: 0.055 - ETA: 4s - loss: 15.2286 - accuracy: 0.055 - ETA: 4s - loss: 15.2327 - accuracy: 0.054 - ETA: 4s - loss: 15.2279 - accuracy: 0.055 - ETA: 3s - loss: 15.2319 - accuracy: 0.055 - ETA: 3s - loss: 15.2324 - accuracy: 0.055 - ETA: 3s - loss: 15.2349 - accuracy: 0.054 - ETA: 3s - loss: 15.2324 - accuracy: 0.054 - ETA: 3s - loss: 15.2312 - accuracy: 0.055 - ETA: 3s - loss: 15.2354 - accuracy: 0.054 - ETA: 3s - loss: 15.2375 - accuracy: 0.054 - ETA: 3s - loss: 15.2346 - accuracy: 0.054 - ETA: 3s - loss: 15.2354 - accuracy: 0.054 - ETA: 3s - loss: 15.2326 - accuracy: 0.054 - ETA: 2s - loss: 15.2267 - accuracy: 0.055 - ETA: 2s - loss: 15.2276 - accuracy: 0.055 - ETA: 2s - loss: 15.2284 - accuracy: 0.055 - ETA: 2s - loss: 15.2324 - accuracy: 0.055 - ETA: 2s - loss: 15.2301 - accuracy: 0.055 - ETA: 2s - loss: 15.2309 - accuracy: 0.055 - ETA: 2s - loss: 15.2317 - accuracy: 0.055 - ETA: 2s - loss: 15.2309 - accuracy: 0.055 - ETA: 2s - loss: 15.2272 - accuracy: 0.055 - ETA: 2s - loss: 15.2310 - accuracy: 0.055 - ETA: 2s - loss: 15.2273 - accuracy: 0.055 - ETA: 2s - loss: 15.2296 - accuracy: 0.055 - ETA: 1s - loss: 15.2333 - accuracy: 0.054 - ETA: 1s - loss: 15.2326 - accuracy: 0.054 - ETA: 1s - loss: 15.2348 - accuracy: 0.054 - ETA: 1s - loss: 15.2356 - accuracy: 0.054 - ETA: 1s - loss: 15.2334 - accuracy: 0.054912630/12630 [==============================] - ETA: 1s - loss: 15.2356 - accuracy: 0.054 - ETA: 1s - loss: 15.2338 - accuracy: 0.054 - ETA: 1s - loss: 15.2306 - accuracy: 0.055 - ETA: 1s - loss: 15.2274 - accuracy: 0.055 - ETA: 1s - loss: 15.2299 - accuracy: 0.055 - ETA: 1s - loss: 15.2310 - accuracy: 0.055 - ETA: 1s - loss: 15.2306 - accuracy: 0.055 - ETA: 1s - loss: 15.2303 - accuracy: 0.055 - ETA: 1s - loss: 15.2314 - accuracy: 0.055 - ETA: 1s - loss: 15.2324 - accuracy: 0.054 - ETA: 1s - loss: 15.2307 - accuracy: 0.055 - ETA: 1s - loss: 15.2290 - accuracy: 0.055 - ETA: 1s - loss: 15.2287 - accuracy: 0.055 - ETA: 1s - loss: 15.2308 - accuracy: 0.055 - ETA: 1s - loss: 15.2315 - accuracy: 0.055 - ETA: 0s - loss: 15.2322 - accuracy: 0.055 - ETA: 0s - loss: 15.2329 - accuracy: 0.054 - ETA: 0s - loss: 15.2339 - accuracy: 0.054 - ETA: 0s - loss: 15.2350 - accuracy: 0.054 - ETA: 0s - loss: 15.2373 - accuracy: 0.054 - ETA: 0s - loss: 15.2383 - accuracy: 0.054 - ETA: 0s - loss: 15.2393 - accuracy: 0.054 - ETA: 0s - loss: 15.2403 - accuracy: 0.054 - ETA: 0s - loss: 15.2400 - accuracy: 0.054 - ETA: 0s - loss: 15.2393 - accuracy: 0.054 - ETA: 0s - loss: 15.2416 - accuracy: 0.054 - ETA: 0s - loss: 15.2396 - accuracy: 0.054 - ETA: 0s - loss: 15.2429 - accuracy: 0.054 - ETA: 0s - loss: 15.2409 - accuracy: 0.054 - ETA: 0s - loss: 15.2418 - accuracy: 0.054 - ETA: 0s - loss: 15.2412 - accuracy: 0.054 - ETA: 0s - loss: 15.2392 - accuracy: 0.054 - ETA: 0s - loss: 15.2386 - accuracy: 0.054 - 16s 1ms/sample - loss: 15.2375 - accuracy: 0.0546 - val_loss: 15.3506 - val_accuracy: 0.0477\n",
      "Epoch 3/4\n",
      "10720/12630 [========================>.....] - ETA: 15s - loss: 15.6144 - accuracy: 0.03 - ETA: 13s - loss: 15.7823 - accuracy: 0.02 - ETA: 12s - loss: 15.5137 - accuracy: 0.03 - ETA: 12s - loss: 15.5425 - accuracy: 0.03 - ETA: 12s - loss: 15.4465 - accuracy: 0.04 - ETA: 13s - loss: 15.5686 - accuracy: 0.03 - ETA: 13s - loss: 15.5757 - accuracy: 0.03 - ETA: 13s - loss: 15.5137 - accuracy: 0.03 - ETA: 13s - loss: 15.4959 - accuracy: 0.03 - ETA: 13s - loss: 15.5084 - accuracy: 0.03 - ETA: 13s - loss: 15.4945 - accuracy: 0.03 - ETA: 14s - loss: 15.4173 - accuracy: 0.04 - ETA: 13s - loss: 15.4129 - accuracy: 0.04 - ETA: 14s - loss: 15.3532 - accuracy: 0.04 - ETA: 14s - loss: 15.3365 - accuracy: 0.04 - ETA: 14s - loss: 15.3122 - accuracy: 0.05 - ETA: 14s - loss: 15.3219 - accuracy: 0.04 - ETA: 14s - loss: 15.3244 - accuracy: 0.04 - ETA: 14s - loss: 15.3329 - accuracy: 0.04 - ETA: 14s - loss: 15.3266 - accuracy: 0.04 - ETA: 14s - loss: 15.3013 - accuracy: 0.05 - ETA: 14s - loss: 15.2657 - accuracy: 0.05 - ETA: 14s - loss: 15.2704 - accuracy: 0.05 - ETA: 14s - loss: 15.2864 - accuracy: 0.05 - ETA: 13s - loss: 15.2786 - accuracy: 0.05 - ETA: 13s - loss: 15.2822 - accuracy: 0.05 - ETA: 13s - loss: 15.2855 - accuracy: 0.05 - ETA: 13s - loss: 15.2885 - accuracy: 0.05 - ETA: 12s - loss: 15.2818 - accuracy: 0.05 - ETA: 12s - loss: 15.2756 - accuracy: 0.05 - ETA: 12s - loss: 15.2786 - accuracy: 0.05 - ETA: 12s - loss: 15.2473 - accuracy: 0.05 - ETA: 12s - loss: 15.2488 - accuracy: 0.05 - ETA: 11s - loss: 15.2445 - accuracy: 0.05 - ETA: 11s - loss: 15.2252 - accuracy: 0.05 - ETA: 11s - loss: 15.2494 - accuracy: 0.05 - ETA: 11s - loss: 15.2384 - accuracy: 0.05 - ETA: 10s - loss: 15.2469 - accuracy: 0.05 - ETA: 10s - loss: 15.2366 - accuracy: 0.05 - ETA: 10s - loss: 15.2334 - accuracy: 0.05 - ETA: 10s - loss: 15.1978 - accuracy: 0.05 - ETA: 10s - loss: 15.1957 - accuracy: 0.05 - ETA: 10s - loss: 15.1818 - accuracy: 0.05 - ETA: 10s - loss: 15.1860 - accuracy: 0.05 - ETA: 10s - loss: 15.1843 - accuracy: 0.05 - ETA: 10s - loss: 15.1937 - accuracy: 0.05 - ETA: 10s - loss: 15.2028 - accuracy: 0.05 - ETA: 10s - loss: 15.2062 - accuracy: 0.05 - ETA: 9s - loss: 15.1938 - accuracy: 0.0573 - ETA: 9s - loss: 15.1972 - accuracy: 0.057 - ETA: 9s - loss: 15.2005 - accuracy: 0.056 - ETA: 9s - loss: 15.1987 - accuracy: 0.057 - ETA: 9s - loss: 15.1971 - accuracy: 0.057 - ETA: 9s - loss: 15.2049 - accuracy: 0.056 - ETA: 9s - loss: 15.2124 - accuracy: 0.056 - ETA: 9s - loss: 15.2060 - accuracy: 0.056 - ETA: 9s - loss: 15.1999 - accuracy: 0.057 - ETA: 9s - loss: 15.2071 - accuracy: 0.056 - ETA: 9s - loss: 15.2054 - accuracy: 0.056 - ETA: 9s - loss: 15.2081 - accuracy: 0.056 - ETA: 9s - loss: 15.2065 - accuracy: 0.056 - ETA: 9s - loss: 15.2131 - accuracy: 0.056 - ETA: 9s - loss: 15.2235 - accuracy: 0.055 - ETA: 9s - loss: 15.2257 - accuracy: 0.055 - ETA: 9s - loss: 15.2170 - accuracy: 0.055 - ETA: 9s - loss: 15.2192 - accuracy: 0.055 - ETA: 9s - loss: 15.2214 - accuracy: 0.055 - ETA: 9s - loss: 15.2084 - accuracy: 0.056 - ETA: 9s - loss: 15.2152 - accuracy: 0.056 - ETA: 9s - loss: 15.2181 - accuracy: 0.055 - ETA: 9s - loss: 15.2202 - accuracy: 0.055 - ETA: 9s - loss: 15.2231 - accuracy: 0.055 - ETA: 8s - loss: 15.2250 - accuracy: 0.055 - ETA: 8s - loss: 15.2278 - accuracy: 0.055 - ETA: 8s - loss: 15.2261 - accuracy: 0.055 - ETA: 8s - loss: 15.2349 - accuracy: 0.054 - ETA: 8s - loss: 15.2375 - accuracy: 0.054 - ETA: 8s - loss: 15.2392 - accuracy: 0.054 - ETA: 8s - loss: 15.2383 - accuracy: 0.054 - ETA: 8s - loss: 15.2400 - accuracy: 0.054 - ETA: 8s - loss: 15.2350 - accuracy: 0.054 - ETA: 8s - loss: 15.2334 - accuracy: 0.054 - ETA: 8s - loss: 15.2319 - accuracy: 0.055 - ETA: 8s - loss: 15.2343 - accuracy: 0.054 - ETA: 8s - loss: 15.2366 - accuracy: 0.054 - ETA: 8s - loss: 15.2390 - accuracy: 0.054 - ETA: 8s - loss: 15.2444 - accuracy: 0.054 - ETA: 8s - loss: 15.2405 - accuracy: 0.054 - ETA: 8s - loss: 15.2366 - accuracy: 0.054 - ETA: 8s - loss: 15.2420 - accuracy: 0.054 - ETA: 8s - loss: 15.2495 - accuracy: 0.053 - ETA: 8s - loss: 15.2419 - accuracy: 0.054 - ETA: 8s - loss: 15.2433 - accuracy: 0.054 - ETA: 8s - loss: 15.2417 - accuracy: 0.054 - ETA: 8s - loss: 15.2402 - accuracy: 0.054 - ETA: 8s - loss: 15.2416 - accuracy: 0.054 - ETA: 7s - loss: 15.2458 - accuracy: 0.054 - ETA: 7s - loss: 15.2471 - accuracy: 0.054 - ETA: 7s - loss: 15.2346 - accuracy: 0.054 - ETA: 7s - loss: 15.2387 - accuracy: 0.054 - ETA: 7s - loss: 15.2366 - accuracy: 0.054 - ETA: 7s - loss: 15.2353 - accuracy: 0.054 - ETA: 7s - loss: 15.2366 - accuracy: 0.054 - ETA: 7s - loss: 15.2405 - accuracy: 0.054 - ETA: 7s - loss: 15.2495 - accuracy: 0.053 - ETA: 7s - loss: 15.2405 - accuracy: 0.054 - ETA: 7s - loss: 15.2442 - accuracy: 0.054 - ETA: 6s - loss: 15.2429 - accuracy: 0.054 - ETA: 6s - loss: 15.2465 - accuracy: 0.054 - ETA: 6s - loss: 15.2501 - accuracy: 0.053 - ETA: 6s - loss: 15.2560 - accuracy: 0.053 - ETA: 6s - loss: 15.2594 - accuracy: 0.053 - ETA: 6s - loss: 15.2556 - accuracy: 0.053 - ETA: 6s - loss: 15.2543 - accuracy: 0.053 - ETA: 6s - loss: 15.2530 - accuracy: 0.053 - ETA: 6s - loss: 15.2609 - accuracy: 0.053 - ETA: 6s - loss: 15.2572 - accuracy: 0.053 - ETA: 6s - loss: 15.2605 - accuracy: 0.053 - ETA: 6s - loss: 15.2636 - accuracy: 0.053 - ETA: 5s - loss: 15.2645 - accuracy: 0.053 - ETA: 5s - loss: 15.2609 - accuracy: 0.053 - ETA: 5s - loss: 15.2618 - accuracy: 0.053 - ETA: 5s - loss: 15.2562 - accuracy: 0.053 - ETA: 5s - loss: 15.2577 - accuracy: 0.053 - ETA: 5s - loss: 15.2629 - accuracy: 0.053 - ETA: 5s - loss: 15.2644 - accuracy: 0.053 - ETA: 5s - loss: 15.2631 - accuracy: 0.053 - ETA: 5s - loss: 15.2534 - accuracy: 0.053 - ETA: 5s - loss: 15.2549 - accuracy: 0.053 - ETA: 5s - loss: 15.2496 - accuracy: 0.053 - ETA: 5s - loss: 15.2526 - accuracy: 0.053 - ETA: 5s - loss: 15.2514 - accuracy: 0.053 - ETA: 5s - loss: 15.2564 - accuracy: 0.053 - ETA: 5s - loss: 15.2578 - accuracy: 0.053 - ETA: 5s - loss: 15.2612 - accuracy: 0.053 - ETA: 5s - loss: 15.2646 - accuracy: 0.053 - ETA: 5s - loss: 15.2634 - accuracy: 0.053 - ETA: 5s - loss: 15.2648 - accuracy: 0.052 - ETA: 5s - loss: 15.2642 - accuracy: 0.053 - ETA: 5s - loss: 15.2616 - accuracy: 0.053 - ETA: 4s - loss: 15.2630 - accuracy: 0.053 - ETA: 4s - loss: 15.2580 - accuracy: 0.053 - ETA: 4s - loss: 15.2587 - accuracy: 0.053 - ETA: 4s - loss: 15.2601 - accuracy: 0.053 - ETA: 4s - loss: 15.2557 - accuracy: 0.053 - ETA: 4s - loss: 15.2514 - accuracy: 0.053 - ETA: 4s - loss: 15.2546 - accuracy: 0.053 - ETA: 4s - loss: 15.2536 - accuracy: 0.053 - ETA: 4s - loss: 15.2488 - accuracy: 0.053 - ETA: 4s - loss: 15.2445 - accuracy: 0.054 - ETA: 4s - loss: 15.2362 - accuracy: 0.054 - ETA: 4s - loss: 15.2357 - accuracy: 0.054 - ETA: 4s - loss: 15.2371 - accuracy: 0.054 - ETA: 4s - loss: 15.2385 - accuracy: 0.054 - ETA: 4s - loss: 15.2398 - accuracy: 0.054 - ETA: 4s - loss: 15.2394 - accuracy: 0.054 - ETA: 4s - loss: 15.2407 - accuracy: 0.054 - ETA: 4s - loss: 15.2402 - accuracy: 0.054 - ETA: 4s - loss: 15.2398 - accuracy: 0.054 - ETA: 4s - loss: 15.2411 - accuracy: 0.054 - ETA: 4s - loss: 15.2420 - accuracy: 0.054 - ETA: 4s - loss: 15.2375 - accuracy: 0.054 - ETA: 4s - loss: 15.2366 - accuracy: 0.054 - ETA: 3s - loss: 15.2323 - accuracy: 0.055 - ETA: 3s - loss: 15.2384 - accuracy: 0.054 - ETA: 3s - loss: 15.2375 - accuracy: 0.054 - ETA: 3s - loss: 15.2315 - accuracy: 0.055 - ETA: 3s - loss: 15.2273 - accuracy: 0.055 - ETA: 3s - loss: 15.2266 - accuracy: 0.055 - ETA: 3s - loss: 15.2275 - accuracy: 0.055 - ETA: 3s - loss: 15.2284 - accuracy: 0.055 - ETA: 3s - loss: 15.2292 - accuracy: 0.055 - ETA: 3s - loss: 15.2317 - accuracy: 0.055 - ETA: 3s - loss: 15.2310 - accuracy: 0.055 - ETA: 3s - loss: 15.2318 - accuracy: 0.055 - ETA: 3s - loss: 15.2310 - accuracy: 0.055 - ETA: 2s - loss: 15.2287 - accuracy: 0.055 - ETA: 2s - loss: 15.2279 - accuracy: 0.055 - ETA: 2s - loss: 15.2268 - accuracy: 0.055 - ETA: 2s - loss: 15.2261 - accuracy: 0.055 - ETA: 2s - loss: 15.2270 - accuracy: 0.055 - ETA: 2s - loss: 15.2324 - accuracy: 0.055 - ETA: 2s - loss: 15.2332 - accuracy: 0.054 - ETA: 2s - loss: 15.2325 - accuracy: 0.054 - ETA: 2s - loss: 15.2363 - accuracy: 0.054 - ETA: 2s - loss: 15.2385 - accuracy: 0.054612630/12630 [==============================] - ETA: 2s - loss: 15.2408 - accuracy: 0.054 - ETA: 2s - loss: 15.2404 - accuracy: 0.054 - ETA: 2s - loss: 15.2426 - accuracy: 0.054 - ETA: 1s - loss: 15.2418 - accuracy: 0.054 - ETA: 1s - loss: 15.2444 - accuracy: 0.054 - ETA: 1s - loss: 15.2396 - accuracy: 0.054 - ETA: 1s - loss: 15.2407 - accuracy: 0.054 - ETA: 1s - loss: 15.2417 - accuracy: 0.054 - ETA: 1s - loss: 15.2424 - accuracy: 0.054 - ETA: 1s - loss: 15.2449 - accuracy: 0.054 - ETA: 1s - loss: 15.2456 - accuracy: 0.054 - ETA: 1s - loss: 15.2452 - accuracy: 0.054 - ETA: 1s - loss: 15.2448 - accuracy: 0.054 - ETA: 1s - loss: 15.2445 - accuracy: 0.054 - ETA: 1s - loss: 15.2427 - accuracy: 0.054 - ETA: 1s - loss: 15.2437 - accuracy: 0.054 - ETA: 1s - loss: 15.2448 - accuracy: 0.054 - ETA: 1s - loss: 15.2472 - accuracy: 0.054 - ETA: 1s - loss: 15.2426 - accuracy: 0.054 - ETA: 1s - loss: 15.2436 - accuracy: 0.054 - ETA: 1s - loss: 15.2433 - accuracy: 0.054 - ETA: 1s - loss: 15.2401 - accuracy: 0.054 - ETA: 1s - loss: 15.2425 - accuracy: 0.054 - ETA: 1s - loss: 15.2408 - accuracy: 0.054 - ETA: 1s - loss: 15.2432 - accuracy: 0.054 - ETA: 1s - loss: 15.2456 - accuracy: 0.054 - ETA: 1s - loss: 15.2480 - accuracy: 0.054 - ETA: 0s - loss: 15.2486 - accuracy: 0.053 - ETA: 0s - loss: 15.2492 - accuracy: 0.053 - ETA: 0s - loss: 15.2458 - accuracy: 0.054 - ETA: 0s - loss: 15.2423 - accuracy: 0.054 - ETA: 0s - loss: 15.2413 - accuracy: 0.054 - ETA: 0s - loss: 15.2390 - accuracy: 0.054 - ETA: 0s - loss: 15.2422 - accuracy: 0.054 - ETA: 0s - loss: 15.2402 - accuracy: 0.054 - ETA: 0s - loss: 15.2396 - accuracy: 0.054 - ETA: 0s - loss: 15.2350 - accuracy: 0.054 - ETA: 0s - loss: 15.2357 - accuracy: 0.054 - ETA: 0s - loss: 15.2363 - accuracy: 0.054 - 17s 1ms/sample - loss: 15.2375 - accuracy: 0.0546 - val_loss: 15.3506 - val_accuracy: 0.0477\n",
      "Epoch 4/4\n",
      "11456/12630 [==========================>...] - ETA: 15s - loss: 15.1107 - accuracy: 0.06 - ETA: 14s - loss: 15.4465 - accuracy: 0.04 - ETA: 15s - loss: 15.7151 - accuracy: 0.02 - ETA: 15s - loss: 15.5425 - accuracy: 0.03 - ETA: 15s - loss: 15.3905 - accuracy: 0.04 - ETA: 15s - loss: 15.3122 - accuracy: 0.05 - ETA: 16s - loss: 15.2481 - accuracy: 0.05 - ETA: 16s - loss: 15.2786 - accuracy: 0.05 - ETA: 16s - loss: 15.3044 - accuracy: 0.05 - ETA: 16s - loss: 15.3122 - accuracy: 0.05 - ETA: 16s - loss: 15.2885 - accuracy: 0.05 - ETA: 16s - loss: 15.2433 - accuracy: 0.05 - ETA: 16s - loss: 15.2366 - accuracy: 0.05 - ETA: 15s - loss: 15.2710 - accuracy: 0.05 - ETA: 16s - loss: 15.2640 - accuracy: 0.05 - ETA: 15s - loss: 15.2316 - accuracy: 0.05 - ETA: 15s - loss: 15.2600 - accuracy: 0.05 - ETA: 15s - loss: 15.2497 - accuracy: 0.05 - ETA: 15s - loss: 15.2450 - accuracy: 0.05 - ETA: 15s - loss: 15.2570 - accuracy: 0.05 - ETA: 15s - loss: 15.2839 - accuracy: 0.05 - ETA: 15s - loss: 15.2176 - accuracy: 0.05 - ETA: 15s - loss: 15.1971 - accuracy: 0.05 - ETA: 15s - loss: 15.2196 - accuracy: 0.05 - ETA: 15s - loss: 15.2300 - accuracy: 0.05 - ETA: 15s - loss: 15.2492 - accuracy: 0.05 - ETA: 15s - loss: 15.1947 - accuracy: 0.05 - ETA: 15s - loss: 15.1909 - accuracy: 0.05 - ETA: 15s - loss: 15.2115 - accuracy: 0.05 - ETA: 15s - loss: 15.1857 - accuracy: 0.05 - ETA: 15s - loss: 15.1842 - accuracy: 0.05 - ETA: 15s - loss: 15.1409 - accuracy: 0.06 - ETA: 14s - loss: 15.1591 - accuracy: 0.05 - ETA: 14s - loss: 15.1667 - accuracy: 0.05 - ETA: 14s - loss: 15.1917 - accuracy: 0.05 - ETA: 14s - loss: 15.1889 - accuracy: 0.05 - ETA: 13s - loss: 15.1947 - accuracy: 0.05 - ETA: 13s - loss: 15.1757 - accuracy: 0.05 - ETA: 13s - loss: 15.1805 - accuracy: 0.05 - ETA: 13s - loss: 15.1709 - accuracy: 0.05 - ETA: 12s - loss: 15.1691 - accuracy: 0.05 - ETA: 12s - loss: 15.1737 - accuracy: 0.05 - ETA: 12s - loss: 15.1924 - accuracy: 0.05 - ETA: 12s - loss: 15.1902 - accuracy: 0.05 - ETA: 12s - loss: 15.2011 - accuracy: 0.05 - ETA: 11s - loss: 15.1737 - accuracy: 0.05 - ETA: 11s - loss: 15.1775 - accuracy: 0.05 - ETA: 11s - loss: 15.1634 - accuracy: 0.05 - ETA: 11s - loss: 15.1900 - accuracy: 0.05 - ETA: 10s - loss: 15.1983 - accuracy: 0.05 - ETA: 10s - loss: 15.2009 - accuracy: 0.05 - ETA: 10s - loss: 15.2094 - accuracy: 0.05 - ETA: 10s - loss: 15.2074 - accuracy: 0.05 - ETA: 10s - loss: 15.2055 - accuracy: 0.05 - ETA: 10s - loss: 15.2183 - accuracy: 0.05 - ETA: 10s - loss: 15.2019 - accuracy: 0.05 - ETA: 9s - loss: 15.2180 - accuracy: 0.0558 - ETA: 9s - loss: 15.2069 - accuracy: 0.056 - ETA: 9s - loss: 15.2097 - accuracy: 0.056 - ETA: 9s - loss: 15.2123 - accuracy: 0.056 - ETA: 9s - loss: 15.2106 - accuracy: 0.056 - ETA: 9s - loss: 15.2046 - accuracy: 0.056 - ETA: 9s - loss: 15.2115 - accuracy: 0.056 - ETA: 9s - loss: 15.2090 - accuracy: 0.056 - ETA: 8s - loss: 15.2115 - accuracy: 0.056 - ETA: 8s - loss: 15.2138 - accuracy: 0.056 - ETA: 8s - loss: 15.2083 - accuracy: 0.056 - ETA: 8s - loss: 15.2184 - accuracy: 0.055 - ETA: 8s - loss: 15.2243 - accuracy: 0.055 - ETA: 8s - loss: 15.2264 - accuracy: 0.055 - ETA: 8s - loss: 15.2284 - accuracy: 0.055 - ETA: 8s - loss: 15.2412 - accuracy: 0.054 - ETA: 8s - loss: 15.2393 - accuracy: 0.054 - ETA: 8s - loss: 15.2375 - accuracy: 0.054 - ETA: 8s - loss: 15.2427 - accuracy: 0.054 - ETA: 8s - loss: 15.2478 - accuracy: 0.054 - ETA: 8s - loss: 15.2493 - accuracy: 0.053 - ETA: 7s - loss: 15.2575 - accuracy: 0.053 - ETA: 7s - loss: 15.2457 - accuracy: 0.054 - ETA: 7s - loss: 15.2407 - accuracy: 0.054 - ETA: 7s - loss: 15.2487 - accuracy: 0.053 - ETA: 7s - loss: 15.2596 - accuracy: 0.053 - ETA: 7s - loss: 15.2609 - accuracy: 0.053 - ETA: 7s - loss: 15.2652 - accuracy: 0.052 - ETA: 7s - loss: 15.2664 - accuracy: 0.052 - ETA: 7s - loss: 15.2706 - accuracy: 0.052 - ETA: 7s - loss: 15.2696 - accuracy: 0.052 - ETA: 7s - loss: 15.2766 - accuracy: 0.052 - ETA: 7s - loss: 15.2786 - accuracy: 0.052 - ETA: 7s - loss: 15.2689 - accuracy: 0.052 - ETA: 7s - loss: 15.2621 - accuracy: 0.053 - ETA: 7s - loss: 15.2612 - accuracy: 0.053 - ETA: 7s - loss: 15.2546 - accuracy: 0.053 - ETA: 7s - loss: 15.2510 - accuracy: 0.053 - ETA: 7s - loss: 15.2530 - accuracy: 0.053 - ETA: 7s - loss: 15.2550 - accuracy: 0.053 - ETA: 7s - loss: 15.2542 - accuracy: 0.053 - ETA: 7s - loss: 15.2562 - accuracy: 0.053 - ETA: 7s - loss: 15.2582 - accuracy: 0.053 - ETA: 7s - loss: 15.2574 - accuracy: 0.053 - ETA: 7s - loss: 15.2593 - accuracy: 0.053 - ETA: 7s - loss: 15.2585 - accuracy: 0.053 - ETA: 7s - loss: 15.2577 - accuracy: 0.053 - ETA: 7s - loss: 15.2570 - accuracy: 0.053 - ETA: 7s - loss: 15.2562 - accuracy: 0.053 - ETA: 7s - loss: 15.2573 - accuracy: 0.053 - ETA: 7s - loss: 15.2610 - accuracy: 0.053 - ETA: 7s - loss: 15.2647 - accuracy: 0.052 - ETA: 7s - loss: 15.2631 - accuracy: 0.053 - ETA: 6s - loss: 15.2667 - accuracy: 0.052 - ETA: 6s - loss: 15.2651 - accuracy: 0.052 - ETA: 6s - loss: 15.2611 - accuracy: 0.053 - ETA: 6s - loss: 15.2596 - accuracy: 0.053 - ETA: 6s - loss: 15.2581 - accuracy: 0.053 - ETA: 6s - loss: 15.2567 - accuracy: 0.053 - ETA: 6s - loss: 15.2546 - accuracy: 0.053 - ETA: 6s - loss: 15.2580 - accuracy: 0.053 - ETA: 6s - loss: 15.2614 - accuracy: 0.053 - ETA: 6s - loss: 15.2623 - accuracy: 0.053 - ETA: 6s - loss: 15.2648 - accuracy: 0.052 - ETA: 5s - loss: 15.2657 - accuracy: 0.052 - ETA: 5s - loss: 15.2704 - accuracy: 0.052 - ETA: 5s - loss: 15.2734 - accuracy: 0.052 - ETA: 5s - loss: 15.2801 - accuracy: 0.052 - ETA: 5s - loss: 15.2743 - accuracy: 0.052 - ETA: 5s - loss: 15.2772 - accuracy: 0.052 - ETA: 5s - loss: 15.2736 - accuracy: 0.052 - ETA: 5s - loss: 15.2722 - accuracy: 0.052 - ETA: 5s - loss: 15.2709 - accuracy: 0.052 - ETA: 5s - loss: 15.2731 - accuracy: 0.052 - ETA: 5s - loss: 15.2772 - accuracy: 0.052 - ETA: 4s - loss: 15.2800 - accuracy: 0.052 - ETA: 4s - loss: 15.2847 - accuracy: 0.051 - ETA: 4s - loss: 15.2793 - accuracy: 0.052 - ETA: 4s - loss: 15.2760 - accuracy: 0.052 - ETA: 4s - loss: 15.2687 - accuracy: 0.052 - ETA: 4s - loss: 15.2714 - accuracy: 0.052 - ETA: 4s - loss: 15.2682 - accuracy: 0.052 - ETA: 4s - loss: 15.2651 - accuracy: 0.052 - ETA: 4s - loss: 15.2620 - accuracy: 0.053 - ETA: 4s - loss: 15.2609 - accuracy: 0.053 - ETA: 4s - loss: 15.2616 - accuracy: 0.053 - ETA: 4s - loss: 15.2605 - accuracy: 0.053 - ETA: 4s - loss: 15.2576 - accuracy: 0.053 - ETA: 4s - loss: 15.2546 - accuracy: 0.053 - ETA: 3s - loss: 15.2554 - accuracy: 0.053 - ETA: 3s - loss: 15.2544 - accuracy: 0.053 - ETA: 3s - loss: 15.2497 - accuracy: 0.053 - ETA: 3s - loss: 15.2487 - accuracy: 0.053 - ETA: 3s - loss: 15.2442 - accuracy: 0.054 - ETA: 3s - loss: 15.2450 - accuracy: 0.054 - ETA: 3s - loss: 15.2459 - accuracy: 0.054 - ETA: 3s - loss: 15.2432 - accuracy: 0.054 - ETA: 3s - loss: 15.2462 - accuracy: 0.054 - ETA: 3s - loss: 15.2504 - accuracy: 0.053 - ETA: 3s - loss: 15.2444 - accuracy: 0.054 - ETA: 3s - loss: 15.2451 - accuracy: 0.054 - ETA: 3s - loss: 15.2392 - accuracy: 0.054 - ETA: 3s - loss: 15.2350 - accuracy: 0.054 - ETA: 3s - loss: 15.2391 - accuracy: 0.054 - ETA: 3s - loss: 15.2383 - accuracy: 0.054 - ETA: 3s - loss: 15.2408 - accuracy: 0.054 - ETA: 2s - loss: 15.2383 - accuracy: 0.054 - ETA: 2s - loss: 15.2391 - accuracy: 0.054 - ETA: 2s - loss: 15.2399 - accuracy: 0.054 - ETA: 2s - loss: 15.2374 - accuracy: 0.054 - ETA: 2s - loss: 15.2382 - accuracy: 0.054 - ETA: 2s - loss: 15.2422 - accuracy: 0.054 - ETA: 2s - loss: 15.2382 - accuracy: 0.054 - ETA: 2s - loss: 15.2374 - accuracy: 0.054 - ETA: 2s - loss: 15.2413 - accuracy: 0.054 - ETA: 2s - loss: 15.2420 - accuracy: 0.054 - ETA: 2s - loss: 15.2428 - accuracy: 0.054 - ETA: 2s - loss: 15.2420 - accuracy: 0.054 - ETA: 2s - loss: 15.2442 - accuracy: 0.054 - ETA: 2s - loss: 15.2449 - accuracy: 0.054 - ETA: 1s - loss: 15.2471 - accuracy: 0.054 - ETA: 1s - loss: 15.2508 - accuracy: 0.053 - ETA: 1s - loss: 15.2451 - accuracy: 0.054 - ETA: 1s - loss: 15.2414 - accuracy: 0.054 - ETA: 1s - loss: 15.2374 - accuracy: 0.054 - ETA: 1s - loss: 15.2348 - accuracy: 0.054 - ETA: 1s - loss: 15.2338 - accuracy: 0.054 - ETA: 1s - loss: 15.2331 - accuracy: 0.054 - ETA: 1s - loss: 15.2352 - accuracy: 0.054 - ETA: 1s - loss: 15.2331 - accuracy: 0.054912630/12630 [==============================] - ETA: 1s - loss: 15.2279 - accuracy: 0.055 - ETA: 1s - loss: 15.2287 - accuracy: 0.055 - ETA: 0s - loss: 15.2280 - accuracy: 0.055 - ETA: 0s - loss: 15.2312 - accuracy: 0.055 - ETA: 0s - loss: 15.2292 - accuracy: 0.055 - ETA: 0s - loss: 15.2299 - accuracy: 0.055 - ETA: 0s - loss: 15.2333 - accuracy: 0.054 - ETA: 0s - loss: 15.2326 - accuracy: 0.054 - ETA: 0s - loss: 15.2306 - accuracy: 0.055 - ETA: 0s - loss: 15.2300 - accuracy: 0.055 - ETA: 0s - loss: 15.2320 - accuracy: 0.055 - ETA: 0s - loss: 15.2327 - accuracy: 0.054 - ETA: 0s - loss: 15.2321 - accuracy: 0.055 - ETA: 0s - loss: 15.2340 - accuracy: 0.054 - ETA: 0s - loss: 15.2308 - accuracy: 0.055 - ETA: 0s - loss: 15.2341 - accuracy: 0.054 - ETA: 0s - loss: 15.2373 - accuracy: 0.054 - 15s 1ms/sample - loss: 15.2375 - accuracy: 0.0546 - val_loss: 15.3506 - val_accuracy: 0.0477\n"
     ]
    },
    {
     "data": {
      "text/html": [
       "<span style=\"color:#4527A0\"><h1 style=\"font-size:18px\">Trial complete</h1></span>"
      ],
      "text/plain": [
       "<IPython.core.display.HTML object>"
      ]
     },
     "metadata": {},
     "output_type": "display_data"
    },
    {
     "data": {
      "text/html": [
       "<span style=\"color:#4527A0\"><h1 style=\"font-size:18px\">Trial summary</h1></span>"
      ],
      "text/plain": [
       "<IPython.core.display.HTML object>"
      ]
     },
     "metadata": {},
     "output_type": "display_data"
    },
    {
     "data": {
      "text/html": [
       "<span style=\"color:cyan\"> |-Trial ID: b88ad07a1fbf3276fd4e333415143d88</span>"
      ],
      "text/plain": [
       "<IPython.core.display.HTML object>"
      ]
     },
     "metadata": {},
     "output_type": "display_data"
    },
    {
     "data": {
      "text/html": [
       "<span style=\"color:cyan\"> |-Score: 0.04767174646258354</span>"
      ],
      "text/plain": [
       "<IPython.core.display.HTML object>"
      ]
     },
     "metadata": {},
     "output_type": "display_data"
    },
    {
     "data": {
      "text/html": [
       "<span style=\"color:cyan\"> |-Best step: 0</span>"
      ],
      "text/plain": [
       "<IPython.core.display.HTML object>"
      ]
     },
     "metadata": {},
     "output_type": "display_data"
    },
    {
     "data": {
      "text/html": [
       "<span style=\"color:#7E57C2\"><h2 style=\"font-size:16px\">Hyperparameters:</h2></span>"
      ],
      "text/plain": [
       "<IPython.core.display.HTML object>"
      ]
     },
     "metadata": {},
     "output_type": "display_data"
    },
    {
     "data": {
      "text/html": [
       "<span style=\"color:cyan\"> |-conv_1_filter: 64</span>"
      ],
      "text/plain": [
       "<IPython.core.display.HTML object>"
      ]
     },
     "metadata": {},
     "output_type": "display_data"
    },
    {
     "data": {
      "text/html": [
       "<span style=\"color:blue\"> |-conv_1_kernel: 5</span>"
      ],
      "text/plain": [
       "<IPython.core.display.HTML object>"
      ]
     },
     "metadata": {},
     "output_type": "display_data"
    },
    {
     "data": {
      "text/html": [
       "<span style=\"color:cyan\"> |-conv_2_filter: 32</span>"
      ],
      "text/plain": [
       "<IPython.core.display.HTML object>"
      ]
     },
     "metadata": {},
     "output_type": "display_data"
    },
    {
     "data": {
      "text/html": [
       "<span style=\"color:blue\"> |-conv_2_kernel: 5</span>"
      ],
      "text/plain": [
       "<IPython.core.display.HTML object>"
      ]
     },
     "metadata": {},
     "output_type": "display_data"
    },
    {
     "data": {
      "text/html": [
       "<span style=\"color:cyan\"> |-conv_3_filter: 112</span>"
      ],
      "text/plain": [
       "<IPython.core.display.HTML object>"
      ]
     },
     "metadata": {},
     "output_type": "display_data"
    },
    {
     "data": {
      "text/html": [
       "<span style=\"color:blue\"> |-conv_4_filter: 224</span>"
      ],
      "text/plain": [
       "<IPython.core.display.HTML object>"
      ]
     },
     "metadata": {},
     "output_type": "display_data"
    },
    {
     "data": {
      "text/html": [
       "<span style=\"color:cyan\"> |-d1: 0.01</span>"
      ],
      "text/plain": [
       "<IPython.core.display.HTML object>"
      ]
     },
     "metadata": {},
     "output_type": "display_data"
    },
    {
     "data": {
      "text/html": [
       "<span style=\"color:blue\"> |-d2: 0.09374922834870118</span>"
      ],
      "text/plain": [
       "<IPython.core.display.HTML object>"
      ]
     },
     "metadata": {},
     "output_type": "display_data"
    },
    {
     "data": {
      "text/html": [
       "<span style=\"color:cyan\"> |-d3: 0.05071619793422207</span>"
      ],
      "text/plain": [
       "<IPython.core.display.HTML object>"
      ]
     },
     "metadata": {},
     "output_type": "display_data"
    },
    {
     "data": {
      "text/html": [
       "<span style=\"color:blue\"> |-d4: 0.09207212256183775</span>"
      ],
      "text/plain": [
       "<IPython.core.display.HTML object>"
      ]
     },
     "metadata": {},
     "output_type": "display_data"
    },
    {
     "data": {
      "text/html": [
       "<span style=\"color:cyan\"> |-dense_1_units: 112</span>"
      ],
      "text/plain": [
       "<IPython.core.display.HTML object>"
      ]
     },
     "metadata": {},
     "output_type": "display_data"
    },
    {
     "data": {
      "text/html": [
       "<span style=\"color:blue\"> |-dense_4_units: 208</span>"
      ],
      "text/plain": [
       "<IPython.core.display.HTML object>"
      ]
     },
     "metadata": {},
     "output_type": "display_data"
    },
    {
     "data": {
      "text/html": [
       "<span style=\"color:cyan\"> |-dense_5_units: 256</span>"
      ],
      "text/plain": [
       "<IPython.core.display.HTML object>"
      ]
     },
     "metadata": {},
     "output_type": "display_data"
    },
    {
     "data": {
      "text/html": [
       "<span style=\"color:blue\"> |-learning_rate: 0.1</span>"
      ],
      "text/plain": [
       "<IPython.core.display.HTML object>"
      ]
     },
     "metadata": {},
     "output_type": "display_data"
    },
    {
     "name": "stdout",
     "output_type": "stream",
     "text": [
      "Train on 12630 samples, validate on 4410 samples\n",
      "Epoch 1/4\n",
      "10816/12630 [========================>.....] - ETA: 10:07 - loss: 3.7617 - accuracy: 0.016 - ETA: 3:30 - loss: 11.1598 - accuracy: 0.057 - ETA: 2:10 - loss: 12.8409 - accuracy: 0.053 - ETA: 1:36 - loss: 13.5614 - accuracy: 0.051 - ETA: 1:17 - loss: 13.9616 - accuracy: 0.050 - ETA: 1:05 - loss: 14.0790 - accuracy: 0.058 - ETA: 56s - loss: 14.1215 - accuracy: 0.066 - ETA: 50s - loss: 14.2870 - accuracy: 0.06 - ETA: 45s - loss: 14.3542 - accuracy: 0.06 - ETA: 42s - loss: 14.4339 - accuracy: 0.06 - ETA: 39s - loss: 14.4983 - accuracy: 0.06 - ETA: 36s - loss: 14.5297 - accuracy: 0.06 - ETA: 34s - loss: 14.4754 - accuracy: 0.07 - ETA: 32s - loss: 14.4852 - accuracy: 0.07 - ETA: 30s - loss: 14.5283 - accuracy: 0.07 - ETA: 29s - loss: 14.5496 - accuracy: 0.07 - ETA: 28s - loss: 14.6447 - accuracy: 0.06 - ETA: 27s - loss: 14.6425 - accuracy: 0.07 - ETA: 26s - loss: 14.7087 - accuracy: 0.06 - ETA: 25s - loss: 14.7164 - accuracy: 0.06 - ETA: 24s - loss: 14.7479 - accuracy: 0.06 - ETA: 23s - loss: 14.7999 - accuracy: 0.06 - ETA: 23s - loss: 14.8249 - accuracy: 0.06 - ETA: 22s - loss: 14.8371 - accuracy: 0.06 - ETA: 21s - loss: 14.8483 - accuracy: 0.06 - ETA: 21s - loss: 14.8783 - accuracy: 0.06 - ETA: 20s - loss: 14.9156 - accuracy: 0.06 - ETA: 20s - loss: 14.9044 - accuracy: 0.06 - ETA: 19s - loss: 14.8939 - accuracy: 0.06 - ETA: 19s - loss: 14.9013 - accuracy: 0.06 - ETA: 19s - loss: 14.9164 - accuracy: 0.06 - ETA: 18s - loss: 14.9226 - accuracy: 0.06 - ETA: 18s - loss: 14.9284 - accuracy: 0.06 - ETA: 17s - loss: 14.9338 - accuracy: 0.06 - ETA: 17s - loss: 14.9535 - accuracy: 0.06 - ETA: 17s - loss: 14.9722 - accuracy: 0.06 - ETA: 16s - loss: 14.9829 - accuracy: 0.06 - ETA: 16s - loss: 15.0064 - accuracy: 0.05 - ETA: 16s - loss: 15.0091 - accuracy: 0.05 - ETA: 16s - loss: 15.0117 - accuracy: 0.05 - ETA: 15s - loss: 15.0328 - accuracy: 0.05 - ETA: 15s - loss: 15.0165 - accuracy: 0.05 - ETA: 15s - loss: 15.0246 - accuracy: 0.05 - ETA: 15s - loss: 15.0440 - accuracy: 0.05 - ETA: 14s - loss: 15.0511 - accuracy: 0.05 - ETA: 14s - loss: 15.0303 - accuracy: 0.05 - ETA: 14s - loss: 15.0374 - accuracy: 0.05 - ETA: 14s - loss: 15.0390 - accuracy: 0.05 - ETA: 14s - loss: 15.0456 - accuracy: 0.05 - ETA: 13s - loss: 15.0368 - accuracy: 0.05 - ETA: 13s - loss: 15.0382 - accuracy: 0.05 - ETA: 13s - loss: 15.0494 - accuracy: 0.05 - ETA: 13s - loss: 15.0506 - accuracy: 0.05 - ETA: 13s - loss: 15.0470 - accuracy: 0.05 - ETA: 13s - loss: 15.0574 - accuracy: 0.05 - ETA: 12s - loss: 15.0629 - accuracy: 0.05 - ETA: 12s - loss: 15.0638 - accuracy: 0.05 - ETA: 12s - loss: 15.0690 - accuracy: 0.05 - ETA: 12s - loss: 15.0611 - accuracy: 0.05 - ETA: 12s - loss: 15.0534 - accuracy: 0.05 - ETA: 12s - loss: 15.0627 - accuracy: 0.05 - ETA: 11s - loss: 15.0717 - accuracy: 0.05 - ETA: 11s - loss: 15.0683 - accuracy: 0.05 - ETA: 11s - loss: 15.0769 - accuracy: 0.05 - ETA: 11s - loss: 15.0657 - accuracy: 0.05 - ETA: 11s - loss: 15.0702 - accuracy: 0.05 - ETA: 11s - loss: 15.0670 - accuracy: 0.05 - ETA: 11s - loss: 15.0640 - accuracy: 0.05 - ETA: 11s - loss: 15.0646 - accuracy: 0.05 - ETA: 10s - loss: 15.0653 - accuracy: 0.05 - ETA: 10s - loss: 15.0660 - accuracy: 0.06 - ETA: 10s - loss: 15.0807 - accuracy: 0.05 - ETA: 10s - loss: 15.0846 - accuracy: 0.05 - ETA: 10s - loss: 15.0781 - accuracy: 0.05 - ETA: 10s - loss: 15.0751 - accuracy: 0.05 - ETA: 10s - loss: 15.0756 - accuracy: 0.05 - ETA: 10s - loss: 15.0793 - accuracy: 0.05 - ETA: 9s - loss: 15.0830 - accuracy: 0.0594 - ETA: 9s - loss: 15.0866 - accuracy: 0.059 - ETA: 9s - loss: 15.0869 - accuracy: 0.059 - ETA: 9s - loss: 15.0934 - accuracy: 0.058 - ETA: 9s - loss: 15.0967 - accuracy: 0.058 - ETA: 9s - loss: 15.1060 - accuracy: 0.058 - ETA: 9s - loss: 15.1061 - accuracy: 0.058 - ETA: 9s - loss: 15.0972 - accuracy: 0.058 - ETA: 9s - loss: 15.0885 - accuracy: 0.059 - ETA: 8s - loss: 15.0946 - accuracy: 0.059 - ETA: 8s - loss: 15.0948 - accuracy: 0.059 - ETA: 8s - loss: 15.0978 - accuracy: 0.059 - ETA: 8s - loss: 15.1008 - accuracy: 0.058 - ETA: 8s - loss: 15.1009 - accuracy: 0.059 - ETA: 8s - loss: 15.1065 - accuracy: 0.058 - ETA: 8s - loss: 15.1147 - accuracy: 0.058 - ETA: 8s - loss: 15.1228 - accuracy: 0.057 - ETA: 8s - loss: 15.1200 - accuracy: 0.058 - ETA: 8s - loss: 15.1251 - accuracy: 0.057 - ETA: 7s - loss: 15.1276 - accuracy: 0.057 - ETA: 7s - loss: 15.1352 - accuracy: 0.057 - ETA: 7s - loss: 15.1324 - accuracy: 0.057 - ETA: 7s - loss: 15.1347 - accuracy: 0.057 - ETA: 7s - loss: 15.1370 - accuracy: 0.057 - ETA: 7s - loss: 15.1367 - accuracy: 0.057 - ETA: 7s - loss: 15.1414 - accuracy: 0.056 - ETA: 7s - loss: 15.1411 - accuracy: 0.057 - ETA: 7s - loss: 15.1432 - accuracy: 0.056 - ETA: 7s - loss: 15.1453 - accuracy: 0.056 - ETA: 7s - loss: 15.1378 - accuracy: 0.057 - ETA: 6s - loss: 15.1446 - accuracy: 0.056 - ETA: 6s - loss: 15.1420 - accuracy: 0.057 - ETA: 6s - loss: 15.1417 - accuracy: 0.057 - ETA: 6s - loss: 15.1391 - accuracy: 0.057 - ETA: 6s - loss: 15.1411 - accuracy: 0.057 - ETA: 6s - loss: 15.1453 - accuracy: 0.057 - ETA: 6s - loss: 15.1450 - accuracy: 0.057 - ETA: 6s - loss: 15.1447 - accuracy: 0.057 - ETA: 6s - loss: 15.1444 - accuracy: 0.057 - ETA: 6s - loss: 15.1506 - accuracy: 0.056 - ETA: 6s - loss: 15.1482 - accuracy: 0.057 - ETA: 5s - loss: 15.1500 - accuracy: 0.056 - ETA: 5s - loss: 15.1496 - accuracy: 0.056 - ETA: 5s - loss: 15.1472 - accuracy: 0.057 - ETA: 5s - loss: 15.1490 - accuracy: 0.057 - ETA: 5s - loss: 15.1466 - accuracy: 0.057 - ETA: 5s - loss: 15.1424 - accuracy: 0.057 - ETA: 5s - loss: 15.1423 - accuracy: 0.057 - ETA: 5s - loss: 15.1421 - accuracy: 0.057 - ETA: 5s - loss: 15.1380 - accuracy: 0.057 - ETA: 5s - loss: 15.1358 - accuracy: 0.057 - ETA: 5s - loss: 15.1277 - accuracy: 0.058 - ETA: 5s - loss: 15.1256 - accuracy: 0.058 - ETA: 5s - loss: 15.1276 - accuracy: 0.058 - ETA: 5s - loss: 15.1275 - accuracy: 0.058 - ETA: 5s - loss: 15.1314 - accuracy: 0.058 - ETA: 5s - loss: 15.1333 - accuracy: 0.058 - ETA: 5s - loss: 15.1312 - accuracy: 0.058 - ETA: 5s - loss: 15.1351 - accuracy: 0.058 - ETA: 5s - loss: 15.1350 - accuracy: 0.058 - ETA: 5s - loss: 15.1348 - accuracy: 0.058 - ETA: 5s - loss: 15.1346 - accuracy: 0.058 - ETA: 5s - loss: 15.1363 - accuracy: 0.058 - ETA: 4s - loss: 15.1361 - accuracy: 0.058 - ETA: 4s - loss: 15.1378 - accuracy: 0.058 - ETA: 4s - loss: 15.1395 - accuracy: 0.057 - ETA: 4s - loss: 15.1448 - accuracy: 0.057 - ETA: 4s - loss: 15.1482 - accuracy: 0.057 - ETA: 4s - loss: 15.1516 - accuracy: 0.057 - ETA: 4s - loss: 15.1549 - accuracy: 0.057 - ETA: 4s - loss: 15.1582 - accuracy: 0.056 - ETA: 4s - loss: 15.1649 - accuracy: 0.056 - ETA: 4s - loss: 15.1663 - accuracy: 0.056 - ETA: 4s - loss: 15.1659 - accuracy: 0.056 - ETA: 4s - loss: 15.1656 - accuracy: 0.056 - ETA: 3s - loss: 15.1652 - accuracy: 0.056 - ETA: 3s - loss: 15.1631 - accuracy: 0.056 - ETA: 3s - loss: 15.1663 - accuracy: 0.056 - ETA: 3s - loss: 15.1696 - accuracy: 0.056 - ETA: 3s - loss: 15.1660 - accuracy: 0.056 - ETA: 3s - loss: 15.1692 - accuracy: 0.056 - ETA: 3s - loss: 15.1724 - accuracy: 0.056 - ETA: 3s - loss: 15.1722 - accuracy: 0.056 - ETA: 3s - loss: 15.1736 - accuracy: 0.056 - ETA: 3s - loss: 15.1751 - accuracy: 0.056 - ETA: 3s - loss: 15.1732 - accuracy: 0.056 - ETA: 3s - loss: 15.1730 - accuracy: 0.056 - ETA: 3s - loss: 15.1728 - accuracy: 0.056 - ETA: 3s - loss: 15.1742 - accuracy: 0.056 - ETA: 3s - loss: 15.1757 - accuracy: 0.056 - ETA: 3s - loss: 15.1738 - accuracy: 0.056 - ETA: 3s - loss: 15.1753 - accuracy: 0.056 - ETA: 3s - loss: 15.1765 - accuracy: 0.056 - ETA: 3s - loss: 15.1728 - accuracy: 0.056 - ETA: 3s - loss: 15.1756 - accuracy: 0.056 - ETA: 3s - loss: 15.1673 - accuracy: 0.056 - ETA: 3s - loss: 15.1621 - accuracy: 0.057 - ETA: 2s - loss: 15.1634 - accuracy: 0.056 - ETA: 2s - loss: 15.1631 - accuracy: 0.056 - ETA: 2s - loss: 15.1643 - accuracy: 0.056 - ETA: 2s - loss: 15.1640 - accuracy: 0.056 - ETA: 2s - loss: 15.1621 - accuracy: 0.057 - ETA: 2s - loss: 15.1664 - accuracy: 0.056 - ETA: 2s - loss: 15.1660 - accuracy: 0.056 - ETA: 2s - loss: 15.1687 - accuracy: 0.056 - ETA: 2s - loss: 15.1669 - accuracy: 0.056 - ETA: 2s - loss: 15.1666 - accuracy: 0.0568\b\b\b\b\b\b\b\b\b\b\b\b\b\b\b\b\b\b\b\b\b\b\b\b\b\b\b\b\b\b\b\b\b\b\b\b\b\b\b\b\b\b\b\b\b\b\b\b\b\b\b\b\b\b\b\b\b\b\b\b\b\b\b\b\b\b\b\b\b\b\b\b\b\b\b\b\b\b\b\b\b\b\b\b\b\b\b\b\b12630/12630 [==============================] - ETA: 2s - loss: 15.1692 - accuracy: 0.056 - ETA: 2s - loss: 15.1705 - accuracy: 0.056 - ETA: 2s - loss: 15.1718 - accuracy: 0.056 - ETA: 2s - loss: 15.1701 - accuracy: 0.056 - ETA: 1s - loss: 15.1700 - accuracy: 0.056 - ETA: 1s - loss: 15.1683 - accuracy: 0.056 - ETA: 1s - loss: 15.1696 - accuracy: 0.056 - ETA: 1s - loss: 15.1680 - accuracy: 0.056 - ETA: 1s - loss: 15.1678 - accuracy: 0.056 - ETA: 1s - loss: 15.1677 - accuracy: 0.056 - ETA: 1s - loss: 15.1690 - accuracy: 0.056 - ETA: 1s - loss: 15.1688 - accuracy: 0.056 - ETA: 1s - loss: 15.1686 - accuracy: 0.056 - ETA: 1s - loss: 15.1699 - accuracy: 0.056 - ETA: 1s - loss: 15.1697 - accuracy: 0.056 - ETA: 1s - loss: 15.1696 - accuracy: 0.056 - ETA: 1s - loss: 15.1708 - accuracy: 0.056 - ETA: 1s - loss: 15.1733 - accuracy: 0.056 - ETA: 1s - loss: 15.1771 - accuracy: 0.056 - ETA: 1s - loss: 15.1740 - accuracy: 0.056 - ETA: 1s - loss: 15.1723 - accuracy: 0.056 - ETA: 1s - loss: 15.1719 - accuracy: 0.056 - ETA: 1s - loss: 15.1675 - accuracy: 0.056 - ETA: 0s - loss: 15.1699 - accuracy: 0.056 - ETA: 0s - loss: 15.1709 - accuracy: 0.056 - ETA: 0s - loss: 15.1625 - accuracy: 0.057 - ETA: 0s - loss: 15.1636 - accuracy: 0.057 - ETA: 0s - loss: 15.1606 - accuracy: 0.057 - ETA: 0s - loss: 15.1604 - accuracy: 0.057 - ETA: 0s - loss: 15.1641 - accuracy: 0.057 - ETA: 0s - loss: 15.1625 - accuracy: 0.057 - ETA: 0s - loss: 15.1661 - accuracy: 0.057 - ETA: 0s - loss: 15.1671 - accuracy: 0.057 - ETA: 0s - loss: 15.1669 - accuracy: 0.057 - ETA: 0s - loss: 15.1679 - accuracy: 0.057 - ETA: 0s - loss: 15.1701 - accuracy: 0.056 - 19s 2ms/sample - loss: 15.1718 - accuracy: 0.0568 - val_loss: 15.2409 - val_accuracy: 0.0545\n",
      "Epoch 2/4\n",
      " 9056/12630 [====================>.........] - ETA: 12s - loss: 15.6144 - accuracy: 0.03 - ETA: 12s - loss: 14.9428 - accuracy: 0.07 - ETA: 12s - loss: 15.2115 - accuracy: 0.05 - ETA: 12s - loss: 15.4705 - accuracy: 0.04 - ETA: 12s - loss: 15.2227 - accuracy: 0.05 - ETA: 11s - loss: 15.2023 - accuracy: 0.05 - ETA: 11s - loss: 15.3432 - accuracy: 0.04 - ETA: 11s - loss: 15.4129 - accuracy: 0.04 - ETA: 11s - loss: 15.4366 - accuracy: 0.04 - ETA: 11s - loss: 15.4554 - accuracy: 0.04 - ETA: 11s - loss: 15.3985 - accuracy: 0.04 - ETA: 11s - loss: 15.3297 - accuracy: 0.04 - ETA: 11s - loss: 15.3122 - accuracy: 0.05 - ETA: 11s - loss: 15.2786 - accuracy: 0.05 - ETA: 11s - loss: 15.3191 - accuracy: 0.04 - ETA: 11s - loss: 15.2894 - accuracy: 0.05 - ETA: 11s - loss: 15.2481 - accuracy: 0.05 - ETA: 11s - loss: 15.2115 - accuracy: 0.05 - ETA: 11s - loss: 15.1924 - accuracy: 0.05 - ETA: 11s - loss: 15.1624 - accuracy: 0.05 - ETA: 11s - loss: 15.1599 - accuracy: 0.05 - ETA: 11s - loss: 15.1576 - accuracy: 0.05 - ETA: 11s - loss: 15.1219 - accuracy: 0.06 - ETA: 10s - loss: 15.1214 - accuracy: 0.06 - ETA: 10s - loss: 15.1518 - accuracy: 0.05 - ETA: 10s - loss: 15.1601 - accuracy: 0.05 - ETA: 10s - loss: 15.1487 - accuracy: 0.06 - ETA: 10s - loss: 15.1748 - accuracy: 0.05 - ETA: 10s - loss: 15.1726 - accuracy: 0.05 - ETA: 10s - loss: 15.1449 - accuracy: 0.06 - ETA: 10s - loss: 15.1603 - accuracy: 0.05 - ETA: 10s - loss: 15.1667 - accuracy: 0.05 - ETA: 10s - loss: 15.1417 - accuracy: 0.06 - ETA: 10s - loss: 15.1558 - accuracy: 0.05 - ETA: 10s - loss: 15.1618 - accuracy: 0.05 - ETA: 10s - loss: 15.1533 - accuracy: 0.05 - ETA: 10s - loss: 15.1527 - accuracy: 0.05 - ETA: 10s - loss: 15.1659 - accuracy: 0.05 - ETA: 10s - loss: 15.1788 - accuracy: 0.05 - ETA: 10s - loss: 15.1779 - accuracy: 0.05 - ETA: 10s - loss: 15.1903 - accuracy: 0.05 - ETA: 10s - loss: 15.1827 - accuracy: 0.05 - ETA: 10s - loss: 15.1624 - accuracy: 0.05 - ETA: 10s - loss: 15.1681 - accuracy: 0.05 - ETA: 10s - loss: 15.1480 - accuracy: 0.06 - ETA: 10s - loss: 15.1471 - accuracy: 0.06 - ETA: 10s - loss: 15.1581 - accuracy: 0.05 - ETA: 10s - loss: 15.1628 - accuracy: 0.05 - ETA: 10s - loss: 15.1680 - accuracy: 0.05 - ETA: 10s - loss: 15.1499 - accuracy: 0.06 - ETA: 10s - loss: 15.1439 - accuracy: 0.06 - ETA: 10s - loss: 15.1545 - accuracy: 0.05 - ETA: 10s - loss: 15.1697 - accuracy: 0.05 - ETA: 10s - loss: 15.1842 - accuracy: 0.05 - ETA: 10s - loss: 15.1938 - accuracy: 0.05 - ETA: 10s - loss: 15.1930 - accuracy: 0.05 - ETA: 10s - loss: 15.1819 - accuracy: 0.05 - ETA: 10s - loss: 15.1913 - accuracy: 0.05 - ETA: 10s - loss: 15.1897 - accuracy: 0.05 - ETA: 10s - loss: 15.1737 - accuracy: 0.05 - ETA: 10s - loss: 15.1677 - accuracy: 0.05 - ETA: 10s - loss: 15.1766 - accuracy: 0.05 - ETA: 10s - loss: 15.1662 - accuracy: 0.05 - ETA: 10s - loss: 15.1652 - accuracy: 0.05 - ETA: 10s - loss: 15.1598 - accuracy: 0.05 - ETA: 10s - loss: 15.1545 - accuracy: 0.05 - ETA: 10s - loss: 15.1585 - accuracy: 0.05 - ETA: 10s - loss: 15.1581 - accuracy: 0.05 - ETA: 10s - loss: 15.1619 - accuracy: 0.05 - ETA: 10s - loss: 15.1615 - accuracy: 0.05 - ETA: 10s - loss: 15.1653 - accuracy: 0.05 - ETA: 10s - loss: 15.1690 - accuracy: 0.05 - ETA: 10s - loss: 15.1640 - accuracy: 0.05 - ETA: 10s - loss: 15.1470 - accuracy: 0.06 - ETA: 10s - loss: 15.1504 - accuracy: 0.06 - ETA: 10s - loss: 15.1341 - accuracy: 0.06 - ETA: 10s - loss: 15.1376 - accuracy: 0.06 - ETA: 10s - loss: 15.1334 - accuracy: 0.06 - ETA: 10s - loss: 15.1406 - accuracy: 0.06 - ETA: 10s - loss: 15.1401 - accuracy: 0.06 - ETA: 9s - loss: 15.1470 - accuracy: 0.0603 - ETA: 9s - loss: 15.1429 - accuracy: 0.060 - ETA: 9s - loss: 15.1424 - accuracy: 0.060 - ETA: 9s - loss: 15.1420 - accuracy: 0.060 - ETA: 9s - loss: 15.1484 - accuracy: 0.060 - ETA: 9s - loss: 15.1479 - accuracy: 0.060 - ETA: 9s - loss: 15.1441 - accuracy: 0.060 - ETA: 9s - loss: 15.1502 - accuracy: 0.060 - ETA: 9s - loss: 15.1497 - accuracy: 0.060 - ETA: 9s - loss: 15.1460 - accuracy: 0.060 - ETA: 8s - loss: 15.1456 - accuracy: 0.060 - ETA: 8s - loss: 15.1514 - accuracy: 0.060 - ETA: 8s - loss: 15.1416 - accuracy: 0.060 - ETA: 8s - loss: 15.1443 - accuracy: 0.060 - ETA: 8s - loss: 15.1379 - accuracy: 0.060 - ETA: 8s - loss: 15.1375 - accuracy: 0.060 - ETA: 8s - loss: 15.1431 - accuracy: 0.060 - ETA: 8s - loss: 15.1486 - accuracy: 0.060 - ETA: 8s - loss: 15.1510 - accuracy: 0.060 - ETA: 8s - loss: 15.1506 - accuracy: 0.060 - ETA: 8s - loss: 15.1445 - accuracy: 0.060 - ETA: 7s - loss: 15.1497 - accuracy: 0.060 - ETA: 7s - loss: 15.1548 - accuracy: 0.059 - ETA: 7s - loss: 15.1570 - accuracy: 0.059 - ETA: 7s - loss: 15.1565 - accuracy: 0.059 - ETA: 7s - loss: 15.1614 - accuracy: 0.059 - ETA: 7s - loss: 15.1635 - accuracy: 0.059 - ETA: 7s - loss: 15.1525 - accuracy: 0.059 - ETA: 7s - loss: 15.1598 - accuracy: 0.059 - ETA: 7s - loss: 15.1567 - accuracy: 0.059 - ETA: 7s - loss: 15.1537 - accuracy: 0.059 - ETA: 7s - loss: 15.1558 - accuracy: 0.059 - ETA: 7s - loss: 15.1579 - accuracy: 0.059 - ETA: 7s - loss: 15.1552 - accuracy: 0.059 - ETA: 7s - loss: 15.1574 - accuracy: 0.059 - ETA: 7s - loss: 15.1621 - accuracy: 0.059 - ETA: 7s - loss: 15.1643 - accuracy: 0.059 - ETA: 7s - loss: 15.1640 - accuracy: 0.059 - ETA: 7s - loss: 15.1686 - accuracy: 0.058 - ETA: 7s - loss: 15.1611 - accuracy: 0.059 - ETA: 7s - loss: 15.1632 - accuracy: 0.059 - ETA: 7s - loss: 15.1606 - accuracy: 0.059 - ETA: 7s - loss: 15.1627 - accuracy: 0.059 - ETA: 7s - loss: 15.1672 - accuracy: 0.059 - ETA: 7s - loss: 15.1646 - accuracy: 0.059 - ETA: 6s - loss: 15.1667 - accuracy: 0.059 - ETA: 6s - loss: 15.1641 - accuracy: 0.059 - ETA: 6s - loss: 15.1662 - accuracy: 0.059 - ETA: 6s - loss: 15.1636 - accuracy: 0.059 - ETA: 6s - loss: 15.1657 - accuracy: 0.059 - ETA: 6s - loss: 15.1631 - accuracy: 0.059 - ETA: 6s - loss: 15.1629 - accuracy: 0.059 - ETA: 6s - loss: 15.1649 - accuracy: 0.059 - ETA: 6s - loss: 15.1692 - accuracy: 0.058 - ETA: 6s - loss: 15.1712 - accuracy: 0.058 - ETA: 6s - loss: 15.1709 - accuracy: 0.058 - ETA: 6s - loss: 15.1662 - accuracy: 0.059 - ETA: 6s - loss: 15.1704 - accuracy: 0.058 - ETA: 6s - loss: 15.1701 - accuracy: 0.058 - ETA: 6s - loss: 15.1655 - accuracy: 0.059 - ETA: 6s - loss: 15.1674 - accuracy: 0.059 - ETA: 6s - loss: 15.1650 - accuracy: 0.059 - ETA: 6s - loss: 15.1648 - accuracy: 0.059 - ETA: 6s - loss: 15.1667 - accuracy: 0.059 - ETA: 6s - loss: 15.1664 - accuracy: 0.059 - ETA: 6s - loss: 15.1705 - accuracy: 0.058 - ETA: 6s - loss: 15.1702 - accuracy: 0.058 - ETA: 6s - loss: 15.1636 - accuracy: 0.059 - ETA: 6s - loss: 15.1676 - accuracy: 0.059 - ETA: 6s - loss: 15.1695 - accuracy: 0.058 - ETA: 6s - loss: 15.1713 - accuracy: 0.058 - ETA: 6s - loss: 15.1732 - accuracy: 0.058 - ETA: 6s - loss: 15.1729 - accuracy: 0.058 - ETA: 6s - loss: 15.1706 - accuracy: 0.058 - ETA: 6s - loss: 15.1724 - accuracy: 0.058 - ETA: 6s - loss: 15.1701 - accuracy: 0.058 - ETA: 6s - loss: 15.1699 - accuracy: 0.058 - ETA: 6s - loss: 15.1635 - accuracy: 0.059 - ETA: 6s - loss: 15.1653 - accuracy: 0.059 - ETA: 6s - loss: 15.1651 - accuracy: 0.059 - ETA: 5s - loss: 15.1667 - accuracy: 0.059 - ETA: 5s - loss: 15.1645 - accuracy: 0.059 - ETA: 5s - loss: 15.1583 - accuracy: 0.059 - ETA: 5s - loss: 15.1542 - accuracy: 0.059 - ETA: 5s - loss: 15.1540 - accuracy: 0.059 - ETA: 5s - loss: 15.1558 - accuracy: 0.059 - ETA: 5s - loss: 15.1537 - accuracy: 0.059 - ETA: 5s - loss: 15.1535 - accuracy: 0.059 - ETA: 5s - loss: 15.1533 - accuracy: 0.059 - ETA: 5s - loss: 15.1511 - accuracy: 0.060 - ETA: 5s - loss: 15.1548 - accuracy: 0.059 - ETA: 5s - loss: 15.1527 - accuracy: 0.059 - ETA: 5s - loss: 15.1562 - accuracy: 0.059 - ETA: 5s - loss: 15.1560 - accuracy: 0.059 - ETA: 5s - loss: 15.1558 - accuracy: 0.059 - ETA: 5s - loss: 15.1536 - accuracy: 0.059 - ETA: 5s - loss: 15.1478 - accuracy: 0.060 - ETA: 5s - loss: 15.1495 - accuracy: 0.060 - ETA: 5s - loss: 15.1512 - accuracy: 0.060 - ETA: 5s - loss: 15.1510 - accuracy: 0.060 - ETA: 5s - loss: 15.1509 - accuracy: 0.060 - ETA: 5s - loss: 15.1489 - accuracy: 0.060 - ETA: 4s - loss: 15.1540 - accuracy: 0.059 - ETA: 4s - loss: 15.1537 - accuracy: 0.059 - ETA: 4s - loss: 15.1518 - accuracy: 0.060 - ETA: 4s - loss: 15.1534 - accuracy: 0.059812630/12630 [==============================] - ETA: 4s - loss: 15.1533 - accuracy: 0.059 - ETA: 4s - loss: 15.1567 - accuracy: 0.059 - ETA: 4s - loss: 15.1583 - accuracy: 0.059 - ETA: 4s - loss: 15.1564 - accuracy: 0.059 - ETA: 4s - loss: 15.1562 - accuracy: 0.059 - ETA: 4s - loss: 15.1595 - accuracy: 0.059 - ETA: 4s - loss: 15.1611 - accuracy: 0.059 - ETA: 4s - loss: 15.1592 - accuracy: 0.059 - ETA: 4s - loss: 15.1607 - accuracy: 0.059 - ETA: 4s - loss: 15.1606 - accuracy: 0.059 - ETA: 4s - loss: 15.1587 - accuracy: 0.059 - ETA: 4s - loss: 15.1602 - accuracy: 0.059 - ETA: 4s - loss: 15.1601 - accuracy: 0.059 - ETA: 4s - loss: 15.1616 - accuracy: 0.059 - ETA: 4s - loss: 15.1631 - accuracy: 0.059 - ETA: 4s - loss: 15.1629 - accuracy: 0.059 - ETA: 4s - loss: 15.1628 - accuracy: 0.059 - ETA: 4s - loss: 15.1643 - accuracy: 0.059 - ETA: 4s - loss: 15.1658 - accuracy: 0.059 - ETA: 4s - loss: 15.1672 - accuracy: 0.059 - ETA: 3s - loss: 15.1654 - accuracy: 0.059 - ETA: 3s - loss: 15.1652 - accuracy: 0.059 - ETA: 3s - loss: 15.1683 - accuracy: 0.058 - ETA: 3s - loss: 15.1681 - accuracy: 0.058 - ETA: 3s - loss: 15.1712 - accuracy: 0.058 - ETA: 3s - loss: 15.1710 - accuracy: 0.058 - ETA: 3s - loss: 15.1741 - accuracy: 0.058 - ETA: 3s - loss: 15.1755 - accuracy: 0.058 - ETA: 3s - loss: 15.1735 - accuracy: 0.058 - ETA: 3s - loss: 15.1717 - accuracy: 0.058 - ETA: 3s - loss: 15.1747 - accuracy: 0.058 - ETA: 3s - loss: 15.1777 - accuracy: 0.058 - ETA: 3s - loss: 15.1806 - accuracy: 0.058 - ETA: 3s - loss: 15.1818 - accuracy: 0.058 - ETA: 3s - loss: 15.1813 - accuracy: 0.058 - ETA: 3s - loss: 15.1871 - accuracy: 0.057 - ETA: 3s - loss: 15.1898 - accuracy: 0.057 - ETA: 2s - loss: 15.1908 - accuracy: 0.057 - ETA: 2s - loss: 15.1888 - accuracy: 0.057 - ETA: 2s - loss: 15.1883 - accuracy: 0.057 - ETA: 2s - loss: 15.1909 - accuracy: 0.057 - ETA: 2s - loss: 15.1904 - accuracy: 0.057 - ETA: 2s - loss: 15.1944 - accuracy: 0.057 - ETA: 2s - loss: 15.1924 - accuracy: 0.057 - ETA: 2s - loss: 15.1905 - accuracy: 0.057 - ETA: 2s - loss: 15.1900 - accuracy: 0.057 - ETA: 2s - loss: 15.1925 - accuracy: 0.057 - ETA: 2s - loss: 15.1906 - accuracy: 0.057 - ETA: 1s - loss: 15.1887 - accuracy: 0.057 - ETA: 1s - loss: 15.1896 - accuracy: 0.057 - ETA: 1s - loss: 15.1921 - accuracy: 0.057 - ETA: 1s - loss: 15.1930 - accuracy: 0.057 - ETA: 1s - loss: 15.1897 - accuracy: 0.057 - ETA: 1s - loss: 15.1879 - accuracy: 0.057 - ETA: 1s - loss: 15.1875 - accuracy: 0.057 - ETA: 1s - loss: 15.1898 - accuracy: 0.057 - ETA: 1s - loss: 15.1908 - accuracy: 0.057 - ETA: 1s - loss: 15.1917 - accuracy: 0.057 - ETA: 1s - loss: 15.1899 - accuracy: 0.057 - ETA: 1s - loss: 15.1895 - accuracy: 0.057 - ETA: 0s - loss: 15.1931 - accuracy: 0.057 - ETA: 0s - loss: 15.1940 - accuracy: 0.057 - ETA: 0s - loss: 15.1922 - accuracy: 0.057 - ETA: 0s - loss: 15.1931 - accuracy: 0.057 - ETA: 0s - loss: 15.1900 - accuracy: 0.057 - ETA: 0s - loss: 15.1883 - accuracy: 0.057 - ETA: 0s - loss: 15.1866 - accuracy: 0.057 - ETA: 0s - loss: 15.1888 - accuracy: 0.057 - ETA: 0s - loss: 15.1936 - accuracy: 0.057 - ETA: 0s - loss: 15.1919 - accuracy: 0.057 - ETA: 0s - loss: 15.1953 - accuracy: 0.057 - 19s 1ms/sample - loss: 15.1993 - accuracy: 0.0570 - val_loss: 15.2409 - val_accuracy: 0.0545\n",
      "Epoch 3/4\n",
      "11360/12630 [=========================>....] - ETA: 17s - loss: 15.6144 - accuracy: 0.03 - ETA: 15s - loss: 15.1107 - accuracy: 0.06 - ETA: 15s - loss: 15.2115 - accuracy: 0.05 - ETA: 14s - loss: 15.3985 - accuracy: 0.04 - ETA: 14s - loss: 15.5025 - accuracy: 0.03 - ETA: 14s - loss: 15.3397 - accuracy: 0.04 - ETA: 14s - loss: 15.3044 - accuracy: 0.05 - ETA: 14s - loss: 15.2786 - accuracy: 0.05 - ETA: 14s - loss: 15.2292 - accuracy: 0.05 - ETA: 14s - loss: 15.2963 - accuracy: 0.05 - ETA: 14s - loss: 15.3122 - accuracy: 0.05 - ETA: 14s - loss: 15.3266 - accuracy: 0.04 - ETA: 15s - loss: 15.3626 - accuracy: 0.04 - ETA: 15s - loss: 15.3516 - accuracy: 0.04 - ETA: 15s - loss: 15.3416 - accuracy: 0.04 - ETA: 15s - loss: 15.3323 - accuracy: 0.04 - ETA: 15s - loss: 15.3346 - accuracy: 0.04 - ETA: 15s - loss: 15.3018 - accuracy: 0.05 - ETA: 15s - loss: 15.3219 - accuracy: 0.04 - ETA: 15s - loss: 15.2996 - accuracy: 0.05 - ETA: 15s - loss: 15.3244 - accuracy: 0.04 - ETA: 15s - loss: 15.2978 - accuracy: 0.05 - ETA: 15s - loss: 15.3066 - accuracy: 0.05 - ETA: 15s - loss: 15.3149 - accuracy: 0.04 - ETA: 15s - loss: 15.3228 - accuracy: 0.04 - ETA: 15s - loss: 15.3174 - accuracy: 0.04 - ETA: 15s - loss: 15.3248 - accuracy: 0.04 - ETA: 15s - loss: 15.3196 - accuracy: 0.04 - ETA: 15s - loss: 15.3216 - accuracy: 0.04 - ETA: 15s - loss: 15.3397 - accuracy: 0.04 - ETA: 15s - loss: 15.3346 - accuracy: 0.04 - ETA: 15s - loss: 15.3358 - accuracy: 0.04 - ETA: 15s - loss: 15.3266 - accuracy: 0.04 - ETA: 15s - loss: 15.3181 - accuracy: 0.04 - ETA: 14s - loss: 15.2913 - accuracy: 0.05 - ETA: 14s - loss: 15.2939 - accuracy: 0.05 - ETA: 14s - loss: 15.3051 - accuracy: 0.05 - ETA: 14s - loss: 15.2815 - accuracy: 0.05 - ETA: 13s - loss: 15.2676 - accuracy: 0.05 - ETA: 13s - loss: 15.2706 - accuracy: 0.05 - ETA: 13s - loss: 15.2502 - accuracy: 0.05 - ETA: 13s - loss: 15.2460 - accuracy: 0.05 - ETA: 13s - loss: 15.2713 - accuracy: 0.05 - ETA: 13s - loss: 15.2597 - accuracy: 0.05 - ETA: 12s - loss: 15.2418 - accuracy: 0.05 - ETA: 12s - loss: 15.2383 - accuracy: 0.05 - ETA: 12s - loss: 15.2219 - accuracy: 0.05 - ETA: 12s - loss: 15.2319 - accuracy: 0.05 - ETA: 12s - loss: 15.2413 - accuracy: 0.05 - ETA: 12s - loss: 15.2564 - accuracy: 0.05 - ETA: 12s - loss: 15.2529 - accuracy: 0.05 - ETA: 11s - loss: 15.2612 - accuracy: 0.05 - ETA: 11s - loss: 15.2692 - accuracy: 0.05 - ETA: 11s - loss: 15.2712 - accuracy: 0.05 - ETA: 11s - loss: 15.2732 - accuracy: 0.05 - ETA: 11s - loss: 15.2751 - accuracy: 0.05 - ETA: 11s - loss: 15.2613 - accuracy: 0.05 - ETA: 11s - loss: 15.2634 - accuracy: 0.05 - ETA: 11s - loss: 15.2653 - accuracy: 0.05 - ETA: 10s - loss: 15.2525 - accuracy: 0.05 - ETA: 10s - loss: 15.2594 - accuracy: 0.05 - ETA: 10s - loss: 15.2661 - accuracy: 0.05 - ETA: 10s - loss: 15.2725 - accuracy: 0.05 - ETA: 10s - loss: 15.2650 - accuracy: 0.05 - ETA: 10s - loss: 15.2712 - accuracy: 0.05 - ETA: 10s - loss: 15.2596 - accuracy: 0.05 - ETA: 10s - loss: 15.2657 - accuracy: 0.05 - ETA: 10s - loss: 15.2504 - accuracy: 0.05 - ETA: 9s - loss: 15.2564 - accuracy: 0.0535 - ETA: 9s - loss: 15.2663 - accuracy: 0.052 - ETA: 9s - loss: 15.2679 - accuracy: 0.052 - ETA: 9s - loss: 15.2733 - accuracy: 0.052 - ETA: 9s - loss: 15.2708 - accuracy: 0.052 - ETA: 9s - loss: 15.2684 - accuracy: 0.052 - ETA: 9s - loss: 15.2774 - accuracy: 0.052 - ETA: 9s - loss: 15.2674 - accuracy: 0.052 - ETA: 9s - loss: 15.2651 - accuracy: 0.052 - ETA: 9s - loss: 15.2738 - accuracy: 0.052 - ETA: 9s - loss: 15.2750 - accuracy: 0.052 - ETA: 8s - loss: 15.2692 - accuracy: 0.052 - ETA: 8s - loss: 15.2740 - accuracy: 0.052 - ETA: 8s - loss: 15.2718 - accuracy: 0.052 - ETA: 8s - loss: 15.2696 - accuracy: 0.052 - ETA: 8s - loss: 15.2675 - accuracy: 0.052 - ETA: 8s - loss: 15.2786 - accuracy: 0.052 - ETA: 8s - loss: 15.2797 - accuracy: 0.052 - ETA: 8s - loss: 15.2808 - accuracy: 0.052 - ETA: 8s - loss: 15.2786 - accuracy: 0.052 - ETA: 8s - loss: 15.2859 - accuracy: 0.051 - ETA: 8s - loss: 15.2683 - accuracy: 0.052 - ETA: 8s - loss: 15.2695 - accuracy: 0.052 - ETA: 7s - loss: 15.2645 - accuracy: 0.053 - ETA: 7s - loss: 15.2687 - accuracy: 0.052 - ETA: 7s - loss: 15.2668 - accuracy: 0.052 - ETA: 7s - loss: 15.2650 - accuracy: 0.052 - ETA: 7s - loss: 15.2633 - accuracy: 0.053 - ETA: 7s - loss: 15.2587 - accuracy: 0.053 - ETA: 7s - loss: 15.2599 - accuracy: 0.053 - ETA: 7s - loss: 15.2610 - accuracy: 0.053 - ETA: 7s - loss: 15.2538 - accuracy: 0.053 - ETA: 7s - loss: 15.2550 - accuracy: 0.053 - ETA: 7s - loss: 15.2481 - accuracy: 0.054 - ETA: 7s - loss: 15.2466 - accuracy: 0.054 - ETA: 7s - loss: 15.2505 - accuracy: 0.053 - ETA: 6s - loss: 15.2464 - accuracy: 0.054 - ETA: 6s - loss: 15.2450 - accuracy: 0.054 - ETA: 6s - loss: 15.2411 - accuracy: 0.054 - ETA: 6s - loss: 15.2373 - accuracy: 0.054 - ETA: 6s - loss: 15.2385 - accuracy: 0.054 - ETA: 6s - loss: 15.2373 - accuracy: 0.054 - ETA: 6s - loss: 15.2409 - accuracy: 0.054 - ETA: 6s - loss: 15.2348 - accuracy: 0.054 - ETA: 6s - loss: 15.2360 - accuracy: 0.054 - ETA: 6s - loss: 15.2325 - accuracy: 0.054 - ETA: 6s - loss: 15.2266 - accuracy: 0.055 - ETA: 6s - loss: 15.2279 - accuracy: 0.055 - ETA: 6s - loss: 15.2291 - accuracy: 0.055 - ETA: 5s - loss: 15.2349 - accuracy: 0.054 - ETA: 5s - loss: 15.2315 - accuracy: 0.055 - ETA: 5s - loss: 15.2372 - accuracy: 0.054 - ETA: 5s - loss: 15.2361 - accuracy: 0.054 - ETA: 5s - loss: 15.2350 - accuracy: 0.054 - ETA: 5s - loss: 15.2317 - accuracy: 0.055 - ETA: 5s - loss: 15.2285 - accuracy: 0.055 - ETA: 5s - loss: 15.2145 - accuracy: 0.056 - ETA: 5s - loss: 15.2093 - accuracy: 0.056 - ETA: 5s - loss: 15.1979 - accuracy: 0.057 - ETA: 5s - loss: 15.1971 - accuracy: 0.057 - ETA: 5s - loss: 15.2027 - accuracy: 0.056 - ETA: 5s - loss: 15.1957 - accuracy: 0.057 - ETA: 5s - loss: 15.1888 - accuracy: 0.057 - ETA: 4s - loss: 15.1841 - accuracy: 0.057 - ETA: 4s - loss: 15.1835 - accuracy: 0.058 - ETA: 4s - loss: 15.1850 - accuracy: 0.057 - ETA: 4s - loss: 15.1884 - accuracy: 0.057 - ETA: 4s - loss: 15.1878 - accuracy: 0.057 - ETA: 4s - loss: 15.1930 - accuracy: 0.057 - ETA: 4s - loss: 15.1905 - accuracy: 0.057 - ETA: 4s - loss: 15.1937 - accuracy: 0.057 - ETA: 4s - loss: 15.2007 - accuracy: 0.056 - ETA: 4s - loss: 15.2039 - accuracy: 0.056 - ETA: 4s - loss: 15.2032 - accuracy: 0.056 - ETA: 4s - loss: 15.1950 - accuracy: 0.057 - ETA: 4s - loss: 15.1906 - accuracy: 0.057 - ETA: 4s - loss: 15.1937 - accuracy: 0.057 - ETA: 3s - loss: 15.1931 - accuracy: 0.057 - ETA: 3s - loss: 15.1907 - accuracy: 0.057 - ETA: 3s - loss: 15.1920 - accuracy: 0.057 - ETA: 3s - loss: 15.1914 - accuracy: 0.057 - ETA: 3s - loss: 15.1926 - accuracy: 0.057 - ETA: 3s - loss: 15.1938 - accuracy: 0.057 - ETA: 3s - loss: 15.1915 - accuracy: 0.057 - ETA: 3s - loss: 15.1909 - accuracy: 0.057 - ETA: 3s - loss: 15.1851 - accuracy: 0.057 - ETA: 3s - loss: 15.1898 - accuracy: 0.057 - ETA: 3s - loss: 15.1910 - accuracy: 0.057 - ETA: 3s - loss: 15.1921 - accuracy: 0.057 - ETA: 3s - loss: 15.1933 - accuracy: 0.057 - ETA: 3s - loss: 15.1944 - accuracy: 0.057 - ETA: 3s - loss: 15.1955 - accuracy: 0.057 - ETA: 2s - loss: 15.1966 - accuracy: 0.057 - ETA: 2s - loss: 15.1944 - accuracy: 0.057 - ETA: 2s - loss: 15.1906 - accuracy: 0.057 - ETA: 2s - loss: 15.1901 - accuracy: 0.057 - ETA: 2s - loss: 15.1912 - accuracy: 0.057 - ETA: 2s - loss: 15.1891 - accuracy: 0.057 - ETA: 2s - loss: 15.1902 - accuracy: 0.057 - ETA: 2s - loss: 15.1928 - accuracy: 0.057 - ETA: 2s - loss: 15.1907 - accuracy: 0.057 - ETA: 2s - loss: 15.1887 - accuracy: 0.057 - ETA: 2s - loss: 15.1882 - accuracy: 0.057 - ETA: 2s - loss: 15.1847 - accuracy: 0.057 - ETA: 2s - loss: 15.1796 - accuracy: 0.058 - ETA: 2s - loss: 15.1807 - accuracy: 0.058 - ETA: 2s - loss: 15.1788 - accuracy: 0.058 - ETA: 1s - loss: 15.1799 - accuracy: 0.058 - ETA: 1s - loss: 15.1825 - accuracy: 0.058 - ETA: 1s - loss: 15.1776 - accuracy: 0.058 - ETA: 1s - loss: 15.1801 - accuracy: 0.058 - ETA: 1s - loss: 15.1753 - accuracy: 0.058 - ETA: 1s - loss: 15.1735 - accuracy: 0.058 - ETA: 1s - loss: 15.1717 - accuracy: 0.058 - ETA: 1s - loss: 15.1728 - accuracy: 0.058 - ETA: 1s - loss: 15.1724 - accuracy: 0.058 - ETA: 1s - loss: 15.1778 - accuracy: 0.058 - ETA: 1s - loss: 15.1788 - accuracy: 0.058312630/12630 [==============================] - ETA: 1s - loss: 15.1827 - accuracy: 0.058 - ETA: 1s - loss: 15.1837 - accuracy: 0.058 - ETA: 1s - loss: 15.1819 - accuracy: 0.058 - ETA: 1s - loss: 15.1829 - accuracy: 0.058 - ETA: 0s - loss: 15.1852 - accuracy: 0.057 - ETA: 0s - loss: 15.1862 - accuracy: 0.057 - ETA: 0s - loss: 15.1885 - accuracy: 0.057 - ETA: 0s - loss: 15.1922 - accuracy: 0.057 - ETA: 0s - loss: 15.1917 - accuracy: 0.057 - ETA: 0s - loss: 15.1927 - accuracy: 0.057 - ETA: 0s - loss: 15.1949 - accuracy: 0.057 - ETA: 0s - loss: 15.1971 - accuracy: 0.057 - ETA: 0s - loss: 15.1980 - accuracy: 0.057 - ETA: 0s - loss: 15.2001 - accuracy: 0.057 - ETA: 0s - loss: 15.2010 - accuracy: 0.056 - ETA: 0s - loss: 15.1992 - accuracy: 0.057 - ETA: 0s - loss: 15.2014 - accuracy: 0.056 - ETA: 0s - loss: 15.1996 - accuracy: 0.057 - ETA: 0s - loss: 15.2017 - accuracy: 0.056 - 15s 1ms/sample - loss: 15.1993 - accuracy: 0.0570 - val_loss: 15.2409 - val_accuracy: 0.0545\n",
      "Epoch 4/4\n",
      " 9664/12630 [=====================>........] - ETA: 12s - loss: 14.6070 - accuracy: 0.09 - ETA: 11s - loss: 15.1107 - accuracy: 0.06 - ETA: 11s - loss: 14.7078 - accuracy: 0.08 - ETA: 11s - loss: 14.6070 - accuracy: 0.09 - ETA: 11s - loss: 14.8869 - accuracy: 0.07 - ETA: 11s - loss: 15.0191 - accuracy: 0.06 - ETA: 11s - loss: 15.0332 - accuracy: 0.06 - ETA: 11s - loss: 15.1107 - accuracy: 0.06 - ETA: 11s - loss: 15.0811 - accuracy: 0.06 - ETA: 11s - loss: 15.1372 - accuracy: 0.06 - ETA: 11s - loss: 15.1107 - accuracy: 0.06 - ETA: 11s - loss: 15.1107 - accuracy: 0.06 - ETA: 11s - loss: 15.0704 - accuracy: 0.06 - ETA: 11s - loss: 15.1107 - accuracy: 0.06 - ETA: 11s - loss: 15.1107 - accuracy: 0.06 - ETA: 11s - loss: 15.0945 - accuracy: 0.06 - ETA: 11s - loss: 15.1412 - accuracy: 0.06 - ETA: 11s - loss: 15.0963 - accuracy: 0.06 - ETA: 11s - loss: 15.0971 - accuracy: 0.06 - ETA: 11s - loss: 15.1107 - accuracy: 0.06 - ETA: 11s - loss: 15.1476 - accuracy: 0.06 - ETA: 10s - loss: 15.1459 - accuracy: 0.06 - ETA: 10s - loss: 15.1443 - accuracy: 0.06 - ETA: 10s - loss: 15.1536 - accuracy: 0.05 - ETA: 10s - loss: 15.1621 - accuracy: 0.05 - ETA: 10s - loss: 15.1700 - accuracy: 0.05 - ETA: 10s - loss: 15.1487 - accuracy: 0.06 - ETA: 10s - loss: 15.1565 - accuracy: 0.05 - ETA: 10s - loss: 15.1372 - accuracy: 0.06 - ETA: 10s - loss: 15.1363 - accuracy: 0.06 - ETA: 10s - loss: 15.1355 - accuracy: 0.06 - ETA: 10s - loss: 15.1507 - accuracy: 0.06 - ETA: 10s - loss: 15.1417 - accuracy: 0.06 - ETA: 10s - loss: 15.1483 - accuracy: 0.06 - ETA: 10s - loss: 15.1545 - accuracy: 0.05 - ETA: 10s - loss: 15.1675 - accuracy: 0.05 - ETA: 9s - loss: 15.1797 - accuracy: 0.0582 - ETA: 9s - loss: 15.1846 - accuracy: 0.057 - ETA: 9s - loss: 15.1892 - accuracy: 0.057 - ETA: 9s - loss: 15.1681 - accuracy: 0.058 - ETA: 9s - loss: 15.1605 - accuracy: 0.059 - ETA: 9s - loss: 15.1593 - accuracy: 0.059 - ETA: 9s - loss: 15.1581 - accuracy: 0.059 - ETA: 9s - loss: 15.1686 - accuracy: 0.058 - ETA: 9s - loss: 15.1560 - accuracy: 0.059 - ETA: 9s - loss: 15.1550 - accuracy: 0.059 - ETA: 9s - loss: 15.1486 - accuracy: 0.060 - ETA: 9s - loss: 15.1425 - accuracy: 0.060 - ETA: 9s - loss: 15.1419 - accuracy: 0.060 - ETA: 9s - loss: 15.1412 - accuracy: 0.060 - ETA: 9s - loss: 15.1506 - accuracy: 0.060 - ETA: 9s - loss: 15.1645 - accuracy: 0.059 - ETA: 9s - loss: 15.1635 - accuracy: 0.059 - ETA: 8s - loss: 15.1719 - accuracy: 0.058 - ETA: 8s - loss: 15.1708 - accuracy: 0.058 - ETA: 8s - loss: 15.1879 - accuracy: 0.057 - ETA: 8s - loss: 15.1999 - accuracy: 0.057 - ETA: 8s - loss: 15.1852 - accuracy: 0.057 - ETA: 8s - loss: 15.1796 - accuracy: 0.058 - ETA: 8s - loss: 15.1784 - accuracy: 0.058 - ETA: 8s - loss: 15.1856 - accuracy: 0.057 - ETA: 8s - loss: 15.1885 - accuracy: 0.057 - ETA: 8s - loss: 15.1920 - accuracy: 0.057 - ETA: 8s - loss: 15.1913 - accuracy: 0.057 - ETA: 8s - loss: 15.1987 - accuracy: 0.057 - ETA: 8s - loss: 15.1940 - accuracy: 0.057 - ETA: 8s - loss: 15.1973 - accuracy: 0.057 - ETA: 8s - loss: 15.1927 - accuracy: 0.057 - ETA: 8s - loss: 15.1960 - accuracy: 0.057 - ETA: 8s - loss: 15.1992 - accuracy: 0.057 - ETA: 8s - loss: 15.1947 - accuracy: 0.057 - ETA: 8s - loss: 15.1978 - accuracy: 0.057 - ETA: 8s - loss: 15.1972 - accuracy: 0.057 - ETA: 8s - loss: 15.2040 - accuracy: 0.056 - ETA: 8s - loss: 15.2033 - accuracy: 0.056 - ETA: 8s - loss: 15.2056 - accuracy: 0.056 - ETA: 8s - loss: 15.2013 - accuracy: 0.056 - ETA: 8s - loss: 15.2079 - accuracy: 0.056 - ETA: 8s - loss: 15.2107 - accuracy: 0.056 - ETA: 8s - loss: 15.2100 - accuracy: 0.056 - ETA: 8s - loss: 15.2093 - accuracy: 0.056 - ETA: 8s - loss: 15.2052 - accuracy: 0.056 - ETA: 8s - loss: 15.2073 - accuracy: 0.056 - ETA: 8s - loss: 15.1964 - accuracy: 0.057 - ETA: 8s - loss: 15.1958 - accuracy: 0.057 - ETA: 8s - loss: 15.1952 - accuracy: 0.057 - ETA: 8s - loss: 15.1947 - accuracy: 0.057 - ETA: 8s - loss: 15.2008 - accuracy: 0.056 - ETA: 8s - loss: 15.2068 - accuracy: 0.056 - ETA: 8s - loss: 15.2029 - accuracy: 0.056 - ETA: 8s - loss: 15.1952 - accuracy: 0.057 - ETA: 8s - loss: 15.1979 - accuracy: 0.057 - ETA: 8s - loss: 15.2038 - accuracy: 0.056 - ETA: 8s - loss: 15.2000 - accuracy: 0.057 - ETA: 8s - loss: 15.1989 - accuracy: 0.057 - ETA: 8s - loss: 15.2009 - accuracy: 0.056 - ETA: 8s - loss: 15.2003 - accuracy: 0.056 - ETA: 8s - loss: 15.2054 - accuracy: 0.056 - ETA: 8s - loss: 15.1957 - accuracy: 0.057 - ETA: 8s - loss: 15.1982 - accuracy: 0.057 - ETA: 8s - loss: 15.1977 - accuracy: 0.057 - ETA: 8s - loss: 15.1907 - accuracy: 0.057 - ETA: 8s - loss: 15.1956 - accuracy: 0.057 - ETA: 8s - loss: 15.1947 - accuracy: 0.057 - ETA: 8s - loss: 15.1994 - accuracy: 0.057 - ETA: 8s - loss: 15.1871 - accuracy: 0.057 - ETA: 8s - loss: 15.1919 - accuracy: 0.057 - ETA: 7s - loss: 15.1965 - accuracy: 0.057 - ETA: 7s - loss: 15.1983 - accuracy: 0.057 - ETA: 7s - loss: 15.1893 - accuracy: 0.057 - ETA: 7s - loss: 15.1911 - accuracy: 0.057 - ETA: 7s - loss: 15.1902 - accuracy: 0.057 - ETA: 7s - loss: 15.1947 - accuracy: 0.057 - ETA: 7s - loss: 15.1912 - accuracy: 0.057 - ETA: 7s - loss: 15.1827 - accuracy: 0.058 - ETA: 7s - loss: 15.1845 - accuracy: 0.057 - ETA: 7s - loss: 15.1888 - accuracy: 0.057 - ETA: 7s - loss: 15.1905 - accuracy: 0.057 - ETA: 7s - loss: 15.1922 - accuracy: 0.057 - ETA: 6s - loss: 15.1890 - accuracy: 0.057 - ETA: 6s - loss: 15.1931 - accuracy: 0.057 - ETA: 6s - loss: 15.1899 - accuracy: 0.057 - ETA: 6s - loss: 15.1915 - accuracy: 0.057 - ETA: 6s - loss: 15.1860 - accuracy: 0.057 - ETA: 6s - loss: 15.1923 - accuracy: 0.057 - ETA: 6s - loss: 15.1847 - accuracy: 0.057 - ETA: 6s - loss: 15.1840 - accuracy: 0.058 - ETA: 6s - loss: 15.1811 - accuracy: 0.058 - ETA: 6s - loss: 15.1804 - accuracy: 0.058 - ETA: 6s - loss: 15.1731 - accuracy: 0.058 - ETA: 6s - loss: 15.1704 - accuracy: 0.058 - ETA: 5s - loss: 15.1698 - accuracy: 0.058 - ETA: 5s - loss: 15.1672 - accuracy: 0.059 - ETA: 5s - loss: 15.1667 - accuracy: 0.059 - ETA: 5s - loss: 15.1747 - accuracy: 0.058 - ETA: 5s - loss: 15.1742 - accuracy: 0.058 - ETA: 5s - loss: 15.1737 - accuracy: 0.058 - ETA: 5s - loss: 15.1755 - accuracy: 0.058 - ETA: 5s - loss: 15.1773 - accuracy: 0.058 - ETA: 5s - loss: 15.1726 - accuracy: 0.058 - ETA: 5s - loss: 15.1721 - accuracy: 0.058 - ETA: 5s - loss: 15.1760 - accuracy: 0.058 - ETA: 5s - loss: 15.1757 - accuracy: 0.058 - ETA: 5s - loss: 15.1734 - accuracy: 0.058 - ETA: 5s - loss: 15.1772 - accuracy: 0.058 - ETA: 5s - loss: 15.1789 - accuracy: 0.058 - ETA: 5s - loss: 15.1827 - accuracy: 0.058 - ETA: 5s - loss: 15.1844 - accuracy: 0.057 - ETA: 5s - loss: 15.1821 - accuracy: 0.058 - ETA: 5s - loss: 15.1838 - accuracy: 0.058 - ETA: 5s - loss: 15.1816 - accuracy: 0.058 - ETA: 5s - loss: 15.1830 - accuracy: 0.058 - ETA: 5s - loss: 15.1866 - accuracy: 0.057 - ETA: 5s - loss: 15.1882 - accuracy: 0.057 - ETA: 5s - loss: 15.1860 - accuracy: 0.057 - ETA: 4s - loss: 15.1857 - accuracy: 0.057 - ETA: 4s - loss: 15.1870 - accuracy: 0.057 - ETA: 4s - loss: 15.1886 - accuracy: 0.057 - ETA: 4s - loss: 15.1884 - accuracy: 0.057 - ETA: 4s - loss: 15.1900 - accuracy: 0.057 - ETA: 4s - loss: 15.1894 - accuracy: 0.057 - ETA: 4s - loss: 15.1872 - accuracy: 0.057 - ETA: 4s - loss: 15.1869 - accuracy: 0.057 - ETA: 4s - loss: 15.1848 - accuracy: 0.057 - ETA: 4s - loss: 15.1882 - accuracy: 0.057 - ETA: 4s - loss: 15.1861 - accuracy: 0.057 - ETA: 4s - loss: 15.1876 - accuracy: 0.057 - ETA: 4s - loss: 15.1871 - accuracy: 0.057 - ETA: 4s - loss: 15.1793 - accuracy: 0.058 - ETA: 4s - loss: 15.1770 - accuracy: 0.058 - ETA: 4s - loss: 15.1784 - accuracy: 0.058 - ETA: 4s - loss: 15.1763 - accuracy: 0.058 - ETA: 4s - loss: 15.1796 - accuracy: 0.058 - ETA: 4s - loss: 15.1776 - accuracy: 0.058 - ETA: 4s - loss: 15.1809 - accuracy: 0.058 - ETA: 4s - loss: 15.1824 - accuracy: 0.058 - ETA: 4s - loss: 15.1857 - accuracy: 0.057 - ETA: 4s - loss: 15.1871 - accuracy: 0.057 - ETA: 3s - loss: 15.1883 - accuracy: 0.057 - ETA: 3s - loss: 15.1881 - accuracy: 0.057 - ETA: 3s - loss: 15.1895 - accuracy: 0.057 - ETA: 3s - loss: 15.1893 - accuracy: 0.057 - ETA: 3s - loss: 15.1890 - accuracy: 0.057 - ETA: 3s - loss: 15.1919 - accuracy: 0.057 - ETA: 3s - loss: 15.1913 - accuracy: 0.057 - ETA: 3s - loss: 15.1891 - accuracy: 0.057612630/12630 [==============================] - ETA: 3s - loss: 15.1869 - accuracy: 0.057 - ETA: 3s - loss: 15.1914 - accuracy: 0.057 - ETA: 3s - loss: 15.1958 - accuracy: 0.057 - ETA: 3s - loss: 15.2017 - accuracy: 0.056 - ETA: 3s - loss: 15.1995 - accuracy: 0.057 - ETA: 3s - loss: 15.2006 - accuracy: 0.056 - ETA: 3s - loss: 15.2000 - accuracy: 0.057 - ETA: 2s - loss: 15.2010 - accuracy: 0.056 - ETA: 2s - loss: 15.2052 - accuracy: 0.056 - ETA: 2s - loss: 15.2061 - accuracy: 0.056 - ETA: 2s - loss: 15.2087 - accuracy: 0.056 - ETA: 2s - loss: 15.2065 - accuracy: 0.056 - ETA: 2s - loss: 15.2029 - accuracy: 0.056 - ETA: 2s - loss: 15.2023 - accuracy: 0.056 - ETA: 2s - loss: 15.2063 - accuracy: 0.056 - ETA: 2s - loss: 15.2072 - accuracy: 0.056 - ETA: 2s - loss: 15.2082 - accuracy: 0.056 - ETA: 2s - loss: 15.2091 - accuracy: 0.056 - ETA: 2s - loss: 15.2055 - accuracy: 0.056 - ETA: 2s - loss: 15.2079 - accuracy: 0.056 - ETA: 1s - loss: 15.2088 - accuracy: 0.056 - ETA: 1s - loss: 15.2068 - accuracy: 0.056 - ETA: 1s - loss: 15.2077 - accuracy: 0.056 - ETA: 1s - loss: 15.2086 - accuracy: 0.056 - ETA: 1s - loss: 15.2080 - accuracy: 0.056 - ETA: 1s - loss: 15.2103 - accuracy: 0.056 - ETA: 1s - loss: 15.2069 - accuracy: 0.056 - ETA: 1s - loss: 15.2050 - accuracy: 0.056 - ETA: 1s - loss: 15.2031 - accuracy: 0.056 - ETA: 1s - loss: 15.2012 - accuracy: 0.056 - ETA: 1s - loss: 15.1993 - accuracy: 0.057 - ETA: 1s - loss: 15.1988 - accuracy: 0.057 - ETA: 1s - loss: 15.2011 - accuracy: 0.056 - ETA: 0s - loss: 15.2019 - accuracy: 0.056 - ETA: 0s - loss: 15.2055 - accuracy: 0.056 - ETA: 0s - loss: 15.2036 - accuracy: 0.056 - ETA: 0s - loss: 15.2032 - accuracy: 0.056 - ETA: 0s - loss: 15.2027 - accuracy: 0.056 - ETA: 0s - loss: 15.2022 - accuracy: 0.056 - ETA: 0s - loss: 15.2057 - accuracy: 0.056 - ETA: 0s - loss: 15.2091 - accuracy: 0.056 - ETA: 0s - loss: 15.2060 - accuracy: 0.056 - ETA: 0s - loss: 15.2029 - accuracy: 0.056 - ETA: 0s - loss: 15.1998 - accuracy: 0.057 - ETA: 0s - loss: 15.1994 - accuracy: 0.057 - ETA: 0s - loss: 15.2002 - accuracy: 0.056 - 16s 1ms/sample - loss: 15.1993 - accuracy: 0.0570 - val_loss: 15.2409 - val_accuracy: 0.0545\n"
     ]
    },
    {
     "data": {
      "text/html": [
       "<span style=\"color:#4527A0\"><h1 style=\"font-size:18px\">Trial complete</h1></span>"
      ],
      "text/plain": [
       "<IPython.core.display.HTML object>"
      ]
     },
     "metadata": {},
     "output_type": "display_data"
    },
    {
     "data": {
      "text/html": [
       "<span style=\"color:#4527A0\"><h1 style=\"font-size:18px\">Trial summary</h1></span>"
      ],
      "text/plain": [
       "<IPython.core.display.HTML object>"
      ]
     },
     "metadata": {},
     "output_type": "display_data"
    },
    {
     "data": {
      "text/html": [
       "<span style=\"color:cyan\"> |-Trial ID: 77db4075014f9696b2dc6261587f6085</span>"
      ],
      "text/plain": [
       "<IPython.core.display.HTML object>"
      ]
     },
     "metadata": {},
     "output_type": "display_data"
    },
    {
     "data": {
      "text/html": [
       "<span style=\"color:cyan\"> |-Score: 0.05448199436068535</span>"
      ],
      "text/plain": [
       "<IPython.core.display.HTML object>"
      ]
     },
     "metadata": {},
     "output_type": "display_data"
    },
    {
     "data": {
      "text/html": [
       "<span style=\"color:cyan\"> |-Best step: 0</span>"
      ],
      "text/plain": [
       "<IPython.core.display.HTML object>"
      ]
     },
     "metadata": {},
     "output_type": "display_data"
    },
    {
     "data": {
      "text/html": [
       "<span style=\"color:#7E57C2\"><h2 style=\"font-size:16px\">Hyperparameters:</h2></span>"
      ],
      "text/plain": [
       "<IPython.core.display.HTML object>"
      ]
     },
     "metadata": {},
     "output_type": "display_data"
    },
    {
     "data": {
      "text/html": [
       "<span style=\"color:cyan\"> |-conv_1_filter: 80</span>"
      ],
      "text/plain": [
       "<IPython.core.display.HTML object>"
      ]
     },
     "metadata": {},
     "output_type": "display_data"
    },
    {
     "data": {
      "text/html": [
       "<span style=\"color:blue\"> |-conv_1_kernel: 3</span>"
      ],
      "text/plain": [
       "<IPython.core.display.HTML object>"
      ]
     },
     "metadata": {},
     "output_type": "display_data"
    },
    {
     "data": {
      "text/html": [
       "<span style=\"color:cyan\"> |-conv_2_filter: 64</span>"
      ],
      "text/plain": [
       "<IPython.core.display.HTML object>"
      ]
     },
     "metadata": {},
     "output_type": "display_data"
    },
    {
     "data": {
      "text/html": [
       "<span style=\"color:blue\"> |-conv_2_kernel: 5</span>"
      ],
      "text/plain": [
       "<IPython.core.display.HTML object>"
      ]
     },
     "metadata": {},
     "output_type": "display_data"
    },
    {
     "data": {
      "text/html": [
       "<span style=\"color:cyan\"> |-conv_3_filter: 64</span>"
      ],
      "text/plain": [
       "<IPython.core.display.HTML object>"
      ]
     },
     "metadata": {},
     "output_type": "display_data"
    },
    {
     "data": {
      "text/html": [
       "<span style=\"color:blue\"> |-conv_4_filter: 112</span>"
      ],
      "text/plain": [
       "<IPython.core.display.HTML object>"
      ]
     },
     "metadata": {},
     "output_type": "display_data"
    },
    {
     "data": {
      "text/html": [
       "<span style=\"color:cyan\"> |-d1: 0.001</span>"
      ],
      "text/plain": [
       "<IPython.core.display.HTML object>"
      ]
     },
     "metadata": {},
     "output_type": "display_data"
    },
    {
     "data": {
      "text/html": [
       "<span style=\"color:blue\"> |-d2: 0.06742220825211269</span>"
      ],
      "text/plain": [
       "<IPython.core.display.HTML object>"
      ]
     },
     "metadata": {},
     "output_type": "display_data"
    },
    {
     "data": {
      "text/html": [
       "<span style=\"color:cyan\"> |-d3: 0.09632651366804722</span>"
      ],
      "text/plain": [
       "<IPython.core.display.HTML object>"
      ]
     },
     "metadata": {},
     "output_type": "display_data"
    },
    {
     "data": {
      "text/html": [
       "<span style=\"color:blue\"> |-d4: 0.06811664919472692</span>"
      ],
      "text/plain": [
       "<IPython.core.display.HTML object>"
      ]
     },
     "metadata": {},
     "output_type": "display_data"
    },
    {
     "data": {
      "text/html": [
       "<span style=\"color:cyan\"> |-dense_1_units: 40</span>"
      ],
      "text/plain": [
       "<IPython.core.display.HTML object>"
      ]
     },
     "metadata": {},
     "output_type": "display_data"
    },
    {
     "data": {
      "text/html": [
       "<span style=\"color:blue\"> |-dense_4_units: 176</span>"
      ],
      "text/plain": [
       "<IPython.core.display.HTML object>"
      ]
     },
     "metadata": {},
     "output_type": "display_data"
    },
    {
     "data": {
      "text/html": [
       "<span style=\"color:cyan\"> |-dense_5_units: 288</span>"
      ],
      "text/plain": [
       "<IPython.core.display.HTML object>"
      ]
     },
     "metadata": {},
     "output_type": "display_data"
    },
    {
     "data": {
      "text/html": [
       "<span style=\"color:blue\"> |-learning_rate: 0.1</span>"
      ],
      "text/plain": [
       "<IPython.core.display.HTML object>"
      ]
     },
     "metadata": {},
     "output_type": "display_data"
    },
    {
     "name": "stdout",
     "output_type": "stream",
     "text": [
      "INFO:tensorflow:Oracle triggered exit\n"
     ]
    }
   ],
   "source": [
    "#seaching hyper parameters for this using this module i.e modle will do backpropogation,frontpropogation and other \n",
    "# stuffs to carry on this model and find best parameter \n",
    "tuner_search.search(X_train,y_train,epochs=4,validation_data=(X_valid,y_valid))"
   ]
  },
  {
   "cell_type": "code",
   "execution_count": null,
   "metadata": {},
   "outputs": [],
   "source": []
  },
  {
   "cell_type": "code",
   "execution_count": 54,
   "metadata": {},
   "outputs": [
    {
     "name": "stdout",
     "output_type": "stream",
     "text": [
      "WARNING:tensorflow:Unresolved object in checkpoint: (root).optimizer.iter\n",
      "WARNING:tensorflow:Unresolved object in checkpoint: (root).optimizer.beta_1\n",
      "WARNING:tensorflow:Unresolved object in checkpoint: (root).optimizer.beta_2\n",
      "WARNING:tensorflow:Unresolved object in checkpoint: (root).optimizer.decay\n",
      "WARNING:tensorflow:Unresolved object in checkpoint: (root).optimizer.learning_rate\n",
      "WARNING:tensorflow:A checkpoint was restored (e.g. tf.train.Checkpoint.restore or tf.keras.Model.load_weights) but not all checkpointed values were used. See above for specific issues. Use expect_partial() on the load status object, e.g. tf.train.Checkpoint.restore(...).expect_partial(), to silence these warnings, or use assert_consumed() to make the check explicit. See https://www.tensorflow.org/guide/checkpoint#loading_mechanics for details.\n"
     ]
    }
   ],
   "source": [
    "model=tuner_search.get_best_models(num_models=1)[0]#using to get best model out of this"
   ]
  },
  {
   "cell_type": "code",
   "execution_count": 55,
   "metadata": {},
   "outputs": [],
   "source": [
    "a=model.predict_classes(X_test)"
   ]
  },
  {
   "cell_type": "code",
   "execution_count": 24,
   "metadata": {},
   "outputs": [],
   "source": [
    "from sklearn.metrics import accuracy_score"
   ]
  },
  {
   "cell_type": "markdown",
   "metadata": {},
   "source": [
    "# Here the matrics comes out to be an 3d matrices"
   ]
  },
  {
   "cell_type": "code",
   "execution_count": 57,
   "metadata": {},
   "outputs": [
    {
     "data": {
      "text/plain": [
       "array([[[42]],\n",
       "\n",
       "       [[41]],\n",
       "\n",
       "       [[41]],\n",
       "\n",
       "       ...,\n",
       "\n",
       "       [[25]],\n",
       "\n",
       "       [[25]],\n",
       "\n",
       "       [[25]]], dtype=int64)"
      ]
     },
     "execution_count": 57,
     "metadata": {},
     "output_type": "execute_result"
    }
   ],
   "source": [
    "a"
   ]
  },
  {
   "cell_type": "code",
   "execution_count": 59,
   "metadata": {},
   "outputs": [
    {
     "data": {
      "text/plain": [
       "array([41, 41, 41, ..., 25, 25, 25], dtype=uint8)"
      ]
     },
     "execution_count": 59,
     "metadata": {},
     "output_type": "execute_result"
    }
   ],
   "source": [
    "y_test"
   ]
  },
  {
   "cell_type": "code",
   "execution_count": 58,
   "metadata": {},
   "outputs": [
    {
     "data": {
      "text/plain": [
       "(34799,)"
      ]
     },
     "execution_count": 58,
     "metadata": {},
     "output_type": "execute_result"
    }
   ],
   "source": [
    "y_test.shape"
   ]
  },
  {
   "cell_type": "code",
   "execution_count": 43,
   "metadata": {},
   "outputs": [],
   "source": [
    "(b)=a"
   ]
  },
  {
   "cell_type": "code",
   "execution_count": 45,
   "metadata": {},
   "outputs": [
    {
     "data": {
      "text/plain": [
       "(34799, 1, 1)"
      ]
     },
     "execution_count": 45,
     "metadata": {},
     "output_type": "execute_result"
    }
   ],
   "source": [
    "a.shape"
   ]
  },
  {
   "cell_type": "code",
   "execution_count": 50,
   "metadata": {},
   "outputs": [],
   "source": [
    "b=a.ravel()\n"
   ]
  },
  {
   "cell_type": "code",
   "execution_count": 51,
   "metadata": {},
   "outputs": [
    {
     "data": {
      "text/plain": [
       "array([42, 41, 41, ..., 25, 25, 25], dtype=int64)"
      ]
     },
     "execution_count": 51,
     "metadata": {},
     "output_type": "execute_result"
    }
   ],
   "source": [
    "b"
   ]
  },
  {
   "cell_type": "code",
   "execution_count": 52,
   "metadata": {},
   "outputs": [
    {
     "data": {
      "text/plain": [
       "0.8466622604097819"
      ]
     },
     "execution_count": 52,
     "metadata": {},
     "output_type": "execute_result"
    }
   ],
   "source": [
    "accuracy_score(y_test,b)"
   ]
  },
  {
   "cell_type": "code",
   "execution_count": null,
   "metadata": {},
   "outputs": [],
   "source": []
  }
 ],
 "metadata": {
  "kernelspec": {
   "display_name": "Python 3",
   "language": "python",
   "name": "python3"
  },
  "language_info": {
   "codemirror_mode": {
    "name": "ipython",
    "version": 3
   },
   "file_extension": ".py",
   "mimetype": "text/x-python",
   "name": "python",
   "nbconvert_exporter": "python",
   "pygments_lexer": "ipython3",
   "version": "3.7.3"
  }
 },
 "nbformat": 4,
 "nbformat_minor": 2
}
