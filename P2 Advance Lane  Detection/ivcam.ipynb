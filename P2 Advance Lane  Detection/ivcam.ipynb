{
 "cells": [
  {
   "cell_type": "code",
   "execution_count": 2,
   "metadata": {},
   "outputs": [],
   "source": [
    "import cv2 as cv \n",
    "\n",
    "def testDevice(source):\n",
    "   cap = cv.VideoCapture(source) \n",
    "   if cap is None or not cap.isOpened():\n",
    "       print('Warning: unable to open video source: ', source)\n",
    "\n",
    "# testDevice(0) # no printout\n",
    "testDevice(1) "
   ]
  },
  {
   "cell_type": "code",
   "execution_count": 4,
   "metadata": {},
   "outputs": [],
   "source": [
    "# import the opencv library \n",
    "import cv2 \n",
    "\n",
    "\n",
    "# define a video capture object \n",
    "vid = cv2.VideoCapture(1) \n",
    "\n",
    "while(True): \n",
    "\t\n",
    "\t# Capture the video frame \n",
    "\t# by frame \n",
    "\tret, frame = vid.read() \n",
    "\n",
    "\t# Display the resulting frame \n",
    "\tcv2.imshow('frame', frame) \n",
    "\t\n",
    "\t# the 'q' button is set as the \n",
    "\t# quitting button you may use any \n",
    "\t# desired button of your choice \n",
    "\tif cv2.waitKey(1) & 0xFF == ord('q'): \n",
    "\t\tbreak\n",
    "\n",
    "# After the loop release the cap object \n",
    "vid.release() \n",
    "# Destroy all the windows \n",
    "cv2.destroyAllWindows() \n"
   ]
  },
  {
   "cell_type": "code",
   "execution_count": null,
   "metadata": {},
   "outputs": [],
   "source": [
    "import cv2 \n",
    "cap=cv2.VideoCapture(4)\n",
    "run=True\n",
    "while(run):\n",
    "    try:\n",
    "        ret,frame=cap.read()\n",
    "        cv2.imshow('frame',frame)\n",
    "        print(frame.shape)\n",
    "    except:\n",
    "        print(\"Source Error\")\n",
    "    if cv2.waitKey(1) & 0xFF == ord('q'):\n",
    "        run=False\n",
    "        break\n",
    "\n",
    "# After the loop release the cap object \n",
    "cap.release() \n",
    "# Destroy all the windows \n",
    "cv2.destroyAllWindows() "
   ]
  },
  {
   "cell_type": "markdown",
   "metadata": {},
   "source": [
    "#"
   ]
  }
 ],
 "metadata": {
  "kernelspec": {
   "display_name": "Python 3",
   "language": "python",
   "name": "python3"
  },
  "language_info": {
   "codemirror_mode": {
    "name": "ipython",
    "version": 3
   },
   "file_extension": ".py",
   "mimetype": "text/x-python",
   "name": "python",
   "nbconvert_exporter": "python",
   "pygments_lexer": "ipython3",
   "version": "3.7.6"
  }
 },
 "nbformat": 4,
 "nbformat_minor": 4
}
